{
 "cells": [
  {
   "cell_type": "markdown",
   "metadata": {},
   "source": [
    "## Python 1 Project\n",
    "#### IE MBD Apr 2024\n",
    "#### Group 4"
   ]
  },
  {
   "cell_type": "code",
   "execution_count": 1,
   "metadata": {},
   "outputs": [],
   "source": [
    "import pandas as pd"
   ]
  },
  {
   "cell_type": "code",
   "execution_count": null,
   "metadata": {},
   "outputs": [],
   "source": [
    "def read(path: str, db_config: dict = None):\n",
    "    \"\"\"\n",
    "    This function should read a filepath/DB and return a dataframe\n",
    "    \"\"\""
   ]
  },
  {
   "cell_type": "code",
   "execution_count": null,
   "metadata": {},
   "outputs": [],
   "source": [
    "def dataShape(df: pd.Dataframe) -> None:\n",
    "    \"\"\"\n",
    "    Examine the shape of the data, as well as relevant information\n",
    "    \"\"\"\n",
    "\n",
    "    df.info()\n",
    "    return"
   ]
  },
  {
   "cell_type": "code",
   "execution_count": null,
   "metadata": {},
   "outputs": [],
   "source": [
    "def nanCheck(df: pd.DataFrame) -> pd.DataFrame:\n",
    "    \"\"\"\n",
    "    Check for an deal with NaNs\n",
    "    \"\"\""
   ]
  },
  {
   "cell_type": "code",
   "execution_count": null,
   "metadata": {},
   "outputs": [],
   "source": [
    "def processFiles(paths: list) -> tuple:\n",
    "    \"\"\" \n",
    "    Read files from the relevant paths and use functions above to clean\n",
    "    \"\"\""
   ]
  },
  {
   "cell_type": "code",
   "execution_count": null,
   "metadata": {},
   "outputs": [],
   "source": [
    "def joinFrames(df_list: tuple) -> pd.DataFrame:\n",
    "    \"\"\"\n",
    "    Join DF's together\n",
    "    \"\"\""
   ]
  },
  {
   "cell_type": "code",
   "execution_count": null,
   "metadata": {},
   "outputs": [],
   "source": [
    "def write(df: pd.DataFrame, dbConfig: dict = None) -> pd.DataFrame:\n",
    "    \"\"\"\n",
    "    Write to CSV/DB\n",
    "    \"\"\""
   ]
  },
  {
   "cell_type": "code",
   "execution_count": null,
   "metadata": {},
   "outputs": [],
   "source": [
    "def plot(df: pd.DataFrame) -> None:\n",
    "    \"\"\"\n",
    "    Plot relevant data from the DF\n",
    "    \"\"\""
   ]
  },
  {
   "cell_type": "code",
   "execution_count": null,
   "metadata": {},
   "outputs": [],
   "source": [
    "def main() -> None:\n",
    "    lst = [\"path1\", \"path2\"]\n",
    "    clean_dfs = processFiles(lst)\n",
    "    merged_dfs = joinFrames(clean_dfs)\n",
    "    write(merged_dfs)"
   ]
  }
 ],
 "metadata": {
  "kernelspec": {
   "display_name": "Python 3.10.12 64-bit",
   "language": "python",
   "name": "python3"
  },
  "language_info": {
   "codemirror_mode": {
    "name": "ipython",
    "version": 3
   },
   "file_extension": ".py",
   "mimetype": "text/x-python",
   "name": "python",
   "nbconvert_exporter": "python",
   "pygments_lexer": "ipython3",
   "version": "3.10.12"
  },
  "orig_nbformat": 4,
  "vscode": {
   "interpreter": {
    "hash": "916dbcbb3f70747c44a77c7bcd40155683ae19c65e1c03b4aa3499c5328201f1"
   }
  }
 },
 "nbformat": 4,
 "nbformat_minor": 2
}
