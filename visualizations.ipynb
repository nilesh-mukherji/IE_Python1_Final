{
 "cells": [
  {
   "cell_type": "code",
   "execution_count": 2,
   "metadata": {},
   "outputs": [],
   "source": [
    "import plotly.express as px\n",
    "import pandas as pd"
   ]
  },
  {
   "cell_type": "code",
   "execution_count": 3,
   "metadata": {},
   "outputs": [
    {
     "data": {
      "application/vnd.plotly.v1+json": {
       "config": {
        "plotlyServerURL": "https://plot.ly"
       },
       "data": [
        {
         "hovertemplate": "variable=cumulative_confirmed<br>date=%{x}<br>value=%{y}<extra></extra>",
         "legendgroup": "cumulative_confirmed",
         "line": {
          "color": "#636efa",
          "dash": "solid"
         },
         "marker": {
          "symbol": "circle"
         },
         "mode": "lines",
         "name": "cumulative_confirmed",
         "orientation": "v",
         "showlegend": true,
         "type": "scatter",
         "x": [
          "2020-01-20",
          "2020-01-27",
          "2020-02-03",
          "2020-02-10",
          "2020-02-17",
          "2020-02-24",
          "2020-03-02",
          "2020-03-09",
          "2020-03-16",
          "2020-03-23",
          "2020-03-30",
          "2020-04-06",
          "2020-04-13",
          "2020-04-20",
          "2020-04-27",
          "2020-05-04",
          "2020-05-11",
          "2020-05-18",
          "2020-05-25",
          "2020-06-01",
          "2020-06-08",
          "2020-06-15",
          "2020-06-22",
          "2020-06-29",
          "2020-07-06",
          "2020-07-13",
          "2020-07-20",
          "2020-07-27",
          "2020-08-03",
          "2020-08-10",
          "2020-08-17",
          "2020-08-24",
          "2020-08-31",
          "2020-09-07",
          "2020-09-14",
          "2020-09-21",
          "2020-09-28",
          "2020-10-05",
          "2020-10-12",
          "2020-10-19",
          "2020-10-26",
          "2020-11-02",
          "2020-11-09",
          "2020-11-16",
          "2020-11-23",
          "2020-11-30",
          "2020-12-07",
          "2020-12-14",
          "2020-12-21",
          "2020-12-28",
          "2021-01-04",
          "2021-01-11",
          "2021-01-18",
          "2021-01-25",
          "2021-02-01",
          "2021-02-08",
          "2021-02-15",
          "2021-02-22",
          "2021-03-01",
          "2021-03-08",
          "2021-03-15",
          "2021-03-22",
          "2021-03-29",
          "2021-04-05",
          "2021-04-12",
          "2021-04-19",
          "2021-04-26",
          "2021-05-03",
          "2021-05-10",
          "2021-05-17",
          "2021-05-24",
          "2021-05-31",
          "2021-06-07",
          "2021-06-14",
          "2021-06-21",
          "2021-06-28",
          "2021-07-05",
          "2021-07-12",
          "2021-07-19",
          "2021-07-26",
          "2021-08-02",
          "2021-08-09",
          "2021-08-16",
          "2021-08-23",
          "2021-08-30",
          "2021-09-06",
          "2021-09-13",
          "2021-09-20",
          "2021-09-27",
          "2021-10-04",
          "2021-10-11",
          "2021-10-18",
          "2021-10-25",
          "2021-11-01",
          "2021-11-08",
          "2021-11-15",
          "2021-11-22",
          "2021-11-29",
          "2021-12-06",
          "2021-12-13",
          "2021-12-20",
          "2021-12-27",
          "2022-01-03",
          "2022-01-10",
          "2022-01-17",
          "2022-01-24",
          "2022-01-31",
          "2022-02-07",
          "2022-02-14",
          "2022-02-21",
          "2022-02-28",
          "2022-03-07",
          "2022-03-14",
          "2022-03-21",
          "2022-03-28",
          "2022-04-04",
          "2022-04-11",
          "2022-04-18",
          "2022-04-25"
         ],
         "xaxis": "x",
         "y": [
          2,
          2,
          2,
          2,
          2,
          2,
          2,
          2,
          5,
          13,
          24,
          38,
          46,
          54,
          58,
          62,
          69,
          80,
          99,
          77,
          78,
          79,
          668,
          81,
          672,
          310,
          86,
          50,
          677,
          683,
          691,
          103,
          153,
          165,
          174,
          177,
          193,
          207,
          238,
          306,
          428,
          583,
          848,
          1015,
          1270,
          1483,
          1898,
          2285,
          2826,
          3288,
          3733,
          4153,
          4659,
          4926,
          5116,
          5333,
          5478,
          5588,
          5680,
          5782,
          5955,
          6161,
          6388,
          6591,
          6820,
          7039,
          7284,
          7475,
          7691,
          7796,
          7844,
          7889,
          7914,
          7929,
          7937,
          7949,
          7975,
          8004,
          8021,
          8048,
          8084,
          8122,
          8158,
          8216,
          8276,
          8335,
          8406,
          8470,
          8549,
          8665,
          8820,
          9041,
          9341,
          9786,
          10205,
          10835,
          11588,
          12655,
          13562,
          14290,
          14862,
          15288,
          15742,
          16163,
          16381,
          16714,
          17158,
          17899,
          18747,
          18755,
          18771,
          18785,
          18802,
          18807,
          18807,
          18811,
          18811,
          18810,
          18810
         ],
         "yaxis": "y"
        }
       ],
       "layout": {
        "legend": {
         "title": {
          "text": "variable"
         },
         "tracegroupgap": 0
        },
        "margin": {
         "t": 60
        },
        "template": {
         "data": {
          "bar": [
           {
            "error_x": {
             "color": "#2a3f5f"
            },
            "error_y": {
             "color": "#2a3f5f"
            },
            "marker": {
             "line": {
              "color": "#E5ECF6",
              "width": 0.5
             },
             "pattern": {
              "fillmode": "overlay",
              "size": 10,
              "solidity": 0.2
             }
            },
            "type": "bar"
           }
          ],
          "barpolar": [
           {
            "marker": {
             "line": {
              "color": "#E5ECF6",
              "width": 0.5
             },
             "pattern": {
              "fillmode": "overlay",
              "size": 10,
              "solidity": 0.2
             }
            },
            "type": "barpolar"
           }
          ],
          "carpet": [
           {
            "aaxis": {
             "endlinecolor": "#2a3f5f",
             "gridcolor": "white",
             "linecolor": "white",
             "minorgridcolor": "white",
             "startlinecolor": "#2a3f5f"
            },
            "baxis": {
             "endlinecolor": "#2a3f5f",
             "gridcolor": "white",
             "linecolor": "white",
             "minorgridcolor": "white",
             "startlinecolor": "#2a3f5f"
            },
            "type": "carpet"
           }
          ],
          "choropleth": [
           {
            "colorbar": {
             "outlinewidth": 0,
             "ticks": ""
            },
            "type": "choropleth"
           }
          ],
          "contour": [
           {
            "colorbar": {
             "outlinewidth": 0,
             "ticks": ""
            },
            "colorscale": [
             [
              0,
              "#0d0887"
             ],
             [
              0.1111111111111111,
              "#46039f"
             ],
             [
              0.2222222222222222,
              "#7201a8"
             ],
             [
              0.3333333333333333,
              "#9c179e"
             ],
             [
              0.4444444444444444,
              "#bd3786"
             ],
             [
              0.5555555555555556,
              "#d8576b"
             ],
             [
              0.6666666666666666,
              "#ed7953"
             ],
             [
              0.7777777777777778,
              "#fb9f3a"
             ],
             [
              0.8888888888888888,
              "#fdca26"
             ],
             [
              1,
              "#f0f921"
             ]
            ],
            "type": "contour"
           }
          ],
          "contourcarpet": [
           {
            "colorbar": {
             "outlinewidth": 0,
             "ticks": ""
            },
            "type": "contourcarpet"
           }
          ],
          "heatmap": [
           {
            "colorbar": {
             "outlinewidth": 0,
             "ticks": ""
            },
            "colorscale": [
             [
              0,
              "#0d0887"
             ],
             [
              0.1111111111111111,
              "#46039f"
             ],
             [
              0.2222222222222222,
              "#7201a8"
             ],
             [
              0.3333333333333333,
              "#9c179e"
             ],
             [
              0.4444444444444444,
              "#bd3786"
             ],
             [
              0.5555555555555556,
              "#d8576b"
             ],
             [
              0.6666666666666666,
              "#ed7953"
             ],
             [
              0.7777777777777778,
              "#fb9f3a"
             ],
             [
              0.8888888888888888,
              "#fdca26"
             ],
             [
              1,
              "#f0f921"
             ]
            ],
            "type": "heatmap"
           }
          ],
          "heatmapgl": [
           {
            "colorbar": {
             "outlinewidth": 0,
             "ticks": ""
            },
            "colorscale": [
             [
              0,
              "#0d0887"
             ],
             [
              0.1111111111111111,
              "#46039f"
             ],
             [
              0.2222222222222222,
              "#7201a8"
             ],
             [
              0.3333333333333333,
              "#9c179e"
             ],
             [
              0.4444444444444444,
              "#bd3786"
             ],
             [
              0.5555555555555556,
              "#d8576b"
             ],
             [
              0.6666666666666666,
              "#ed7953"
             ],
             [
              0.7777777777777778,
              "#fb9f3a"
             ],
             [
              0.8888888888888888,
              "#fdca26"
             ],
             [
              1,
              "#f0f921"
             ]
            ],
            "type": "heatmapgl"
           }
          ],
          "histogram": [
           {
            "marker": {
             "pattern": {
              "fillmode": "overlay",
              "size": 10,
              "solidity": 0.2
             }
            },
            "type": "histogram"
           }
          ],
          "histogram2d": [
           {
            "colorbar": {
             "outlinewidth": 0,
             "ticks": ""
            },
            "colorscale": [
             [
              0,
              "#0d0887"
             ],
             [
              0.1111111111111111,
              "#46039f"
             ],
             [
              0.2222222222222222,
              "#7201a8"
             ],
             [
              0.3333333333333333,
              "#9c179e"
             ],
             [
              0.4444444444444444,
              "#bd3786"
             ],
             [
              0.5555555555555556,
              "#d8576b"
             ],
             [
              0.6666666666666666,
              "#ed7953"
             ],
             [
              0.7777777777777778,
              "#fb9f3a"
             ],
             [
              0.8888888888888888,
              "#fdca26"
             ],
             [
              1,
              "#f0f921"
             ]
            ],
            "type": "histogram2d"
           }
          ],
          "histogram2dcontour": [
           {
            "colorbar": {
             "outlinewidth": 0,
             "ticks": ""
            },
            "colorscale": [
             [
              0,
              "#0d0887"
             ],
             [
              0.1111111111111111,
              "#46039f"
             ],
             [
              0.2222222222222222,
              "#7201a8"
             ],
             [
              0.3333333333333333,
              "#9c179e"
             ],
             [
              0.4444444444444444,
              "#bd3786"
             ],
             [
              0.5555555555555556,
              "#d8576b"
             ],
             [
              0.6666666666666666,
              "#ed7953"
             ],
             [
              0.7777777777777778,
              "#fb9f3a"
             ],
             [
              0.8888888888888888,
              "#fdca26"
             ],
             [
              1,
              "#f0f921"
             ]
            ],
            "type": "histogram2dcontour"
           }
          ],
          "mesh3d": [
           {
            "colorbar": {
             "outlinewidth": 0,
             "ticks": ""
            },
            "type": "mesh3d"
           }
          ],
          "parcoords": [
           {
            "line": {
             "colorbar": {
              "outlinewidth": 0,
              "ticks": ""
             }
            },
            "type": "parcoords"
           }
          ],
          "pie": [
           {
            "automargin": true,
            "type": "pie"
           }
          ],
          "scatter": [
           {
            "fillpattern": {
             "fillmode": "overlay",
             "size": 10,
             "solidity": 0.2
            },
            "type": "scatter"
           }
          ],
          "scatter3d": [
           {
            "line": {
             "colorbar": {
              "outlinewidth": 0,
              "ticks": ""
             }
            },
            "marker": {
             "colorbar": {
              "outlinewidth": 0,
              "ticks": ""
             }
            },
            "type": "scatter3d"
           }
          ],
          "scattercarpet": [
           {
            "marker": {
             "colorbar": {
              "outlinewidth": 0,
              "ticks": ""
             }
            },
            "type": "scattercarpet"
           }
          ],
          "scattergeo": [
           {
            "marker": {
             "colorbar": {
              "outlinewidth": 0,
              "ticks": ""
             }
            },
            "type": "scattergeo"
           }
          ],
          "scattergl": [
           {
            "marker": {
             "colorbar": {
              "outlinewidth": 0,
              "ticks": ""
             }
            },
            "type": "scattergl"
           }
          ],
          "scattermapbox": [
           {
            "marker": {
             "colorbar": {
              "outlinewidth": 0,
              "ticks": ""
             }
            },
            "type": "scattermapbox"
           }
          ],
          "scatterpolar": [
           {
            "marker": {
             "colorbar": {
              "outlinewidth": 0,
              "ticks": ""
             }
            },
            "type": "scatterpolar"
           }
          ],
          "scatterpolargl": [
           {
            "marker": {
             "colorbar": {
              "outlinewidth": 0,
              "ticks": ""
             }
            },
            "type": "scatterpolargl"
           }
          ],
          "scatterternary": [
           {
            "marker": {
             "colorbar": {
              "outlinewidth": 0,
              "ticks": ""
             }
            },
            "type": "scatterternary"
           }
          ],
          "surface": [
           {
            "colorbar": {
             "outlinewidth": 0,
             "ticks": ""
            },
            "colorscale": [
             [
              0,
              "#0d0887"
             ],
             [
              0.1111111111111111,
              "#46039f"
             ],
             [
              0.2222222222222222,
              "#7201a8"
             ],
             [
              0.3333333333333333,
              "#9c179e"
             ],
             [
              0.4444444444444444,
              "#bd3786"
             ],
             [
              0.5555555555555556,
              "#d8576b"
             ],
             [
              0.6666666666666666,
              "#ed7953"
             ],
             [
              0.7777777777777778,
              "#fb9f3a"
             ],
             [
              0.8888888888888888,
              "#fdca26"
             ],
             [
              1,
              "#f0f921"
             ]
            ],
            "type": "surface"
           }
          ],
          "table": [
           {
            "cells": {
             "fill": {
              "color": "#EBF0F8"
             },
             "line": {
              "color": "white"
             }
            },
            "header": {
             "fill": {
              "color": "#C8D4E3"
             },
             "line": {
              "color": "white"
             }
            },
            "type": "table"
           }
          ]
         },
         "layout": {
          "annotationdefaults": {
           "arrowcolor": "#2a3f5f",
           "arrowhead": 0,
           "arrowwidth": 1
          },
          "autotypenumbers": "strict",
          "coloraxis": {
           "colorbar": {
            "outlinewidth": 0,
            "ticks": ""
           }
          },
          "colorscale": {
           "diverging": [
            [
             0,
             "#8e0152"
            ],
            [
             0.1,
             "#c51b7d"
            ],
            [
             0.2,
             "#de77ae"
            ],
            [
             0.3,
             "#f1b6da"
            ],
            [
             0.4,
             "#fde0ef"
            ],
            [
             0.5,
             "#f7f7f7"
            ],
            [
             0.6,
             "#e6f5d0"
            ],
            [
             0.7,
             "#b8e186"
            ],
            [
             0.8,
             "#7fbc41"
            ],
            [
             0.9,
             "#4d9221"
            ],
            [
             1,
             "#276419"
            ]
           ],
           "sequential": [
            [
             0,
             "#0d0887"
            ],
            [
             0.1111111111111111,
             "#46039f"
            ],
            [
             0.2222222222222222,
             "#7201a8"
            ],
            [
             0.3333333333333333,
             "#9c179e"
            ],
            [
             0.4444444444444444,
             "#bd3786"
            ],
            [
             0.5555555555555556,
             "#d8576b"
            ],
            [
             0.6666666666666666,
             "#ed7953"
            ],
            [
             0.7777777777777778,
             "#fb9f3a"
            ],
            [
             0.8888888888888888,
             "#fdca26"
            ],
            [
             1,
             "#f0f921"
            ]
           ],
           "sequentialminus": [
            [
             0,
             "#0d0887"
            ],
            [
             0.1111111111111111,
             "#46039f"
            ],
            [
             0.2222222222222222,
             "#7201a8"
            ],
            [
             0.3333333333333333,
             "#9c179e"
            ],
            [
             0.4444444444444444,
             "#bd3786"
            ],
            [
             0.5555555555555556,
             "#d8576b"
            ],
            [
             0.6666666666666666,
             "#ed7953"
            ],
            [
             0.7777777777777778,
             "#fb9f3a"
            ],
            [
             0.8888888888888888,
             "#fdca26"
            ],
            [
             1,
             "#f0f921"
            ]
           ]
          },
          "colorway": [
           "#636efa",
           "#EF553B",
           "#00cc96",
           "#ab63fa",
           "#FFA15A",
           "#19d3f3",
           "#FF6692",
           "#B6E880",
           "#FF97FF",
           "#FECB52"
          ],
          "font": {
           "color": "#2a3f5f"
          },
          "geo": {
           "bgcolor": "white",
           "lakecolor": "white",
           "landcolor": "#E5ECF6",
           "showlakes": true,
           "showland": true,
           "subunitcolor": "white"
          },
          "hoverlabel": {
           "align": "left"
          },
          "hovermode": "closest",
          "mapbox": {
           "style": "light"
          },
          "paper_bgcolor": "white",
          "plot_bgcolor": "#E5ECF6",
          "polar": {
           "angularaxis": {
            "gridcolor": "white",
            "linecolor": "white",
            "ticks": ""
           },
           "bgcolor": "#E5ECF6",
           "radialaxis": {
            "gridcolor": "white",
            "linecolor": "white",
            "ticks": ""
           }
          },
          "scene": {
           "xaxis": {
            "backgroundcolor": "#E5ECF6",
            "gridcolor": "white",
            "gridwidth": 2,
            "linecolor": "white",
            "showbackground": true,
            "ticks": "",
            "zerolinecolor": "white"
           },
           "yaxis": {
            "backgroundcolor": "#E5ECF6",
            "gridcolor": "white",
            "gridwidth": 2,
            "linecolor": "white",
            "showbackground": true,
            "ticks": "",
            "zerolinecolor": "white"
           },
           "zaxis": {
            "backgroundcolor": "#E5ECF6",
            "gridcolor": "white",
            "gridwidth": 2,
            "linecolor": "white",
            "showbackground": true,
            "ticks": "",
            "zerolinecolor": "white"
           }
          },
          "shapedefaults": {
           "line": {
            "color": "#2a3f5f"
           }
          },
          "ternary": {
           "aaxis": {
            "gridcolor": "white",
            "linecolor": "white",
            "ticks": ""
           },
           "baxis": {
            "gridcolor": "white",
            "linecolor": "white",
            "ticks": ""
           },
           "bgcolor": "#E5ECF6",
           "caxis": {
            "gridcolor": "white",
            "linecolor": "white",
            "ticks": ""
           }
          },
          "title": {
           "x": 0.05
          },
          "xaxis": {
           "automargin": true,
           "gridcolor": "white",
           "linecolor": "white",
           "ticks": "",
           "title": {
            "standoff": 15
           },
           "zerolinecolor": "white",
           "zerolinewidth": 2
          },
          "yaxis": {
           "automargin": true,
           "gridcolor": "white",
           "linecolor": "white",
           "ticks": "",
           "title": {
            "standoff": 15
           },
           "zerolinecolor": "white",
           "zerolinewidth": 2
          }
         }
        },
        "xaxis": {
         "anchor": "y",
         "domain": [
          0,
          1
         ],
         "title": {
          "text": "date"
         }
        },
        "yaxis": {
         "anchor": "x",
         "domain": [
          0,
          1
         ],
         "title": {
          "text": "value"
         }
        }
       }
      }
     },
     "metadata": {},
     "output_type": "display_data"
    }
   ],
   "source": [
    "df1 = pd.read_csv('./macrotable.csv')\n",
    "df2 = df1.groupby('date').sum().reset_index()\n",
    "px.line(df2[df2['date'] < '2022-05-01'], x='date', y=['cumulative_confirmed'])\n"
   ]
  },
  {
   "cell_type": "code",
   "execution_count": 6,
   "metadata": {},
   "outputs": [
    {
     "data": {
      "application/vnd.plotly.v1+json": {
       "config": {
        "plotlyServerURL": "https://plot.ly"
       },
       "data": [
        {
         "alignmentgroup": "True",
         "hovertemplate": "country_name=%{x}<br>max_pec=%{y}<extra></extra>",
         "legendgroup": "Germany",
         "marker": {
          "color": "#1F77B4",
          "pattern": {
           "shape": ""
          }
         },
         "name": "Germany",
         "offsetgroup": "Germany",
         "orientation": "v",
         "showlegend": true,
         "textposition": "auto",
         "type": "bar",
         "x": [
          "Germany"
         ],
         "xaxis": "x",
         "y": [
          0.02792959806828569
         ],
         "yaxis": "y"
        },
        {
         "alignmentgroup": "True",
         "hovertemplate": "country_name=%{x}<br>max_pec=%{y}<extra></extra>",
         "legendgroup": "Spain",
         "marker": {
          "color": "#FF7F0E",
          "pattern": {
           "shape": ""
          }
         },
         "name": "Spain",
         "offsetgroup": "Spain",
         "orientation": "v",
         "showlegend": true,
         "textposition": "auto",
         "type": "bar",
         "x": [
          "Spain"
         ],
         "xaxis": "x",
         "y": [
          0.0840057378518917
         ],
         "yaxis": "y"
        },
        {
         "alignmentgroup": "True",
         "hovertemplate": "country_name=%{x}<br>max_pec=%{y}<extra></extra>",
         "legendgroup": "United States of America",
         "marker": {
          "color": "#2CA02C",
          "pattern": {
           "shape": ""
          }
         },
         "name": "United States of America",
         "offsetgroup": "United States of America",
         "orientation": "v",
         "showlegend": true,
         "textposition": "auto",
         "type": "bar",
         "x": [
          "United States of America"
         ],
         "xaxis": "x",
         "y": [
          0.33126664152487273
         ],
         "yaxis": "y"
        }
       ],
       "layout": {
        "barmode": "relative",
        "legend": {
         "title": {
          "text": "country_name"
         },
         "tracegroupgap": 0
        },
        "margin": {
         "t": 60
        },
        "template": {
         "data": {
          "bar": [
           {
            "error_x": {
             "color": "rgb(36,36,36)"
            },
            "error_y": {
             "color": "rgb(36,36,36)"
            },
            "marker": {
             "line": {
              "color": "white",
              "width": 0.5
             },
             "pattern": {
              "fillmode": "overlay",
              "size": 10,
              "solidity": 0.2
             }
            },
            "type": "bar"
           }
          ],
          "barpolar": [
           {
            "marker": {
             "line": {
              "color": "white",
              "width": 0.5
             },
             "pattern": {
              "fillmode": "overlay",
              "size": 10,
              "solidity": 0.2
             }
            },
            "type": "barpolar"
           }
          ],
          "carpet": [
           {
            "aaxis": {
             "endlinecolor": "rgb(36,36,36)",
             "gridcolor": "white",
             "linecolor": "white",
             "minorgridcolor": "white",
             "startlinecolor": "rgb(36,36,36)"
            },
            "baxis": {
             "endlinecolor": "rgb(36,36,36)",
             "gridcolor": "white",
             "linecolor": "white",
             "minorgridcolor": "white",
             "startlinecolor": "rgb(36,36,36)"
            },
            "type": "carpet"
           }
          ],
          "choropleth": [
           {
            "colorbar": {
             "outlinewidth": 1,
             "tickcolor": "rgb(36,36,36)",
             "ticks": "outside"
            },
            "type": "choropleth"
           }
          ],
          "contour": [
           {
            "colorbar": {
             "outlinewidth": 1,
             "tickcolor": "rgb(36,36,36)",
             "ticks": "outside"
            },
            "colorscale": [
             [
              0,
              "#440154"
             ],
             [
              0.1111111111111111,
              "#482878"
             ],
             [
              0.2222222222222222,
              "#3e4989"
             ],
             [
              0.3333333333333333,
              "#31688e"
             ],
             [
              0.4444444444444444,
              "#26828e"
             ],
             [
              0.5555555555555556,
              "#1f9e89"
             ],
             [
              0.6666666666666666,
              "#35b779"
             ],
             [
              0.7777777777777778,
              "#6ece58"
             ],
             [
              0.8888888888888888,
              "#b5de2b"
             ],
             [
              1,
              "#fde725"
             ]
            ],
            "type": "contour"
           }
          ],
          "contourcarpet": [
           {
            "colorbar": {
             "outlinewidth": 1,
             "tickcolor": "rgb(36,36,36)",
             "ticks": "outside"
            },
            "type": "contourcarpet"
           }
          ],
          "heatmap": [
           {
            "colorbar": {
             "outlinewidth": 1,
             "tickcolor": "rgb(36,36,36)",
             "ticks": "outside"
            },
            "colorscale": [
             [
              0,
              "#440154"
             ],
             [
              0.1111111111111111,
              "#482878"
             ],
             [
              0.2222222222222222,
              "#3e4989"
             ],
             [
              0.3333333333333333,
              "#31688e"
             ],
             [
              0.4444444444444444,
              "#26828e"
             ],
             [
              0.5555555555555556,
              "#1f9e89"
             ],
             [
              0.6666666666666666,
              "#35b779"
             ],
             [
              0.7777777777777778,
              "#6ece58"
             ],
             [
              0.8888888888888888,
              "#b5de2b"
             ],
             [
              1,
              "#fde725"
             ]
            ],
            "type": "heatmap"
           }
          ],
          "heatmapgl": [
           {
            "colorbar": {
             "outlinewidth": 1,
             "tickcolor": "rgb(36,36,36)",
             "ticks": "outside"
            },
            "colorscale": [
             [
              0,
              "#440154"
             ],
             [
              0.1111111111111111,
              "#482878"
             ],
             [
              0.2222222222222222,
              "#3e4989"
             ],
             [
              0.3333333333333333,
              "#31688e"
             ],
             [
              0.4444444444444444,
              "#26828e"
             ],
             [
              0.5555555555555556,
              "#1f9e89"
             ],
             [
              0.6666666666666666,
              "#35b779"
             ],
             [
              0.7777777777777778,
              "#6ece58"
             ],
             [
              0.8888888888888888,
              "#b5de2b"
             ],
             [
              1,
              "#fde725"
             ]
            ],
            "type": "heatmapgl"
           }
          ],
          "histogram": [
           {
            "marker": {
             "line": {
              "color": "white",
              "width": 0.6
             }
            },
            "type": "histogram"
           }
          ],
          "histogram2d": [
           {
            "colorbar": {
             "outlinewidth": 1,
             "tickcolor": "rgb(36,36,36)",
             "ticks": "outside"
            },
            "colorscale": [
             [
              0,
              "#440154"
             ],
             [
              0.1111111111111111,
              "#482878"
             ],
             [
              0.2222222222222222,
              "#3e4989"
             ],
             [
              0.3333333333333333,
              "#31688e"
             ],
             [
              0.4444444444444444,
              "#26828e"
             ],
             [
              0.5555555555555556,
              "#1f9e89"
             ],
             [
              0.6666666666666666,
              "#35b779"
             ],
             [
              0.7777777777777778,
              "#6ece58"
             ],
             [
              0.8888888888888888,
              "#b5de2b"
             ],
             [
              1,
              "#fde725"
             ]
            ],
            "type": "histogram2d"
           }
          ],
          "histogram2dcontour": [
           {
            "colorbar": {
             "outlinewidth": 1,
             "tickcolor": "rgb(36,36,36)",
             "ticks": "outside"
            },
            "colorscale": [
             [
              0,
              "#440154"
             ],
             [
              0.1111111111111111,
              "#482878"
             ],
             [
              0.2222222222222222,
              "#3e4989"
             ],
             [
              0.3333333333333333,
              "#31688e"
             ],
             [
              0.4444444444444444,
              "#26828e"
             ],
             [
              0.5555555555555556,
              "#1f9e89"
             ],
             [
              0.6666666666666666,
              "#35b779"
             ],
             [
              0.7777777777777778,
              "#6ece58"
             ],
             [
              0.8888888888888888,
              "#b5de2b"
             ],
             [
              1,
              "#fde725"
             ]
            ],
            "type": "histogram2dcontour"
           }
          ],
          "mesh3d": [
           {
            "colorbar": {
             "outlinewidth": 1,
             "tickcolor": "rgb(36,36,36)",
             "ticks": "outside"
            },
            "type": "mesh3d"
           }
          ],
          "parcoords": [
           {
            "line": {
             "colorbar": {
              "outlinewidth": 1,
              "tickcolor": "rgb(36,36,36)",
              "ticks": "outside"
             }
            },
            "type": "parcoords"
           }
          ],
          "pie": [
           {
            "automargin": true,
            "type": "pie"
           }
          ],
          "scatter": [
           {
            "fillpattern": {
             "fillmode": "overlay",
             "size": 10,
             "solidity": 0.2
            },
            "type": "scatter"
           }
          ],
          "scatter3d": [
           {
            "line": {
             "colorbar": {
              "outlinewidth": 1,
              "tickcolor": "rgb(36,36,36)",
              "ticks": "outside"
             }
            },
            "marker": {
             "colorbar": {
              "outlinewidth": 1,
              "tickcolor": "rgb(36,36,36)",
              "ticks": "outside"
             }
            },
            "type": "scatter3d"
           }
          ],
          "scattercarpet": [
           {
            "marker": {
             "colorbar": {
              "outlinewidth": 1,
              "tickcolor": "rgb(36,36,36)",
              "ticks": "outside"
             }
            },
            "type": "scattercarpet"
           }
          ],
          "scattergeo": [
           {
            "marker": {
             "colorbar": {
              "outlinewidth": 1,
              "tickcolor": "rgb(36,36,36)",
              "ticks": "outside"
             }
            },
            "type": "scattergeo"
           }
          ],
          "scattergl": [
           {
            "marker": {
             "colorbar": {
              "outlinewidth": 1,
              "tickcolor": "rgb(36,36,36)",
              "ticks": "outside"
             }
            },
            "type": "scattergl"
           }
          ],
          "scattermapbox": [
           {
            "marker": {
             "colorbar": {
              "outlinewidth": 1,
              "tickcolor": "rgb(36,36,36)",
              "ticks": "outside"
             }
            },
            "type": "scattermapbox"
           }
          ],
          "scatterpolar": [
           {
            "marker": {
             "colorbar": {
              "outlinewidth": 1,
              "tickcolor": "rgb(36,36,36)",
              "ticks": "outside"
             }
            },
            "type": "scatterpolar"
           }
          ],
          "scatterpolargl": [
           {
            "marker": {
             "colorbar": {
              "outlinewidth": 1,
              "tickcolor": "rgb(36,36,36)",
              "ticks": "outside"
             }
            },
            "type": "scatterpolargl"
           }
          ],
          "scatterternary": [
           {
            "marker": {
             "colorbar": {
              "outlinewidth": 1,
              "tickcolor": "rgb(36,36,36)",
              "ticks": "outside"
             }
            },
            "type": "scatterternary"
           }
          ],
          "surface": [
           {
            "colorbar": {
             "outlinewidth": 1,
             "tickcolor": "rgb(36,36,36)",
             "ticks": "outside"
            },
            "colorscale": [
             [
              0,
              "#440154"
             ],
             [
              0.1111111111111111,
              "#482878"
             ],
             [
              0.2222222222222222,
              "#3e4989"
             ],
             [
              0.3333333333333333,
              "#31688e"
             ],
             [
              0.4444444444444444,
              "#26828e"
             ],
             [
              0.5555555555555556,
              "#1f9e89"
             ],
             [
              0.6666666666666666,
              "#35b779"
             ],
             [
              0.7777777777777778,
              "#6ece58"
             ],
             [
              0.8888888888888888,
              "#b5de2b"
             ],
             [
              1,
              "#fde725"
             ]
            ],
            "type": "surface"
           }
          ],
          "table": [
           {
            "cells": {
             "fill": {
              "color": "rgb(237,237,237)"
             },
             "line": {
              "color": "white"
             }
            },
            "header": {
             "fill": {
              "color": "rgb(217,217,217)"
             },
             "line": {
              "color": "white"
             }
            },
            "type": "table"
           }
          ]
         },
         "layout": {
          "annotationdefaults": {
           "arrowhead": 0,
           "arrowwidth": 1
          },
          "autotypenumbers": "strict",
          "coloraxis": {
           "colorbar": {
            "outlinewidth": 1,
            "tickcolor": "rgb(36,36,36)",
            "ticks": "outside"
           }
          },
          "colorscale": {
           "diverging": [
            [
             0,
             "rgb(103,0,31)"
            ],
            [
             0.1,
             "rgb(178,24,43)"
            ],
            [
             0.2,
             "rgb(214,96,77)"
            ],
            [
             0.3,
             "rgb(244,165,130)"
            ],
            [
             0.4,
             "rgb(253,219,199)"
            ],
            [
             0.5,
             "rgb(247,247,247)"
            ],
            [
             0.6,
             "rgb(209,229,240)"
            ],
            [
             0.7,
             "rgb(146,197,222)"
            ],
            [
             0.8,
             "rgb(67,147,195)"
            ],
            [
             0.9,
             "rgb(33,102,172)"
            ],
            [
             1,
             "rgb(5,48,97)"
            ]
           ],
           "sequential": [
            [
             0,
             "#440154"
            ],
            [
             0.1111111111111111,
             "#482878"
            ],
            [
             0.2222222222222222,
             "#3e4989"
            ],
            [
             0.3333333333333333,
             "#31688e"
            ],
            [
             0.4444444444444444,
             "#26828e"
            ],
            [
             0.5555555555555556,
             "#1f9e89"
            ],
            [
             0.6666666666666666,
             "#35b779"
            ],
            [
             0.7777777777777778,
             "#6ece58"
            ],
            [
             0.8888888888888888,
             "#b5de2b"
            ],
            [
             1,
             "#fde725"
            ]
           ],
           "sequentialminus": [
            [
             0,
             "#440154"
            ],
            [
             0.1111111111111111,
             "#482878"
            ],
            [
             0.2222222222222222,
             "#3e4989"
            ],
            [
             0.3333333333333333,
             "#31688e"
            ],
            [
             0.4444444444444444,
             "#26828e"
            ],
            [
             0.5555555555555556,
             "#1f9e89"
            ],
            [
             0.6666666666666666,
             "#35b779"
            ],
            [
             0.7777777777777778,
             "#6ece58"
            ],
            [
             0.8888888888888888,
             "#b5de2b"
            ],
            [
             1,
             "#fde725"
            ]
           ]
          },
          "colorway": [
           "#1F77B4",
           "#FF7F0E",
           "#2CA02C",
           "#D62728",
           "#9467BD",
           "#8C564B",
           "#E377C2",
           "#7F7F7F",
           "#BCBD22",
           "#17BECF"
          ],
          "font": {
           "color": "rgb(36,36,36)"
          },
          "geo": {
           "bgcolor": "white",
           "lakecolor": "white",
           "landcolor": "white",
           "showlakes": true,
           "showland": true,
           "subunitcolor": "white"
          },
          "hoverlabel": {
           "align": "left"
          },
          "hovermode": "closest",
          "mapbox": {
           "style": "light"
          },
          "paper_bgcolor": "white",
          "plot_bgcolor": "white",
          "polar": {
           "angularaxis": {
            "gridcolor": "rgb(232,232,232)",
            "linecolor": "rgb(36,36,36)",
            "showgrid": false,
            "showline": true,
            "ticks": "outside"
           },
           "bgcolor": "white",
           "radialaxis": {
            "gridcolor": "rgb(232,232,232)",
            "linecolor": "rgb(36,36,36)",
            "showgrid": false,
            "showline": true,
            "ticks": "outside"
           }
          },
          "scene": {
           "xaxis": {
            "backgroundcolor": "white",
            "gridcolor": "rgb(232,232,232)",
            "gridwidth": 2,
            "linecolor": "rgb(36,36,36)",
            "showbackground": true,
            "showgrid": false,
            "showline": true,
            "ticks": "outside",
            "zeroline": false,
            "zerolinecolor": "rgb(36,36,36)"
           },
           "yaxis": {
            "backgroundcolor": "white",
            "gridcolor": "rgb(232,232,232)",
            "gridwidth": 2,
            "linecolor": "rgb(36,36,36)",
            "showbackground": true,
            "showgrid": false,
            "showline": true,
            "ticks": "outside",
            "zeroline": false,
            "zerolinecolor": "rgb(36,36,36)"
           },
           "zaxis": {
            "backgroundcolor": "white",
            "gridcolor": "rgb(232,232,232)",
            "gridwidth": 2,
            "linecolor": "rgb(36,36,36)",
            "showbackground": true,
            "showgrid": false,
            "showline": true,
            "ticks": "outside",
            "zeroline": false,
            "zerolinecolor": "rgb(36,36,36)"
           }
          },
          "shapedefaults": {
           "fillcolor": "black",
           "line": {
            "width": 0
           },
           "opacity": 0.3
          },
          "ternary": {
           "aaxis": {
            "gridcolor": "rgb(232,232,232)",
            "linecolor": "rgb(36,36,36)",
            "showgrid": false,
            "showline": true,
            "ticks": "outside"
           },
           "baxis": {
            "gridcolor": "rgb(232,232,232)",
            "linecolor": "rgb(36,36,36)",
            "showgrid": false,
            "showline": true,
            "ticks": "outside"
           },
           "bgcolor": "white",
           "caxis": {
            "gridcolor": "rgb(232,232,232)",
            "linecolor": "rgb(36,36,36)",
            "showgrid": false,
            "showline": true,
            "ticks": "outside"
           }
          },
          "title": {
           "x": 0.05
          },
          "xaxis": {
           "automargin": true,
           "gridcolor": "rgb(232,232,232)",
           "linecolor": "rgb(36,36,36)",
           "showgrid": false,
           "showline": true,
           "ticks": "outside",
           "title": {
            "standoff": 15
           },
           "zeroline": false,
           "zerolinecolor": "rgb(36,36,36)"
          },
          "yaxis": {
           "automargin": true,
           "gridcolor": "rgb(232,232,232)",
           "linecolor": "rgb(36,36,36)",
           "showgrid": false,
           "showline": true,
           "ticks": "outside",
           "title": {
            "standoff": 15
           },
           "zeroline": false,
           "zerolinecolor": "rgb(36,36,36)"
          }
         }
        },
        "xaxis": {
         "anchor": "y",
         "categoryarray": [
          "Germany",
          "Spain",
          "United States of America"
         ],
         "categoryorder": "array",
         "domain": [
          0,
          1
         ],
         "title": {
          "text": "country_name"
         }
        },
        "yaxis": {
         "anchor": "x",
         "domain": [
          0,
          1
         ],
         "title": {
          "text": "max_pec"
         }
        }
       }
      }
     },
     "metadata": {},
     "output_type": "display_data"
    }
   ],
   "source": [
    "max_percent_infacted = df1.groupby('country_name').max().reset_index()\n",
    "max_percent_infacted['max_pec'] = max_percent_infacted['cumulative_confirmed']/max_percent_infacted['population']\n",
    "px.bar(max_percent_infacted, x='country_name', y='max_pec', color='country_name', template='simple_white')"
   ]
  },
  {
   "cell_type": "code",
   "execution_count": 11,
   "metadata": {},
   "outputs": [
    {
     "data": {
      "application/vnd.plotly.v1+json": {
       "config": {
        "plotlyServerURL": "https://plot.ly"
       },
       "data": [
        {
         "alignmentgroup": "True",
         "hovertemplate": "country_name=%{x}<br>date=2020-01-20<br>value=%{y}<extra></extra>",
         "legendgroup": "Germany",
         "marker": {
          "color": "#1F77B4",
          "pattern": {
           "shape": ""
          }
         },
         "name": "Germany",
         "offsetgroup": "Germany",
         "orientation": "v",
         "showlegend": true,
         "textposition": "auto",
         "type": "bar",
         "x": [
          "Germany"
         ],
         "xaxis": "x",
         "y": [
          0
         ],
         "yaxis": "y"
        },
        {
         "alignmentgroup": "True",
         "hovertemplate": "country_name=%{x}<br>date=2020-01-20<br>value=%{y}<extra></extra>",
         "legendgroup": "Spain",
         "marker": {
          "color": "#FF7F0E",
          "pattern": {
           "shape": ""
          }
         },
         "name": "Spain",
         "offsetgroup": "Spain",
         "orientation": "v",
         "showlegend": true,
         "textposition": "auto",
         "type": "bar",
         "x": [
          "Spain"
         ],
         "xaxis": "x",
         "y": [
          0
         ],
         "yaxis": "y"
        },
        {
         "alignmentgroup": "True",
         "hovertemplate": "country_name=%{x}<br>date=2020-01-20<br>value=%{y}<extra></extra>",
         "legendgroup": "United States of America",
         "marker": {
          "color": "#2CA02C",
          "pattern": {
           "shape": ""
          }
         },
         "name": "United States of America",
         "offsetgroup": "United States of America",
         "orientation": "v",
         "showlegend": true,
         "textposition": "auto",
         "type": "bar",
         "x": [
          "United States of America"
         ],
         "xaxis": "x",
         "y": [
          0
         ],
         "yaxis": "y"
        }
       ],
       "frames": [
        {
         "data": [
          {
           "alignmentgroup": "True",
           "hovertemplate": "country_name=%{x}<br>date=2020-01-20<br>value=%{y}<extra></extra>",
           "legendgroup": "Germany",
           "marker": {
            "color": "#1F77B4",
            "pattern": {
             "shape": ""
            }
           },
           "name": "Germany",
           "offsetgroup": "Germany",
           "orientation": "v",
           "showlegend": true,
           "textposition": "auto",
           "type": "bar",
           "x": [
            "Germany"
           ],
           "xaxis": "x",
           "y": [
            0
           ],
           "yaxis": "y"
          },
          {
           "alignmentgroup": "True",
           "hovertemplate": "country_name=%{x}<br>date=2020-01-20<br>value=%{y}<extra></extra>",
           "legendgroup": "Spain",
           "marker": {
            "color": "#FF7F0E",
            "pattern": {
             "shape": ""
            }
           },
           "name": "Spain",
           "offsetgroup": "Spain",
           "orientation": "v",
           "showlegend": true,
           "textposition": "auto",
           "type": "bar",
           "x": [
            "Spain"
           ],
           "xaxis": "x",
           "y": [
            0
           ],
           "yaxis": "y"
          },
          {
           "alignmentgroup": "True",
           "hovertemplate": "country_name=%{x}<br>date=2020-01-20<br>value=%{y}<extra></extra>",
           "legendgroup": "United States of America",
           "marker": {
            "color": "#2CA02C",
            "pattern": {
             "shape": ""
            }
           },
           "name": "United States of America",
           "offsetgroup": "United States of America",
           "orientation": "v",
           "showlegend": true,
           "textposition": "auto",
           "type": "bar",
           "x": [
            "United States of America"
           ],
           "xaxis": "x",
           "y": [
            0
           ],
           "yaxis": "y"
          }
         ],
         "name": "2020-01-20"
        },
        {
         "data": [
          {
           "alignmentgroup": "True",
           "hovertemplate": "country_name=%{x}<br>date=2020-01-27<br>value=%{y}<extra></extra>",
           "legendgroup": "Germany",
           "marker": {
            "color": "#1F77B4",
            "pattern": {
             "shape": ""
            }
           },
           "name": "Germany",
           "offsetgroup": "Germany",
           "orientation": "v",
           "showlegend": true,
           "textposition": "auto",
           "type": "bar",
           "x": [
            "Germany"
           ],
           "xaxis": "x",
           "y": [
            0
           ],
           "yaxis": "y"
          },
          {
           "alignmentgroup": "True",
           "hovertemplate": "country_name=%{x}<br>date=2020-01-27<br>value=%{y}<extra></extra>",
           "legendgroup": "Spain",
           "marker": {
            "color": "#FF7F0E",
            "pattern": {
             "shape": ""
            }
           },
           "name": "Spain",
           "offsetgroup": "Spain",
           "orientation": "v",
           "showlegend": true,
           "textposition": "auto",
           "type": "bar",
           "x": [
            "Spain"
           ],
           "xaxis": "x",
           "y": [
            0
           ],
           "yaxis": "y"
          },
          {
           "alignmentgroup": "True",
           "hovertemplate": "country_name=%{x}<br>date=2020-01-27<br>value=%{y}<extra></extra>",
           "legendgroup": "United States of America",
           "marker": {
            "color": "#2CA02C",
            "pattern": {
             "shape": ""
            }
           },
           "name": "United States of America",
           "offsetgroup": "United States of America",
           "orientation": "v",
           "showlegend": true,
           "textposition": "auto",
           "type": "bar",
           "x": [
            "United States of America"
           ],
           "xaxis": "x",
           "y": [
            0
           ],
           "yaxis": "y"
          }
         ],
         "name": "2020-01-27"
        },
        {
         "data": [
          {
           "alignmentgroup": "True",
           "hovertemplate": "country_name=%{x}<br>date=2020-02-03<br>value=%{y}<extra></extra>",
           "legendgroup": "Germany",
           "marker": {
            "color": "#1F77B4",
            "pattern": {
             "shape": ""
            }
           },
           "name": "Germany",
           "offsetgroup": "Germany",
           "orientation": "v",
           "showlegend": true,
           "textposition": "auto",
           "type": "bar",
           "x": [
            "Germany"
           ],
           "xaxis": "x",
           "y": [
            0
           ],
           "yaxis": "y"
          },
          {
           "alignmentgroup": "True",
           "hovertemplate": "country_name=%{x}<br>date=2020-02-03<br>value=%{y}<extra></extra>",
           "legendgroup": "Spain",
           "marker": {
            "color": "#FF7F0E",
            "pattern": {
             "shape": ""
            }
           },
           "name": "Spain",
           "offsetgroup": "Spain",
           "orientation": "v",
           "showlegend": true,
           "textposition": "auto",
           "type": "bar",
           "x": [
            "Spain"
           ],
           "xaxis": "x",
           "y": [
            0
           ],
           "yaxis": "y"
          },
          {
           "alignmentgroup": "True",
           "hovertemplate": "country_name=%{x}<br>date=2020-02-03<br>value=%{y}<extra></extra>",
           "legendgroup": "United States of America",
           "marker": {
            "color": "#2CA02C",
            "pattern": {
             "shape": ""
            }
           },
           "name": "United States of America",
           "offsetgroup": "United States of America",
           "orientation": "v",
           "showlegend": true,
           "textposition": "auto",
           "type": "bar",
           "x": [
            "United States of America"
           ],
           "xaxis": "x",
           "y": [
            0
           ],
           "yaxis": "y"
          }
         ],
         "name": "2020-02-03"
        },
        {
         "data": [
          {
           "alignmentgroup": "True",
           "hovertemplate": "country_name=%{x}<br>date=2020-02-10<br>value=%{y}<extra></extra>",
           "legendgroup": "Germany",
           "marker": {
            "color": "#1F77B4",
            "pattern": {
             "shape": ""
            }
           },
           "name": "Germany",
           "offsetgroup": "Germany",
           "orientation": "v",
           "showlegend": true,
           "textposition": "auto",
           "type": "bar",
           "x": [
            "Germany"
           ],
           "xaxis": "x",
           "y": [
            0
           ],
           "yaxis": "y"
          },
          {
           "alignmentgroup": "True",
           "hovertemplate": "country_name=%{x}<br>date=2020-02-10<br>value=%{y}<extra></extra>",
           "legendgroup": "United States of America",
           "marker": {
            "color": "#2CA02C",
            "pattern": {
             "shape": ""
            }
           },
           "name": "United States of America",
           "offsetgroup": "United States of America",
           "orientation": "v",
           "showlegend": true,
           "textposition": "auto",
           "type": "bar",
           "x": [
            "United States of America"
           ],
           "xaxis": "x",
           "y": [
            0
           ],
           "yaxis": "y"
          }
         ],
         "name": "2020-02-10"
        },
        {
         "data": [
          {
           "alignmentgroup": "True",
           "hovertemplate": "country_name=%{x}<br>date=2020-02-17<br>value=%{y}<extra></extra>",
           "legendgroup": "Germany",
           "marker": {
            "color": "#1F77B4",
            "pattern": {
             "shape": ""
            }
           },
           "name": "Germany",
           "offsetgroup": "Germany",
           "orientation": "v",
           "showlegend": true,
           "textposition": "auto",
           "type": "bar",
           "x": [
            "Germany"
           ],
           "xaxis": "x",
           "y": [
            0
           ],
           "yaxis": "y"
          },
          {
           "alignmentgroup": "True",
           "hovertemplate": "country_name=%{x}<br>date=2020-02-17<br>value=%{y}<extra></extra>",
           "legendgroup": "United States of America",
           "marker": {
            "color": "#2CA02C",
            "pattern": {
             "shape": ""
            }
           },
           "name": "United States of America",
           "offsetgroup": "United States of America",
           "orientation": "v",
           "showlegend": true,
           "textposition": "auto",
           "type": "bar",
           "x": [
            "United States of America"
           ],
           "xaxis": "x",
           "y": [
            0
           ],
           "yaxis": "y"
          }
         ],
         "name": "2020-02-17"
        },
        {
         "data": [
          {
           "alignmentgroup": "True",
           "hovertemplate": "country_name=%{x}<br>date=2020-02-24<br>value=%{y}<extra></extra>",
           "legendgroup": "Germany",
           "marker": {
            "color": "#1F77B4",
            "pattern": {
             "shape": ""
            }
           },
           "name": "Germany",
           "offsetgroup": "Germany",
           "orientation": "v",
           "showlegend": true,
           "textposition": "auto",
           "type": "bar",
           "x": [
            "Germany"
           ],
           "xaxis": "x",
           "y": [
            1
           ],
           "yaxis": "y"
          },
          {
           "alignmentgroup": "True",
           "hovertemplate": "country_name=%{x}<br>date=2020-02-24<br>value=%{y}<extra></extra>",
           "legendgroup": "United States of America",
           "marker": {
            "color": "#2CA02C",
            "pattern": {
             "shape": ""
            }
           },
           "name": "United States of America",
           "offsetgroup": "United States of America",
           "orientation": "v",
           "showlegend": true,
           "textposition": "auto",
           "type": "bar",
           "x": [
            "United States of America"
           ],
           "xaxis": "x",
           "y": [
            0
           ],
           "yaxis": "y"
          }
         ],
         "name": "2020-02-24"
        },
        {
         "data": [
          {
           "alignmentgroup": "True",
           "hovertemplate": "country_name=%{x}<br>date=2020-03-02<br>value=%{y}<extra></extra>",
           "legendgroup": "Germany",
           "marker": {
            "color": "#1F77B4",
            "pattern": {
             "shape": ""
            }
           },
           "name": "Germany",
           "offsetgroup": "Germany",
           "orientation": "v",
           "showlegend": true,
           "textposition": "auto",
           "type": "bar",
           "x": [
            "Germany"
           ],
           "xaxis": "x",
           "y": [
            0
           ],
           "yaxis": "y"
          },
          {
           "alignmentgroup": "True",
           "hovertemplate": "country_name=%{x}<br>date=2020-03-02<br>value=%{y}<extra></extra>",
           "legendgroup": "Spain",
           "marker": {
            "color": "#FF7F0E",
            "pattern": {
             "shape": ""
            }
           },
           "name": "Spain",
           "offsetgroup": "Spain",
           "orientation": "v",
           "showlegend": true,
           "textposition": "auto",
           "type": "bar",
           "x": [
            "Spain"
           ],
           "xaxis": "x",
           "y": [
            0
           ],
           "yaxis": "y"
          },
          {
           "alignmentgroup": "True",
           "hovertemplate": "country_name=%{x}<br>date=2020-03-02<br>value=%{y}<extra></extra>",
           "legendgroup": "United States of America",
           "marker": {
            "color": "#2CA02C",
            "pattern": {
             "shape": ""
            }
           },
           "name": "United States of America",
           "offsetgroup": "United States of America",
           "orientation": "v",
           "showlegend": true,
           "textposition": "auto",
           "type": "bar",
           "x": [
            "United States of America"
           ],
           "xaxis": "x",
           "y": [
            0
           ],
           "yaxis": "y"
          }
         ],
         "name": "2020-03-02"
        },
        {
         "data": [
          {
           "alignmentgroup": "True",
           "hovertemplate": "country_name=%{x}<br>date=2020-03-09<br>value=%{y}<extra></extra>",
           "legendgroup": "Germany",
           "marker": {
            "color": "#1F77B4",
            "pattern": {
             "shape": ""
            }
           },
           "name": "Germany",
           "offsetgroup": "Germany",
           "orientation": "v",
           "showlegend": true,
           "textposition": "auto",
           "type": "bar",
           "x": [
            "Germany"
           ],
           "xaxis": "x",
           "y": [
            0
           ],
           "yaxis": "y"
          },
          {
           "alignmentgroup": "True",
           "hovertemplate": "country_name=%{x}<br>date=2020-03-09<br>value=%{y}<extra></extra>",
           "legendgroup": "Spain",
           "marker": {
            "color": "#FF7F0E",
            "pattern": {
             "shape": ""
            }
           },
           "name": "Spain",
           "offsetgroup": "Spain",
           "orientation": "v",
           "showlegend": true,
           "textposition": "auto",
           "type": "bar",
           "x": [
            "Spain"
           ],
           "xaxis": "x",
           "y": [
            0
           ],
           "yaxis": "y"
          },
          {
           "alignmentgroup": "True",
           "hovertemplate": "country_name=%{x}<br>date=2020-03-09<br>value=%{y}<extra></extra>",
           "legendgroup": "United States of America",
           "marker": {
            "color": "#2CA02C",
            "pattern": {
             "shape": ""
            }
           },
           "name": "United States of America",
           "offsetgroup": "United States of America",
           "orientation": "v",
           "showlegend": true,
           "textposition": "auto",
           "type": "bar",
           "x": [
            "United States of America"
           ],
           "xaxis": "x",
           "y": [
            0
           ],
           "yaxis": "y"
          }
         ],
         "name": "2020-03-09"
        },
        {
         "data": [
          {
           "alignmentgroup": "True",
           "hovertemplate": "country_name=%{x}<br>date=2020-03-16<br>value=%{y}<extra></extra>",
           "legendgroup": "Germany",
           "marker": {
            "color": "#1F77B4",
            "pattern": {
             "shape": ""
            }
           },
           "name": "Germany",
           "offsetgroup": "Germany",
           "orientation": "v",
           "showlegend": true,
           "textposition": "auto",
           "type": "bar",
           "x": [
            "Germany"
           ],
           "xaxis": "x",
           "y": [
            0
           ],
           "yaxis": "y"
          },
          {
           "alignmentgroup": "True",
           "hovertemplate": "country_name=%{x}<br>date=2020-03-16<br>value=%{y}<extra></extra>",
           "legendgroup": "Spain",
           "marker": {
            "color": "#FF7F0E",
            "pattern": {
             "shape": ""
            }
           },
           "name": "Spain",
           "offsetgroup": "Spain",
           "orientation": "v",
           "showlegend": true,
           "textposition": "auto",
           "type": "bar",
           "x": [
            "Spain"
           ],
           "xaxis": "x",
           "y": [
            0
           ],
           "yaxis": "y"
          },
          {
           "alignmentgroup": "True",
           "hovertemplate": "country_name=%{x}<br>date=2020-03-16<br>value=%{y}<extra></extra>",
           "legendgroup": "United States of America",
           "marker": {
            "color": "#2CA02C",
            "pattern": {
             "shape": ""
            }
           },
           "name": "United States of America",
           "offsetgroup": "United States of America",
           "orientation": "v",
           "showlegend": true,
           "textposition": "auto",
           "type": "bar",
           "x": [
            "United States of America"
           ],
           "xaxis": "x",
           "y": [
            0
           ],
           "yaxis": "y"
          }
         ],
         "name": "2020-03-16"
        },
        {
         "data": [
          {
           "alignmentgroup": "True",
           "hovertemplate": "country_name=%{x}<br>date=2020-03-23<br>value=%{y}<extra></extra>",
           "legendgroup": "Germany",
           "marker": {
            "color": "#1F77B4",
            "pattern": {
             "shape": ""
            }
           },
           "name": "Germany",
           "offsetgroup": "Germany",
           "orientation": "v",
           "showlegend": true,
           "textposition": "auto",
           "type": "bar",
           "x": [
            "Germany"
           ],
           "xaxis": "x",
           "y": [
            0
           ],
           "yaxis": "y"
          },
          {
           "alignmentgroup": "True",
           "hovertemplate": "country_name=%{x}<br>date=2020-03-23<br>value=%{y}<extra></extra>",
           "legendgroup": "Spain",
           "marker": {
            "color": "#FF7F0E",
            "pattern": {
             "shape": ""
            }
           },
           "name": "Spain",
           "offsetgroup": "Spain",
           "orientation": "v",
           "showlegend": true,
           "textposition": "auto",
           "type": "bar",
           "x": [
            "Spain"
           ],
           "xaxis": "x",
           "y": [
            0
           ],
           "yaxis": "y"
          },
          {
           "alignmentgroup": "True",
           "hovertemplate": "country_name=%{x}<br>date=2020-03-23<br>value=%{y}<extra></extra>",
           "legendgroup": "United States of America",
           "marker": {
            "color": "#2CA02C",
            "pattern": {
             "shape": ""
            }
           },
           "name": "United States of America",
           "offsetgroup": "United States of America",
           "orientation": "v",
           "showlegend": true,
           "textposition": "auto",
           "type": "bar",
           "x": [
            "United States of America"
           ],
           "xaxis": "x",
           "y": [
            0
           ],
           "yaxis": "y"
          }
         ],
         "name": "2020-03-23"
        },
        {
         "data": [
          {
           "alignmentgroup": "True",
           "hovertemplate": "country_name=%{x}<br>date=2020-03-30<br>value=%{y}<extra></extra>",
           "legendgroup": "Germany",
           "marker": {
            "color": "#1F77B4",
            "pattern": {
             "shape": ""
            }
           },
           "name": "Germany",
           "offsetgroup": "Germany",
           "orientation": "v",
           "showlegend": true,
           "textposition": "auto",
           "type": "bar",
           "x": [
            "Germany"
           ],
           "xaxis": "x",
           "y": [
            1
           ],
           "yaxis": "y"
          },
          {
           "alignmentgroup": "True",
           "hovertemplate": "country_name=%{x}<br>date=2020-03-30<br>value=%{y}<extra></extra>",
           "legendgroup": "Spain",
           "marker": {
            "color": "#FF7F0E",
            "pattern": {
             "shape": ""
            }
           },
           "name": "Spain",
           "offsetgroup": "Spain",
           "orientation": "v",
           "showlegend": true,
           "textposition": "auto",
           "type": "bar",
           "x": [
            "Spain"
           ],
           "xaxis": "x",
           "y": [
            0
           ],
           "yaxis": "y"
          },
          {
           "alignmentgroup": "True",
           "hovertemplate": "country_name=%{x}<br>date=2020-03-30<br>value=%{y}<extra></extra>",
           "legendgroup": "United States of America",
           "marker": {
            "color": "#2CA02C",
            "pattern": {
             "shape": ""
            }
           },
           "name": "United States of America",
           "offsetgroup": "United States of America",
           "orientation": "v",
           "showlegend": true,
           "textposition": "auto",
           "type": "bar",
           "x": [
            "United States of America"
           ],
           "xaxis": "x",
           "y": [
            0
           ],
           "yaxis": "y"
          }
         ],
         "name": "2020-03-30"
        },
        {
         "data": [
          {
           "alignmentgroup": "True",
           "hovertemplate": "country_name=%{x}<br>date=2020-04-06<br>value=%{y}<extra></extra>",
           "legendgroup": "Germany",
           "marker": {
            "color": "#1F77B4",
            "pattern": {
             "shape": ""
            }
           },
           "name": "Germany",
           "offsetgroup": "Germany",
           "orientation": "v",
           "showlegend": true,
           "textposition": "auto",
           "type": "bar",
           "x": [
            "Germany"
           ],
           "xaxis": "x",
           "y": [
            1
           ],
           "yaxis": "y"
          },
          {
           "alignmentgroup": "True",
           "hovertemplate": "country_name=%{x}<br>date=2020-04-06<br>value=%{y}<extra></extra>",
           "legendgroup": "Spain",
           "marker": {
            "color": "#FF7F0E",
            "pattern": {
             "shape": ""
            }
           },
           "name": "Spain",
           "offsetgroup": "Spain",
           "orientation": "v",
           "showlegend": true,
           "textposition": "auto",
           "type": "bar",
           "x": [
            "Spain"
           ],
           "xaxis": "x",
           "y": [
            0
           ],
           "yaxis": "y"
          },
          {
           "alignmentgroup": "True",
           "hovertemplate": "country_name=%{x}<br>date=2020-04-06<br>value=%{y}<extra></extra>",
           "legendgroup": "United States of America",
           "marker": {
            "color": "#2CA02C",
            "pattern": {
             "shape": ""
            }
           },
           "name": "United States of America",
           "offsetgroup": "United States of America",
           "orientation": "v",
           "showlegend": true,
           "textposition": "auto",
           "type": "bar",
           "x": [
            "United States of America"
           ],
           "xaxis": "x",
           "y": [
            0
           ],
           "yaxis": "y"
          }
         ],
         "name": "2020-04-06"
        },
        {
         "data": [
          {
           "alignmentgroup": "True",
           "hovertemplate": "country_name=%{x}<br>date=2020-04-13<br>value=%{y}<extra></extra>",
           "legendgroup": "Germany",
           "marker": {
            "color": "#1F77B4",
            "pattern": {
             "shape": ""
            }
           },
           "name": "Germany",
           "offsetgroup": "Germany",
           "orientation": "v",
           "showlegend": true,
           "textposition": "auto",
           "type": "bar",
           "x": [
            "Germany"
           ],
           "xaxis": "x",
           "y": [
            3
           ],
           "yaxis": "y"
          },
          {
           "alignmentgroup": "True",
           "hovertemplate": "country_name=%{x}<br>date=2020-04-13<br>value=%{y}<extra></extra>",
           "legendgroup": "Spain",
           "marker": {
            "color": "#FF7F0E",
            "pattern": {
             "shape": ""
            }
           },
           "name": "Spain",
           "offsetgroup": "Spain",
           "orientation": "v",
           "showlegend": true,
           "textposition": "auto",
           "type": "bar",
           "x": [
            "Spain"
           ],
           "xaxis": "x",
           "y": [
            0
           ],
           "yaxis": "y"
          },
          {
           "alignmentgroup": "True",
           "hovertemplate": "country_name=%{x}<br>date=2020-04-13<br>value=%{y}<extra></extra>",
           "legendgroup": "United States of America",
           "marker": {
            "color": "#2CA02C",
            "pattern": {
             "shape": ""
            }
           },
           "name": "United States of America",
           "offsetgroup": "United States of America",
           "orientation": "v",
           "showlegend": true,
           "textposition": "auto",
           "type": "bar",
           "x": [
            "United States of America"
           ],
           "xaxis": "x",
           "y": [
            0
           ],
           "yaxis": "y"
          }
         ],
         "name": "2020-04-13"
        },
        {
         "data": [
          {
           "alignmentgroup": "True",
           "hovertemplate": "country_name=%{x}<br>date=2020-04-20<br>value=%{y}<extra></extra>",
           "legendgroup": "Germany",
           "marker": {
            "color": "#1F77B4",
            "pattern": {
             "shape": ""
            }
           },
           "name": "Germany",
           "offsetgroup": "Germany",
           "orientation": "v",
           "showlegend": true,
           "textposition": "auto",
           "type": "bar",
           "x": [
            "Germany"
           ],
           "xaxis": "x",
           "y": [
            3
           ],
           "yaxis": "y"
          },
          {
           "alignmentgroup": "True",
           "hovertemplate": "country_name=%{x}<br>date=2020-04-20<br>value=%{y}<extra></extra>",
           "legendgroup": "Spain",
           "marker": {
            "color": "#FF7F0E",
            "pattern": {
             "shape": ""
            }
           },
           "name": "Spain",
           "offsetgroup": "Spain",
           "orientation": "v",
           "showlegend": true,
           "textposition": "auto",
           "type": "bar",
           "x": [
            "Spain"
           ],
           "xaxis": "x",
           "y": [
            0
           ],
           "yaxis": "y"
          },
          {
           "alignmentgroup": "True",
           "hovertemplate": "country_name=%{x}<br>date=2020-04-20<br>value=%{y}<extra></extra>",
           "legendgroup": "United States of America",
           "marker": {
            "color": "#2CA02C",
            "pattern": {
             "shape": ""
            }
           },
           "name": "United States of America",
           "offsetgroup": "United States of America",
           "orientation": "v",
           "showlegend": true,
           "textposition": "auto",
           "type": "bar",
           "x": [
            "United States of America"
           ],
           "xaxis": "x",
           "y": [
            0
           ],
           "yaxis": "y"
          }
         ],
         "name": "2020-04-20"
        },
        {
         "data": [
          {
           "alignmentgroup": "True",
           "hovertemplate": "country_name=%{x}<br>date=2020-04-27<br>value=%{y}<extra></extra>",
           "legendgroup": "Germany",
           "marker": {
            "color": "#1F77B4",
            "pattern": {
             "shape": ""
            }
           },
           "name": "Germany",
           "offsetgroup": "Germany",
           "orientation": "v",
           "showlegend": true,
           "textposition": "auto",
           "type": "bar",
           "x": [
            "Germany"
           ],
           "xaxis": "x",
           "y": [
            3
           ],
           "yaxis": "y"
          },
          {
           "alignmentgroup": "True",
           "hovertemplate": "country_name=%{x}<br>date=2020-04-27<br>value=%{y}<extra></extra>",
           "legendgroup": "Spain",
           "marker": {
            "color": "#FF7F0E",
            "pattern": {
             "shape": ""
            }
           },
           "name": "Spain",
           "offsetgroup": "Spain",
           "orientation": "v",
           "showlegend": true,
           "textposition": "auto",
           "type": "bar",
           "x": [
            "Spain"
           ],
           "xaxis": "x",
           "y": [
            0
           ],
           "yaxis": "y"
          },
          {
           "alignmentgroup": "True",
           "hovertemplate": "country_name=%{x}<br>date=2020-04-27<br>value=%{y}<extra></extra>",
           "legendgroup": "United States of America",
           "marker": {
            "color": "#2CA02C",
            "pattern": {
             "shape": ""
            }
           },
           "name": "United States of America",
           "offsetgroup": "United States of America",
           "orientation": "v",
           "showlegend": true,
           "textposition": "auto",
           "type": "bar",
           "x": [
            "United States of America"
           ],
           "xaxis": "x",
           "y": [
            0
           ],
           "yaxis": "y"
          }
         ],
         "name": "2020-04-27"
        },
        {
         "data": [
          {
           "alignmentgroup": "True",
           "hovertemplate": "country_name=%{x}<br>date=2020-05-04<br>value=%{y}<extra></extra>",
           "legendgroup": "Germany",
           "marker": {
            "color": "#1F77B4",
            "pattern": {
             "shape": ""
            }
           },
           "name": "Germany",
           "offsetgroup": "Germany",
           "orientation": "v",
           "showlegend": true,
           "textposition": "auto",
           "type": "bar",
           "x": [
            "Germany"
           ],
           "xaxis": "x",
           "y": [
            3
           ],
           "yaxis": "y"
          },
          {
           "alignmentgroup": "True",
           "hovertemplate": "country_name=%{x}<br>date=2020-05-04<br>value=%{y}<extra></extra>",
           "legendgroup": "Spain",
           "marker": {
            "color": "#FF7F0E",
            "pattern": {
             "shape": ""
            }
           },
           "name": "Spain",
           "offsetgroup": "Spain",
           "orientation": "v",
           "showlegend": true,
           "textposition": "auto",
           "type": "bar",
           "x": [
            "Spain"
           ],
           "xaxis": "x",
           "y": [
            0
           ],
           "yaxis": "y"
          },
          {
           "alignmentgroup": "True",
           "hovertemplate": "country_name=%{x}<br>date=2020-05-04<br>value=%{y}<extra></extra>",
           "legendgroup": "United States of America",
           "marker": {
            "color": "#2CA02C",
            "pattern": {
             "shape": ""
            }
           },
           "name": "United States of America",
           "offsetgroup": "United States of America",
           "orientation": "v",
           "showlegend": true,
           "textposition": "auto",
           "type": "bar",
           "x": [
            "United States of America"
           ],
           "xaxis": "x",
           "y": [
            0
           ],
           "yaxis": "y"
          }
         ],
         "name": "2020-05-04"
        },
        {
         "data": [
          {
           "alignmentgroup": "True",
           "hovertemplate": "country_name=%{x}<br>date=2020-05-11<br>value=%{y}<extra></extra>",
           "legendgroup": "Germany",
           "marker": {
            "color": "#1F77B4",
            "pattern": {
             "shape": ""
            }
           },
           "name": "Germany",
           "offsetgroup": "Germany",
           "orientation": "v",
           "showlegend": true,
           "textposition": "auto",
           "type": "bar",
           "x": [
            "Germany"
           ],
           "xaxis": "x",
           "y": [
            3
           ],
           "yaxis": "y"
          },
          {
           "alignmentgroup": "True",
           "hovertemplate": "country_name=%{x}<br>date=2020-05-11<br>value=%{y}<extra></extra>",
           "legendgroup": "Spain",
           "marker": {
            "color": "#FF7F0E",
            "pattern": {
             "shape": ""
            }
           },
           "name": "Spain",
           "offsetgroup": "Spain",
           "orientation": "v",
           "showlegend": true,
           "textposition": "auto",
           "type": "bar",
           "x": [
            "Spain"
           ],
           "xaxis": "x",
           "y": [
            0
           ],
           "yaxis": "y"
          },
          {
           "alignmentgroup": "True",
           "hovertemplate": "country_name=%{x}<br>date=2020-05-11<br>value=%{y}<extra></extra>",
           "legendgroup": "United States of America",
           "marker": {
            "color": "#2CA02C",
            "pattern": {
             "shape": ""
            }
           },
           "name": "United States of America",
           "offsetgroup": "United States of America",
           "orientation": "v",
           "showlegend": true,
           "textposition": "auto",
           "type": "bar",
           "x": [
            "United States of America"
           ],
           "xaxis": "x",
           "y": [
            0
           ],
           "yaxis": "y"
          }
         ],
         "name": "2020-05-11"
        },
        {
         "data": [
          {
           "alignmentgroup": "True",
           "hovertemplate": "country_name=%{x}<br>date=2020-05-18<br>value=%{y}<extra></extra>",
           "legendgroup": "Germany",
           "marker": {
            "color": "#1F77B4",
            "pattern": {
             "shape": ""
            }
           },
           "name": "Germany",
           "offsetgroup": "Germany",
           "orientation": "v",
           "showlegend": true,
           "textposition": "auto",
           "type": "bar",
           "x": [
            "Germany"
           ],
           "xaxis": "x",
           "y": [
            3
           ],
           "yaxis": "y"
          },
          {
           "alignmentgroup": "True",
           "hovertemplate": "country_name=%{x}<br>date=2020-05-18<br>value=%{y}<extra></extra>",
           "legendgroup": "Spain",
           "marker": {
            "color": "#FF7F0E",
            "pattern": {
             "shape": ""
            }
           },
           "name": "Spain",
           "offsetgroup": "Spain",
           "orientation": "v",
           "showlegend": true,
           "textposition": "auto",
           "type": "bar",
           "x": [
            "Spain"
           ],
           "xaxis": "x",
           "y": [
            0
           ],
           "yaxis": "y"
          },
          {
           "alignmentgroup": "True",
           "hovertemplate": "country_name=%{x}<br>date=2020-05-18<br>value=%{y}<extra></extra>",
           "legendgroup": "United States of America",
           "marker": {
            "color": "#2CA02C",
            "pattern": {
             "shape": ""
            }
           },
           "name": "United States of America",
           "offsetgroup": "United States of America",
           "orientation": "v",
           "showlegend": true,
           "textposition": "auto",
           "type": "bar",
           "x": [
            "United States of America"
           ],
           "xaxis": "x",
           "y": [
            0
           ],
           "yaxis": "y"
          }
         ],
         "name": "2020-05-18"
        },
        {
         "data": [
          {
           "alignmentgroup": "True",
           "hovertemplate": "country_name=%{x}<br>date=2020-05-25<br>value=%{y}<extra></extra>",
           "legendgroup": "Germany",
           "marker": {
            "color": "#1F77B4",
            "pattern": {
             "shape": ""
            }
           },
           "name": "Germany",
           "offsetgroup": "Germany",
           "orientation": "v",
           "showlegend": true,
           "textposition": "auto",
           "type": "bar",
           "x": [
            "Germany"
           ],
           "xaxis": "x",
           "y": [
            3
           ],
           "yaxis": "y"
          },
          {
           "alignmentgroup": "True",
           "hovertemplate": "country_name=%{x}<br>date=2020-05-25<br>value=%{y}<extra></extra>",
           "legendgroup": "Spain",
           "marker": {
            "color": "#FF7F0E",
            "pattern": {
             "shape": ""
            }
           },
           "name": "Spain",
           "offsetgroup": "Spain",
           "orientation": "v",
           "showlegend": true,
           "textposition": "auto",
           "type": "bar",
           "x": [
            "Spain"
           ],
           "xaxis": "x",
           "y": [
            0
           ],
           "yaxis": "y"
          },
          {
           "alignmentgroup": "True",
           "hovertemplate": "country_name=%{x}<br>date=2020-05-25<br>value=%{y}<extra></extra>",
           "legendgroup": "United States of America",
           "marker": {
            "color": "#2CA02C",
            "pattern": {
             "shape": ""
            }
           },
           "name": "United States of America",
           "offsetgroup": "United States of America",
           "orientation": "v",
           "showlegend": true,
           "textposition": "auto",
           "type": "bar",
           "x": [
            "United States of America"
           ],
           "xaxis": "x",
           "y": [
            1
           ],
           "yaxis": "y"
          }
         ],
         "name": "2020-05-25"
        },
        {
         "data": [
          {
           "alignmentgroup": "True",
           "hovertemplate": "country_name=%{x}<br>date=2020-06-01<br>value=%{y}<extra></extra>",
           "legendgroup": "Germany",
           "marker": {
            "color": "#1F77B4",
            "pattern": {
             "shape": ""
            }
           },
           "name": "Germany",
           "offsetgroup": "Germany",
           "orientation": "v",
           "showlegend": true,
           "textposition": "auto",
           "type": "bar",
           "x": [
            "Germany"
           ],
           "xaxis": "x",
           "y": [
            4
           ],
           "yaxis": "y"
          },
          {
           "alignmentgroup": "True",
           "hovertemplate": "country_name=%{x}<br>date=2020-06-01<br>value=%{y}<extra></extra>",
           "legendgroup": "Spain",
           "marker": {
            "color": "#FF7F0E",
            "pattern": {
             "shape": ""
            }
           },
           "name": "Spain",
           "offsetgroup": "Spain",
           "orientation": "v",
           "showlegend": true,
           "textposition": "auto",
           "type": "bar",
           "x": [
            "Spain"
           ],
           "xaxis": "x",
           "y": [
            0
           ],
           "yaxis": "y"
          },
          {
           "alignmentgroup": "True",
           "hovertemplate": "country_name=%{x}<br>date=2020-06-01<br>value=%{y}<extra></extra>",
           "legendgroup": "United States of America",
           "marker": {
            "color": "#2CA02C",
            "pattern": {
             "shape": ""
            }
           },
           "name": "United States of America",
           "offsetgroup": "United States of America",
           "orientation": "v",
           "showlegend": true,
           "textposition": "auto",
           "type": "bar",
           "x": [
            "United States of America"
           ],
           "xaxis": "x",
           "y": [
            0
           ],
           "yaxis": "y"
          }
         ],
         "name": "2020-06-01"
        },
        {
         "data": [
          {
           "alignmentgroup": "True",
           "hovertemplate": "country_name=%{x}<br>date=2020-06-08<br>value=%{y}<extra></extra>",
           "legendgroup": "Germany",
           "marker": {
            "color": "#1F77B4",
            "pattern": {
             "shape": ""
            }
           },
           "name": "Germany",
           "offsetgroup": "Germany",
           "orientation": "v",
           "showlegend": true,
           "textposition": "auto",
           "type": "bar",
           "x": [
            "Germany"
           ],
           "xaxis": "x",
           "y": [
            4
           ],
           "yaxis": "y"
          },
          {
           "alignmentgroup": "True",
           "hovertemplate": "country_name=%{x}<br>date=2020-06-08<br>value=%{y}<extra></extra>",
           "legendgroup": "Spain",
           "marker": {
            "color": "#FF7F0E",
            "pattern": {
             "shape": ""
            }
           },
           "name": "Spain",
           "offsetgroup": "Spain",
           "orientation": "v",
           "showlegend": true,
           "textposition": "auto",
           "type": "bar",
           "x": [
            "Spain"
           ],
           "xaxis": "x",
           "y": [
            0
           ],
           "yaxis": "y"
          },
          {
           "alignmentgroup": "True",
           "hovertemplate": "country_name=%{x}<br>date=2020-06-08<br>value=%{y}<extra></extra>",
           "legendgroup": "United States of America",
           "marker": {
            "color": "#2CA02C",
            "pattern": {
             "shape": ""
            }
           },
           "name": "United States of America",
           "offsetgroup": "United States of America",
           "orientation": "v",
           "showlegend": true,
           "textposition": "auto",
           "type": "bar",
           "x": [
            "United States of America"
           ],
           "xaxis": "x",
           "y": [
            0
           ],
           "yaxis": "y"
          }
         ],
         "name": "2020-06-08"
        },
        {
         "data": [
          {
           "alignmentgroup": "True",
           "hovertemplate": "country_name=%{x}<br>date=2020-06-15<br>value=%{y}<extra></extra>",
           "legendgroup": "Germany",
           "marker": {
            "color": "#1F77B4",
            "pattern": {
             "shape": ""
            }
           },
           "name": "Germany",
           "offsetgroup": "Germany",
           "orientation": "v",
           "showlegend": true,
           "textposition": "auto",
           "type": "bar",
           "x": [
            "Germany"
           ],
           "xaxis": "x",
           "y": [
            4
           ],
           "yaxis": "y"
          },
          {
           "alignmentgroup": "True",
           "hovertemplate": "country_name=%{x}<br>date=2020-06-15<br>value=%{y}<extra></extra>",
           "legendgroup": "Spain",
           "marker": {
            "color": "#FF7F0E",
            "pattern": {
             "shape": ""
            }
           },
           "name": "Spain",
           "offsetgroup": "Spain",
           "orientation": "v",
           "showlegend": true,
           "textposition": "auto",
           "type": "bar",
           "x": [
            "Spain"
           ],
           "xaxis": "x",
           "y": [
            0
           ],
           "yaxis": "y"
          },
          {
           "alignmentgroup": "True",
           "hovertemplate": "country_name=%{x}<br>date=2020-06-15<br>value=%{y}<extra></extra>",
           "legendgroup": "United States of America",
           "marker": {
            "color": "#2CA02C",
            "pattern": {
             "shape": ""
            }
           },
           "name": "United States of America",
           "offsetgroup": "United States of America",
           "orientation": "v",
           "showlegend": true,
           "textposition": "auto",
           "type": "bar",
           "x": [
            "United States of America"
           ],
           "xaxis": "x",
           "y": [
            0
           ],
           "yaxis": "y"
          }
         ],
         "name": "2020-06-15"
        },
        {
         "data": [
          {
           "alignmentgroup": "True",
           "hovertemplate": "country_name=%{x}<br>date=2020-06-22<br>value=%{y}<extra></extra>",
           "legendgroup": "Germany",
           "marker": {
            "color": "#1F77B4",
            "pattern": {
             "shape": ""
            }
           },
           "name": "Germany",
           "offsetgroup": "Germany",
           "orientation": "v",
           "showlegend": true,
           "textposition": "auto",
           "type": "bar",
           "x": [
            "Germany"
           ],
           "xaxis": "x",
           "y": [
            48
           ],
           "yaxis": "y"
          },
          {
           "alignmentgroup": "True",
           "hovertemplate": "country_name=%{x}<br>date=2020-06-22<br>value=%{y}<extra></extra>",
           "legendgroup": "Spain",
           "marker": {
            "color": "#FF7F0E",
            "pattern": {
             "shape": ""
            }
           },
           "name": "Spain",
           "offsetgroup": "Spain",
           "orientation": "v",
           "showlegend": true,
           "textposition": "auto",
           "type": "bar",
           "x": [
            "Spain"
           ],
           "xaxis": "x",
           "y": [
            0
           ],
           "yaxis": "y"
          },
          {
           "alignmentgroup": "True",
           "hovertemplate": "country_name=%{x}<br>date=2020-06-22<br>value=%{y}<extra></extra>",
           "legendgroup": "United States of America",
           "marker": {
            "color": "#2CA02C",
            "pattern": {
             "shape": ""
            }
           },
           "name": "United States of America",
           "offsetgroup": "United States of America",
           "orientation": "v",
           "showlegend": true,
           "textposition": "auto",
           "type": "bar",
           "x": [
            "United States of America"
           ],
           "xaxis": "x",
           "y": [
            0
           ],
           "yaxis": "y"
          }
         ],
         "name": "2020-06-22"
        },
        {
         "data": [
          {
           "alignmentgroup": "True",
           "hovertemplate": "country_name=%{x}<br>date=2020-06-29<br>value=%{y}<extra></extra>",
           "legendgroup": "Germany",
           "marker": {
            "color": "#1F77B4",
            "pattern": {
             "shape": ""
            }
           },
           "name": "Germany",
           "offsetgroup": "Germany",
           "orientation": "v",
           "showlegend": true,
           "textposition": "auto",
           "type": "bar",
           "x": [
            "Germany"
           ],
           "xaxis": "x",
           "y": [
            4
           ],
           "yaxis": "y"
          },
          {
           "alignmentgroup": "True",
           "hovertemplate": "country_name=%{x}<br>date=2020-06-29<br>value=%{y}<extra></extra>",
           "legendgroup": "Spain",
           "marker": {
            "color": "#FF7F0E",
            "pattern": {
             "shape": ""
            }
           },
           "name": "Spain",
           "offsetgroup": "Spain",
           "orientation": "v",
           "showlegend": true,
           "textposition": "auto",
           "type": "bar",
           "x": [
            "Spain"
           ],
           "xaxis": "x",
           "y": [
            0
           ],
           "yaxis": "y"
          },
          {
           "alignmentgroup": "True",
           "hovertemplate": "country_name=%{x}<br>date=2020-06-29<br>value=%{y}<extra></extra>",
           "legendgroup": "United States of America",
           "marker": {
            "color": "#2CA02C",
            "pattern": {
             "shape": ""
            }
           },
           "name": "United States of America",
           "offsetgroup": "United States of America",
           "orientation": "v",
           "showlegend": true,
           "textposition": "auto",
           "type": "bar",
           "x": [
            "United States of America"
           ],
           "xaxis": "x",
           "y": [
            0
           ],
           "yaxis": "y"
          }
         ],
         "name": "2020-06-29"
        },
        {
         "data": [
          {
           "alignmentgroup": "True",
           "hovertemplate": "country_name=%{x}<br>date=2020-07-06<br>value=%{y}<extra></extra>",
           "legendgroup": "Germany",
           "marker": {
            "color": "#1F77B4",
            "pattern": {
             "shape": ""
            }
           },
           "name": "Germany",
           "offsetgroup": "Germany",
           "orientation": "v",
           "showlegend": true,
           "textposition": "auto",
           "type": "bar",
           "x": [
            "Germany"
           ],
           "xaxis": "x",
           "y": [
            48
           ],
           "yaxis": "y"
          },
          {
           "alignmentgroup": "True",
           "hovertemplate": "country_name=%{x}<br>date=2020-07-06<br>value=%{y}<extra></extra>",
           "legendgroup": "Spain",
           "marker": {
            "color": "#FF7F0E",
            "pattern": {
             "shape": ""
            }
           },
           "name": "Spain",
           "offsetgroup": "Spain",
           "orientation": "v",
           "showlegend": true,
           "textposition": "auto",
           "type": "bar",
           "x": [
            "Spain"
           ],
           "xaxis": "x",
           "y": [
            0
           ],
           "yaxis": "y"
          },
          {
           "alignmentgroup": "True",
           "hovertemplate": "country_name=%{x}<br>date=2020-07-06<br>value=%{y}<extra></extra>",
           "legendgroup": "United States of America",
           "marker": {
            "color": "#2CA02C",
            "pattern": {
             "shape": ""
            }
           },
           "name": "United States of America",
           "offsetgroup": "United States of America",
           "orientation": "v",
           "showlegend": true,
           "textposition": "auto",
           "type": "bar",
           "x": [
            "United States of America"
           ],
           "xaxis": "x",
           "y": [
            0
           ],
           "yaxis": "y"
          }
         ],
         "name": "2020-07-06"
        },
        {
         "data": [
          {
           "alignmentgroup": "True",
           "hovertemplate": "country_name=%{x}<br>date=2020-07-13<br>value=%{y}<extra></extra>",
           "legendgroup": "Germany",
           "marker": {
            "color": "#1F77B4",
            "pattern": {
             "shape": ""
            }
           },
           "name": "Germany",
           "offsetgroup": "Germany",
           "orientation": "v",
           "showlegend": true,
           "textposition": "auto",
           "type": "bar",
           "x": [
            "Germany"
           ],
           "xaxis": "x",
           "y": [
            26
           ],
           "yaxis": "y"
          },
          {
           "alignmentgroup": "True",
           "hovertemplate": "country_name=%{x}<br>date=2020-07-13<br>value=%{y}<extra></extra>",
           "legendgroup": "Spain",
           "marker": {
            "color": "#FF7F0E",
            "pattern": {
             "shape": ""
            }
           },
           "name": "Spain",
           "offsetgroup": "Spain",
           "orientation": "v",
           "showlegend": true,
           "textposition": "auto",
           "type": "bar",
           "x": [
            "Spain"
           ],
           "xaxis": "x",
           "y": [
            0
           ],
           "yaxis": "y"
          },
          {
           "alignmentgroup": "True",
           "hovertemplate": "country_name=%{x}<br>date=2020-07-13<br>value=%{y}<extra></extra>",
           "legendgroup": "United States of America",
           "marker": {
            "color": "#2CA02C",
            "pattern": {
             "shape": ""
            }
           },
           "name": "United States of America",
           "offsetgroup": "United States of America",
           "orientation": "v",
           "showlegend": true,
           "textposition": "auto",
           "type": "bar",
           "x": [
            "United States of America"
           ],
           "xaxis": "x",
           "y": [
            0
           ],
           "yaxis": "y"
          }
         ],
         "name": "2020-07-13"
        },
        {
         "data": [
          {
           "alignmentgroup": "True",
           "hovertemplate": "country_name=%{x}<br>date=2020-07-20<br>value=%{y}<extra></extra>",
           "legendgroup": "Germany",
           "marker": {
            "color": "#1F77B4",
            "pattern": {
             "shape": ""
            }
           },
           "name": "Germany",
           "offsetgroup": "Germany",
           "orientation": "v",
           "showlegend": true,
           "textposition": "auto",
           "type": "bar",
           "x": [
            "Germany"
           ],
           "xaxis": "x",
           "y": [
            4
           ],
           "yaxis": "y"
          },
          {
           "alignmentgroup": "True",
           "hovertemplate": "country_name=%{x}<br>date=2020-07-20<br>value=%{y}<extra></extra>",
           "legendgroup": "Spain",
           "marker": {
            "color": "#FF7F0E",
            "pattern": {
             "shape": ""
            }
           },
           "name": "Spain",
           "offsetgroup": "Spain",
           "orientation": "v",
           "showlegend": true,
           "textposition": "auto",
           "type": "bar",
           "x": [
            "Spain"
           ],
           "xaxis": "x",
           "y": [
            0
           ],
           "yaxis": "y"
          },
          {
           "alignmentgroup": "True",
           "hovertemplate": "country_name=%{x}<br>date=2020-07-20<br>value=%{y}<extra></extra>",
           "legendgroup": "United States of America",
           "marker": {
            "color": "#2CA02C",
            "pattern": {
             "shape": ""
            }
           },
           "name": "United States of America",
           "offsetgroup": "United States of America",
           "orientation": "v",
           "showlegend": true,
           "textposition": "auto",
           "type": "bar",
           "x": [
            "United States of America"
           ],
           "xaxis": "x",
           "y": [
            0
           ],
           "yaxis": "y"
          }
         ],
         "name": "2020-07-20"
        },
        {
         "data": [
          {
           "alignmentgroup": "True",
           "hovertemplate": "country_name=%{x}<br>date=2020-07-27<br>value=%{y}<extra></extra>",
           "legendgroup": "Germany",
           "marker": {
            "color": "#1F77B4",
            "pattern": {
             "shape": ""
            }
           },
           "name": "Germany",
           "offsetgroup": "Germany",
           "orientation": "v",
           "showlegend": true,
           "textposition": "auto",
           "type": "bar",
           "x": [
            "Germany"
           ],
           "xaxis": "x",
           "y": [
            1
           ],
           "yaxis": "y"
          },
          {
           "alignmentgroup": "True",
           "hovertemplate": "country_name=%{x}<br>date=2020-07-27<br>value=%{y}<extra></extra>",
           "legendgroup": "Spain",
           "marker": {
            "color": "#FF7F0E",
            "pattern": {
             "shape": ""
            }
           },
           "name": "Spain",
           "offsetgroup": "Spain",
           "orientation": "v",
           "showlegend": true,
           "textposition": "auto",
           "type": "bar",
           "x": [
            "Spain"
           ],
           "xaxis": "x",
           "y": [
            0
           ],
           "yaxis": "y"
          },
          {
           "alignmentgroup": "True",
           "hovertemplate": "country_name=%{x}<br>date=2020-07-27<br>value=%{y}<extra></extra>",
           "legendgroup": "United States of America",
           "marker": {
            "color": "#2CA02C",
            "pattern": {
             "shape": ""
            }
           },
           "name": "United States of America",
           "offsetgroup": "United States of America",
           "orientation": "v",
           "showlegend": true,
           "textposition": "auto",
           "type": "bar",
           "x": [
            "United States of America"
           ],
           "xaxis": "x",
           "y": [
            0
           ],
           "yaxis": "y"
          }
         ],
         "name": "2020-07-27"
        },
        {
         "data": [
          {
           "alignmentgroup": "True",
           "hovertemplate": "country_name=%{x}<br>date=2020-08-03<br>value=%{y}<extra></extra>",
           "legendgroup": "Germany",
           "marker": {
            "color": "#1F77B4",
            "pattern": {
             "shape": ""
            }
           },
           "name": "Germany",
           "offsetgroup": "Germany",
           "orientation": "v",
           "showlegend": true,
           "textposition": "auto",
           "type": "bar",
           "x": [
            "Germany"
           ],
           "xaxis": "x",
           "y": [
            48
           ],
           "yaxis": "y"
          },
          {
           "alignmentgroup": "True",
           "hovertemplate": "country_name=%{x}<br>date=2020-08-03<br>value=%{y}<extra></extra>",
           "legendgroup": "Spain",
           "marker": {
            "color": "#FF7F0E",
            "pattern": {
             "shape": ""
            }
           },
           "name": "Spain",
           "offsetgroup": "Spain",
           "orientation": "v",
           "showlegend": true,
           "textposition": "auto",
           "type": "bar",
           "x": [
            "Spain"
           ],
           "xaxis": "x",
           "y": [
            0
           ],
           "yaxis": "y"
          },
          {
           "alignmentgroup": "True",
           "hovertemplate": "country_name=%{x}<br>date=2020-08-03<br>value=%{y}<extra></extra>",
           "legendgroup": "United States of America",
           "marker": {
            "color": "#2CA02C",
            "pattern": {
             "shape": ""
            }
           },
           "name": "United States of America",
           "offsetgroup": "United States of America",
           "orientation": "v",
           "showlegend": true,
           "textposition": "auto",
           "type": "bar",
           "x": [
            "United States of America"
           ],
           "xaxis": "x",
           "y": [
            0
           ],
           "yaxis": "y"
          }
         ],
         "name": "2020-08-03"
        },
        {
         "data": [
          {
           "alignmentgroup": "True",
           "hovertemplate": "country_name=%{x}<br>date=2020-08-10<br>value=%{y}<extra></extra>",
           "legendgroup": "Germany",
           "marker": {
            "color": "#1F77B4",
            "pattern": {
             "shape": ""
            }
           },
           "name": "Germany",
           "offsetgroup": "Germany",
           "orientation": "v",
           "showlegend": true,
           "textposition": "auto",
           "type": "bar",
           "x": [
            "Germany"
           ],
           "xaxis": "x",
           "y": [
            48
           ],
           "yaxis": "y"
          },
          {
           "alignmentgroup": "True",
           "hovertemplate": "country_name=%{x}<br>date=2020-08-10<br>value=%{y}<extra></extra>",
           "legendgroup": "Spain",
           "marker": {
            "color": "#FF7F0E",
            "pattern": {
             "shape": ""
            }
           },
           "name": "Spain",
           "offsetgroup": "Spain",
           "orientation": "v",
           "showlegend": true,
           "textposition": "auto",
           "type": "bar",
           "x": [
            "Spain"
           ],
           "xaxis": "x",
           "y": [
            0
           ],
           "yaxis": "y"
          },
          {
           "alignmentgroup": "True",
           "hovertemplate": "country_name=%{x}<br>date=2020-08-10<br>value=%{y}<extra></extra>",
           "legendgroup": "United States of America",
           "marker": {
            "color": "#2CA02C",
            "pattern": {
             "shape": ""
            }
           },
           "name": "United States of America",
           "offsetgroup": "United States of America",
           "orientation": "v",
           "showlegend": true,
           "textposition": "auto",
           "type": "bar",
           "x": [
            "United States of America"
           ],
           "xaxis": "x",
           "y": [
            0
           ],
           "yaxis": "y"
          }
         ],
         "name": "2020-08-10"
        },
        {
         "data": [
          {
           "alignmentgroup": "True",
           "hovertemplate": "country_name=%{x}<br>date=2020-08-17<br>value=%{y}<extra></extra>",
           "legendgroup": "Germany",
           "marker": {
            "color": "#1F77B4",
            "pattern": {
             "shape": ""
            }
           },
           "name": "Germany",
           "offsetgroup": "Germany",
           "orientation": "v",
           "showlegend": true,
           "textposition": "auto",
           "type": "bar",
           "x": [
            "Germany"
           ],
           "xaxis": "x",
           "y": [
            48
           ],
           "yaxis": "y"
          },
          {
           "alignmentgroup": "True",
           "hovertemplate": "country_name=%{x}<br>date=2020-08-17<br>value=%{y}<extra></extra>",
           "legendgroup": "Spain",
           "marker": {
            "color": "#FF7F0E",
            "pattern": {
             "shape": ""
            }
           },
           "name": "Spain",
           "offsetgroup": "Spain",
           "orientation": "v",
           "showlegend": true,
           "textposition": "auto",
           "type": "bar",
           "x": [
            "Spain"
           ],
           "xaxis": "x",
           "y": [
            0
           ],
           "yaxis": "y"
          },
          {
           "alignmentgroup": "True",
           "hovertemplate": "country_name=%{x}<br>date=2020-08-17<br>value=%{y}<extra></extra>",
           "legendgroup": "United States of America",
           "marker": {
            "color": "#2CA02C",
            "pattern": {
             "shape": ""
            }
           },
           "name": "United States of America",
           "offsetgroup": "United States of America",
           "orientation": "v",
           "showlegend": true,
           "textposition": "auto",
           "type": "bar",
           "x": [
            "United States of America"
           ],
           "xaxis": "x",
           "y": [
            0
           ],
           "yaxis": "y"
          }
         ],
         "name": "2020-08-17"
        },
        {
         "data": [
          {
           "alignmentgroup": "True",
           "hovertemplate": "country_name=%{x}<br>date=2020-08-24<br>value=%{y}<extra></extra>",
           "legendgroup": "Germany",
           "marker": {
            "color": "#1F77B4",
            "pattern": {
             "shape": ""
            }
           },
           "name": "Germany",
           "offsetgroup": "Germany",
           "orientation": "v",
           "showlegend": true,
           "textposition": "auto",
           "type": "bar",
           "x": [
            "Germany"
           ],
           "xaxis": "x",
           "y": [
            4
           ],
           "yaxis": "y"
          },
          {
           "alignmentgroup": "True",
           "hovertemplate": "country_name=%{x}<br>date=2020-08-24<br>value=%{y}<extra></extra>",
           "legendgroup": "Spain",
           "marker": {
            "color": "#FF7F0E",
            "pattern": {
             "shape": ""
            }
           },
           "name": "Spain",
           "offsetgroup": "Spain",
           "orientation": "v",
           "showlegend": true,
           "textposition": "auto",
           "type": "bar",
           "x": [
            "Spain"
           ],
           "xaxis": "x",
           "y": [
            0
           ],
           "yaxis": "y"
          },
          {
           "alignmentgroup": "True",
           "hovertemplate": "country_name=%{x}<br>date=2020-08-24<br>value=%{y}<extra></extra>",
           "legendgroup": "United States of America",
           "marker": {
            "color": "#2CA02C",
            "pattern": {
             "shape": ""
            }
           },
           "name": "United States of America",
           "offsetgroup": "United States of America",
           "orientation": "v",
           "showlegend": true,
           "textposition": "auto",
           "type": "bar",
           "x": [
            "United States of America"
           ],
           "xaxis": "x",
           "y": [
            0
           ],
           "yaxis": "y"
          }
         ],
         "name": "2020-08-24"
        },
        {
         "data": [
          {
           "alignmentgroup": "True",
           "hovertemplate": "country_name=%{x}<br>date=2020-08-31<br>value=%{y}<extra></extra>",
           "legendgroup": "Germany",
           "marker": {
            "color": "#1F77B4",
            "pattern": {
             "shape": ""
            }
           },
           "name": "Germany",
           "offsetgroup": "Germany",
           "orientation": "v",
           "showlegend": true,
           "textposition": "auto",
           "type": "bar",
           "x": [
            "Germany"
           ],
           "xaxis": "x",
           "y": [
            4
           ],
           "yaxis": "y"
          },
          {
           "alignmentgroup": "True",
           "hovertemplate": "country_name=%{x}<br>date=2020-08-31<br>value=%{y}<extra></extra>",
           "legendgroup": "Spain",
           "marker": {
            "color": "#FF7F0E",
            "pattern": {
             "shape": ""
            }
           },
           "name": "Spain",
           "offsetgroup": "Spain",
           "orientation": "v",
           "showlegend": true,
           "textposition": "auto",
           "type": "bar",
           "x": [
            "Spain"
           ],
           "xaxis": "x",
           "y": [
            0
           ],
           "yaxis": "y"
          },
          {
           "alignmentgroup": "True",
           "hovertemplate": "country_name=%{x}<br>date=2020-08-31<br>value=%{y}<extra></extra>",
           "legendgroup": "United States of America",
           "marker": {
            "color": "#2CA02C",
            "pattern": {
             "shape": ""
            }
           },
           "name": "United States of America",
           "offsetgroup": "United States of America",
           "orientation": "v",
           "showlegend": true,
           "textposition": "auto",
           "type": "bar",
           "x": [
            "United States of America"
           ],
           "xaxis": "x",
           "y": [
            0
           ],
           "yaxis": "y"
          }
         ],
         "name": "2020-08-31"
        },
        {
         "data": [
          {
           "alignmentgroup": "True",
           "hovertemplate": "country_name=%{x}<br>date=2020-09-07<br>value=%{y}<extra></extra>",
           "legendgroup": "Germany",
           "marker": {
            "color": "#1F77B4",
            "pattern": {
             "shape": ""
            }
           },
           "name": "Germany",
           "offsetgroup": "Germany",
           "orientation": "v",
           "showlegend": true,
           "textposition": "auto",
           "type": "bar",
           "x": [
            "Germany"
           ],
           "xaxis": "x",
           "y": [
            4
           ],
           "yaxis": "y"
          },
          {
           "alignmentgroup": "True",
           "hovertemplate": "country_name=%{x}<br>date=2020-09-07<br>value=%{y}<extra></extra>",
           "legendgroup": "Spain",
           "marker": {
            "color": "#FF7F0E",
            "pattern": {
             "shape": ""
            }
           },
           "name": "Spain",
           "offsetgroup": "Spain",
           "orientation": "v",
           "showlegend": true,
           "textposition": "auto",
           "type": "bar",
           "x": [
            "Spain"
           ],
           "xaxis": "x",
           "y": [
            0
           ],
           "yaxis": "y"
          },
          {
           "alignmentgroup": "True",
           "hovertemplate": "country_name=%{x}<br>date=2020-09-07<br>value=%{y}<extra></extra>",
           "legendgroup": "United States of America",
           "marker": {
            "color": "#2CA02C",
            "pattern": {
             "shape": ""
            }
           },
           "name": "United States of America",
           "offsetgroup": "United States of America",
           "orientation": "v",
           "showlegend": true,
           "textposition": "auto",
           "type": "bar",
           "x": [
            "United States of America"
           ],
           "xaxis": "x",
           "y": [
            0
           ],
           "yaxis": "y"
          }
         ],
         "name": "2020-09-07"
        },
        {
         "data": [
          {
           "alignmentgroup": "True",
           "hovertemplate": "country_name=%{x}<br>date=2020-09-14<br>value=%{y}<extra></extra>",
           "legendgroup": "Germany",
           "marker": {
            "color": "#1F77B4",
            "pattern": {
             "shape": ""
            }
           },
           "name": "Germany",
           "offsetgroup": "Germany",
           "orientation": "v",
           "showlegend": true,
           "textposition": "auto",
           "type": "bar",
           "x": [
            "Germany"
           ],
           "xaxis": "x",
           "y": [
            4
           ],
           "yaxis": "y"
          },
          {
           "alignmentgroup": "True",
           "hovertemplate": "country_name=%{x}<br>date=2020-09-14<br>value=%{y}<extra></extra>",
           "legendgroup": "Spain",
           "marker": {
            "color": "#FF7F0E",
            "pattern": {
             "shape": ""
            }
           },
           "name": "Spain",
           "offsetgroup": "Spain",
           "orientation": "v",
           "showlegend": true,
           "textposition": "auto",
           "type": "bar",
           "x": [
            "Spain"
           ],
           "xaxis": "x",
           "y": [
            0
           ],
           "yaxis": "y"
          },
          {
           "alignmentgroup": "True",
           "hovertemplate": "country_name=%{x}<br>date=2020-09-14<br>value=%{y}<extra></extra>",
           "legendgroup": "United States of America",
           "marker": {
            "color": "#2CA02C",
            "pattern": {
             "shape": ""
            }
           },
           "name": "United States of America",
           "offsetgroup": "United States of America",
           "orientation": "v",
           "showlegend": true,
           "textposition": "auto",
           "type": "bar",
           "x": [
            "United States of America"
           ],
           "xaxis": "x",
           "y": [
            0
           ],
           "yaxis": "y"
          }
         ],
         "name": "2020-09-14"
        },
        {
         "data": [
          {
           "alignmentgroup": "True",
           "hovertemplate": "country_name=%{x}<br>date=2020-09-21<br>value=%{y}<extra></extra>",
           "legendgroup": "Germany",
           "marker": {
            "color": "#1F77B4",
            "pattern": {
             "shape": ""
            }
           },
           "name": "Germany",
           "offsetgroup": "Germany",
           "orientation": "v",
           "showlegend": true,
           "textposition": "auto",
           "type": "bar",
           "x": [
            "Germany"
           ],
           "xaxis": "x",
           "y": [
            4
           ],
           "yaxis": "y"
          },
          {
           "alignmentgroup": "True",
           "hovertemplate": "country_name=%{x}<br>date=2020-09-21<br>value=%{y}<extra></extra>",
           "legendgroup": "Spain",
           "marker": {
            "color": "#FF7F0E",
            "pattern": {
             "shape": ""
            }
           },
           "name": "Spain",
           "offsetgroup": "Spain",
           "orientation": "v",
           "showlegend": true,
           "textposition": "auto",
           "type": "bar",
           "x": [
            "Spain"
           ],
           "xaxis": "x",
           "y": [
            0
           ],
           "yaxis": "y"
          },
          {
           "alignmentgroup": "True",
           "hovertemplate": "country_name=%{x}<br>date=2020-09-21<br>value=%{y}<extra></extra>",
           "legendgroup": "United States of America",
           "marker": {
            "color": "#2CA02C",
            "pattern": {
             "shape": ""
            }
           },
           "name": "United States of America",
           "offsetgroup": "United States of America",
           "orientation": "v",
           "showlegend": true,
           "textposition": "auto",
           "type": "bar",
           "x": [
            "United States of America"
           ],
           "xaxis": "x",
           "y": [
            0
           ],
           "yaxis": "y"
          }
         ],
         "name": "2020-09-21"
        },
        {
         "data": [
          {
           "alignmentgroup": "True",
           "hovertemplate": "country_name=%{x}<br>date=2020-09-28<br>value=%{y}<extra></extra>",
           "legendgroup": "Germany",
           "marker": {
            "color": "#1F77B4",
            "pattern": {
             "shape": ""
            }
           },
           "name": "Germany",
           "offsetgroup": "Germany",
           "orientation": "v",
           "showlegend": true,
           "textposition": "auto",
           "type": "bar",
           "x": [
            "Germany"
           ],
           "xaxis": "x",
           "y": [
            4
           ],
           "yaxis": "y"
          },
          {
           "alignmentgroup": "True",
           "hovertemplate": "country_name=%{x}<br>date=2020-09-28<br>value=%{y}<extra></extra>",
           "legendgroup": "Spain",
           "marker": {
            "color": "#FF7F0E",
            "pattern": {
             "shape": ""
            }
           },
           "name": "Spain",
           "offsetgroup": "Spain",
           "orientation": "v",
           "showlegend": true,
           "textposition": "auto",
           "type": "bar",
           "x": [
            "Spain"
           ],
           "xaxis": "x",
           "y": [
            0
           ],
           "yaxis": "y"
          },
          {
           "alignmentgroup": "True",
           "hovertemplate": "country_name=%{x}<br>date=2020-09-28<br>value=%{y}<extra></extra>",
           "legendgroup": "United States of America",
           "marker": {
            "color": "#2CA02C",
            "pattern": {
             "shape": ""
            }
           },
           "name": "United States of America",
           "offsetgroup": "United States of America",
           "orientation": "v",
           "showlegend": true,
           "textposition": "auto",
           "type": "bar",
           "x": [
            "United States of America"
           ],
           "xaxis": "x",
           "y": [
            0
           ],
           "yaxis": "y"
          }
         ],
         "name": "2020-09-28"
        },
        {
         "data": [
          {
           "alignmentgroup": "True",
           "hovertemplate": "country_name=%{x}<br>date=2020-10-05<br>value=%{y}<extra></extra>",
           "legendgroup": "Germany",
           "marker": {
            "color": "#1F77B4",
            "pattern": {
             "shape": ""
            }
           },
           "name": "Germany",
           "offsetgroup": "Germany",
           "orientation": "v",
           "showlegend": true,
           "textposition": "auto",
           "type": "bar",
           "x": [
            "Germany"
           ],
           "xaxis": "x",
           "y": [
            4
           ],
           "yaxis": "y"
          },
          {
           "alignmentgroup": "True",
           "hovertemplate": "country_name=%{x}<br>date=2020-10-05<br>value=%{y}<extra></extra>",
           "legendgroup": "Spain",
           "marker": {
            "color": "#FF7F0E",
            "pattern": {
             "shape": ""
            }
           },
           "name": "Spain",
           "offsetgroup": "Spain",
           "orientation": "v",
           "showlegend": true,
           "textposition": "auto",
           "type": "bar",
           "x": [
            "Spain"
           ],
           "xaxis": "x",
           "y": [
            0
           ],
           "yaxis": "y"
          },
          {
           "alignmentgroup": "True",
           "hovertemplate": "country_name=%{x}<br>date=2020-10-05<br>value=%{y}<extra></extra>",
           "legendgroup": "United States of America",
           "marker": {
            "color": "#2CA02C",
            "pattern": {
             "shape": ""
            }
           },
           "name": "United States of America",
           "offsetgroup": "United States of America",
           "orientation": "v",
           "showlegend": true,
           "textposition": "auto",
           "type": "bar",
           "x": [
            "United States of America"
           ],
           "xaxis": "x",
           "y": [
            0
           ],
           "yaxis": "y"
          }
         ],
         "name": "2020-10-05"
        },
        {
         "data": [
          {
           "alignmentgroup": "True",
           "hovertemplate": "country_name=%{x}<br>date=2020-10-12<br>value=%{y}<extra></extra>",
           "legendgroup": "Germany",
           "marker": {
            "color": "#1F77B4",
            "pattern": {
             "shape": ""
            }
           },
           "name": "Germany",
           "offsetgroup": "Germany",
           "orientation": "v",
           "showlegend": true,
           "textposition": "auto",
           "type": "bar",
           "x": [
            "Germany"
           ],
           "xaxis": "x",
           "y": [
            4
           ],
           "yaxis": "y"
          },
          {
           "alignmentgroup": "True",
           "hovertemplate": "country_name=%{x}<br>date=2020-10-12<br>value=%{y}<extra></extra>",
           "legendgroup": "Spain",
           "marker": {
            "color": "#FF7F0E",
            "pattern": {
             "shape": ""
            }
           },
           "name": "Spain",
           "offsetgroup": "Spain",
           "orientation": "v",
           "showlegend": true,
           "textposition": "auto",
           "type": "bar",
           "x": [
            "Spain"
           ],
           "xaxis": "x",
           "y": [
            0
           ],
           "yaxis": "y"
          },
          {
           "alignmentgroup": "True",
           "hovertemplate": "country_name=%{x}<br>date=2020-10-12<br>value=%{y}<extra></extra>",
           "legendgroup": "United States of America",
           "marker": {
            "color": "#2CA02C",
            "pattern": {
             "shape": ""
            }
           },
           "name": "United States of America",
           "offsetgroup": "United States of America",
           "orientation": "v",
           "showlegend": true,
           "textposition": "auto",
           "type": "bar",
           "x": [
            "United States of America"
           ],
           "xaxis": "x",
           "y": [
            0
           ],
           "yaxis": "y"
          }
         ],
         "name": "2020-10-12"
        },
        {
         "data": [
          {
           "alignmentgroup": "True",
           "hovertemplate": "country_name=%{x}<br>date=2020-10-19<br>value=%{y}<extra></extra>",
           "legendgroup": "Germany",
           "marker": {
            "color": "#1F77B4",
            "pattern": {
             "shape": ""
            }
           },
           "name": "Germany",
           "offsetgroup": "Germany",
           "orientation": "v",
           "showlegend": true,
           "textposition": "auto",
           "type": "bar",
           "x": [
            "Germany"
           ],
           "xaxis": "x",
           "y": [
            5
           ],
           "yaxis": "y"
          },
          {
           "alignmentgroup": "True",
           "hovertemplate": "country_name=%{x}<br>date=2020-10-19<br>value=%{y}<extra></extra>",
           "legendgroup": "Spain",
           "marker": {
            "color": "#FF7F0E",
            "pattern": {
             "shape": ""
            }
           },
           "name": "Spain",
           "offsetgroup": "Spain",
           "orientation": "v",
           "showlegend": true,
           "textposition": "auto",
           "type": "bar",
           "x": [
            "Spain"
           ],
           "xaxis": "x",
           "y": [
            0
           ],
           "yaxis": "y"
          },
          {
           "alignmentgroup": "True",
           "hovertemplate": "country_name=%{x}<br>date=2020-10-19<br>value=%{y}<extra></extra>",
           "legendgroup": "United States of America",
           "marker": {
            "color": "#2CA02C",
            "pattern": {
             "shape": ""
            }
           },
           "name": "United States of America",
           "offsetgroup": "United States of America",
           "orientation": "v",
           "showlegend": true,
           "textposition": "auto",
           "type": "bar",
           "x": [
            "United States of America"
           ],
           "xaxis": "x",
           "y": [
            0
           ],
           "yaxis": "y"
          }
         ],
         "name": "2020-10-19"
        },
        {
         "data": [
          {
           "alignmentgroup": "True",
           "hovertemplate": "country_name=%{x}<br>date=2020-10-26<br>value=%{y}<extra></extra>",
           "legendgroup": "Germany",
           "marker": {
            "color": "#1F77B4",
            "pattern": {
             "shape": ""
            }
           },
           "name": "Germany",
           "offsetgroup": "Germany",
           "orientation": "v",
           "showlegend": true,
           "textposition": "auto",
           "type": "bar",
           "x": [
            "Germany"
           ],
           "xaxis": "x",
           "y": [
            6
           ],
           "yaxis": "y"
          },
          {
           "alignmentgroup": "True",
           "hovertemplate": "country_name=%{x}<br>date=2020-10-26<br>value=%{y}<extra></extra>",
           "legendgroup": "Spain",
           "marker": {
            "color": "#FF7F0E",
            "pattern": {
             "shape": ""
            }
           },
           "name": "Spain",
           "offsetgroup": "Spain",
           "orientation": "v",
           "showlegend": true,
           "textposition": "auto",
           "type": "bar",
           "x": [
            "Spain"
           ],
           "xaxis": "x",
           "y": [
            1
           ],
           "yaxis": "y"
          },
          {
           "alignmentgroup": "True",
           "hovertemplate": "country_name=%{x}<br>date=2020-10-26<br>value=%{y}<extra></extra>",
           "legendgroup": "United States of America",
           "marker": {
            "color": "#2CA02C",
            "pattern": {
             "shape": ""
            }
           },
           "name": "United States of America",
           "offsetgroup": "United States of America",
           "orientation": "v",
           "showlegend": true,
           "textposition": "auto",
           "type": "bar",
           "x": [
            "United States of America"
           ],
           "xaxis": "x",
           "y": [
            0
           ],
           "yaxis": "y"
          }
         ],
         "name": "2020-10-26"
        },
        {
         "data": [
          {
           "alignmentgroup": "True",
           "hovertemplate": "country_name=%{x}<br>date=2020-11-02<br>value=%{y}<extra></extra>",
           "legendgroup": "Germany",
           "marker": {
            "color": "#1F77B4",
            "pattern": {
             "shape": ""
            }
           },
           "name": "Germany",
           "offsetgroup": "Germany",
           "orientation": "v",
           "showlegend": true,
           "textposition": "auto",
           "type": "bar",
           "x": [
            "Germany"
           ],
           "xaxis": "x",
           "y": [
            8
           ],
           "yaxis": "y"
          },
          {
           "alignmentgroup": "True",
           "hovertemplate": "country_name=%{x}<br>date=2020-11-02<br>value=%{y}<extra></extra>",
           "legendgroup": "Spain",
           "marker": {
            "color": "#FF7F0E",
            "pattern": {
             "shape": ""
            }
           },
           "name": "Spain",
           "offsetgroup": "Spain",
           "orientation": "v",
           "showlegend": true,
           "textposition": "auto",
           "type": "bar",
           "x": [
            "Spain"
           ],
           "xaxis": "x",
           "y": [
            1
           ],
           "yaxis": "y"
          },
          {
           "alignmentgroup": "True",
           "hovertemplate": "country_name=%{x}<br>date=2020-11-02<br>value=%{y}<extra></extra>",
           "legendgroup": "United States of America",
           "marker": {
            "color": "#2CA02C",
            "pattern": {
             "shape": ""
            }
           },
           "name": "United States of America",
           "offsetgroup": "United States of America",
           "orientation": "v",
           "showlegend": true,
           "textposition": "auto",
           "type": "bar",
           "x": [
            "United States of America"
           ],
           "xaxis": "x",
           "y": [
            0
           ],
           "yaxis": "y"
          }
         ],
         "name": "2020-11-02"
        },
        {
         "data": [
          {
           "alignmentgroup": "True",
           "hovertemplate": "country_name=%{x}<br>date=2020-11-09<br>value=%{y}<extra></extra>",
           "legendgroup": "Germany",
           "marker": {
            "color": "#1F77B4",
            "pattern": {
             "shape": ""
            }
           },
           "name": "Germany",
           "offsetgroup": "Germany",
           "orientation": "v",
           "showlegend": true,
           "textposition": "auto",
           "type": "bar",
           "x": [
            "Germany"
           ],
           "xaxis": "x",
           "y": [
            9
           ],
           "yaxis": "y"
          },
          {
           "alignmentgroup": "True",
           "hovertemplate": "country_name=%{x}<br>date=2020-11-09<br>value=%{y}<extra></extra>",
           "legendgroup": "Spain",
           "marker": {
            "color": "#FF7F0E",
            "pattern": {
             "shape": ""
            }
           },
           "name": "Spain",
           "offsetgroup": "Spain",
           "orientation": "v",
           "showlegend": true,
           "textposition": "auto",
           "type": "bar",
           "x": [
            "Spain"
           ],
           "xaxis": "x",
           "y": [
            1
           ],
           "yaxis": "y"
          },
          {
           "alignmentgroup": "True",
           "hovertemplate": "country_name=%{x}<br>date=2020-11-09<br>value=%{y}<extra></extra>",
           "legendgroup": "United States of America",
           "marker": {
            "color": "#2CA02C",
            "pattern": {
             "shape": ""
            }
           },
           "name": "United States of America",
           "offsetgroup": "United States of America",
           "orientation": "v",
           "showlegend": true,
           "textposition": "auto",
           "type": "bar",
           "x": [
            "United States of America"
           ],
           "xaxis": "x",
           "y": [
            0
           ],
           "yaxis": "y"
          }
         ],
         "name": "2020-11-09"
        },
        {
         "data": [
          {
           "alignmentgroup": "True",
           "hovertemplate": "country_name=%{x}<br>date=2020-11-16<br>value=%{y}<extra></extra>",
           "legendgroup": "Germany",
           "marker": {
            "color": "#1F77B4",
            "pattern": {
             "shape": ""
            }
           },
           "name": "Germany",
           "offsetgroup": "Germany",
           "orientation": "v",
           "showlegend": true,
           "textposition": "auto",
           "type": "bar",
           "x": [
            "Germany"
           ],
           "xaxis": "x",
           "y": [
            14
           ],
           "yaxis": "y"
          },
          {
           "alignmentgroup": "True",
           "hovertemplate": "country_name=%{x}<br>date=2020-11-16<br>value=%{y}<extra></extra>",
           "legendgroup": "Spain",
           "marker": {
            "color": "#FF7F0E",
            "pattern": {
             "shape": ""
            }
           },
           "name": "Spain",
           "offsetgroup": "Spain",
           "orientation": "v",
           "showlegend": true,
           "textposition": "auto",
           "type": "bar",
           "x": [
            "Spain"
           ],
           "xaxis": "x",
           "y": [
            1
           ],
           "yaxis": "y"
          },
          {
           "alignmentgroup": "True",
           "hovertemplate": "country_name=%{x}<br>date=2020-11-16<br>value=%{y}<extra></extra>",
           "legendgroup": "United States of America",
           "marker": {
            "color": "#2CA02C",
            "pattern": {
             "shape": ""
            }
           },
           "name": "United States of America",
           "offsetgroup": "United States of America",
           "orientation": "v",
           "showlegend": true,
           "textposition": "auto",
           "type": "bar",
           "x": [
            "United States of America"
           ],
           "xaxis": "x",
           "y": [
            0
           ],
           "yaxis": "y"
          }
         ],
         "name": "2020-11-16"
        },
        {
         "data": [
          {
           "alignmentgroup": "True",
           "hovertemplate": "country_name=%{x}<br>date=2020-11-23<br>value=%{y}<extra></extra>",
           "legendgroup": "Germany",
           "marker": {
            "color": "#1F77B4",
            "pattern": {
             "shape": ""
            }
           },
           "name": "Germany",
           "offsetgroup": "Germany",
           "orientation": "v",
           "showlegend": true,
           "textposition": "auto",
           "type": "bar",
           "x": [
            "Germany"
           ],
           "xaxis": "x",
           "y": [
            26
           ],
           "yaxis": "y"
          },
          {
           "alignmentgroup": "True",
           "hovertemplate": "country_name=%{x}<br>date=2020-11-23<br>value=%{y}<extra></extra>",
           "legendgroup": "Spain",
           "marker": {
            "color": "#FF7F0E",
            "pattern": {
             "shape": ""
            }
           },
           "name": "Spain",
           "offsetgroup": "Spain",
           "orientation": "v",
           "showlegend": true,
           "textposition": "auto",
           "type": "bar",
           "x": [
            "Spain"
           ],
           "xaxis": "x",
           "y": [
            1
           ],
           "yaxis": "y"
          },
          {
           "alignmentgroup": "True",
           "hovertemplate": "country_name=%{x}<br>date=2020-11-23<br>value=%{y}<extra></extra>",
           "legendgroup": "United States of America",
           "marker": {
            "color": "#2CA02C",
            "pattern": {
             "shape": ""
            }
           },
           "name": "United States of America",
           "offsetgroup": "United States of America",
           "orientation": "v",
           "showlegend": true,
           "textposition": "auto",
           "type": "bar",
           "x": [
            "United States of America"
           ],
           "xaxis": "x",
           "y": [
            1
           ],
           "yaxis": "y"
          }
         ],
         "name": "2020-11-23"
        },
        {
         "data": [
          {
           "alignmentgroup": "True",
           "hovertemplate": "country_name=%{x}<br>date=2020-11-30<br>value=%{y}<extra></extra>",
           "legendgroup": "Germany",
           "marker": {
            "color": "#1F77B4",
            "pattern": {
             "shape": ""
            }
           },
           "name": "Germany",
           "offsetgroup": "Germany",
           "orientation": "v",
           "showlegend": true,
           "textposition": "auto",
           "type": "bar",
           "x": [
            "Germany"
           ],
           "xaxis": "x",
           "y": [
            42
           ],
           "yaxis": "y"
          },
          {
           "alignmentgroup": "True",
           "hovertemplate": "country_name=%{x}<br>date=2020-11-30<br>value=%{y}<extra></extra>",
           "legendgroup": "Spain",
           "marker": {
            "color": "#FF7F0E",
            "pattern": {
             "shape": ""
            }
           },
           "name": "Spain",
           "offsetgroup": "Spain",
           "orientation": "v",
           "showlegend": true,
           "textposition": "auto",
           "type": "bar",
           "x": [
            "Spain"
           ],
           "xaxis": "x",
           "y": [
            1
           ],
           "yaxis": "y"
          },
          {
           "alignmentgroup": "True",
           "hovertemplate": "country_name=%{x}<br>date=2020-11-30<br>value=%{y}<extra></extra>",
           "legendgroup": "United States of America",
           "marker": {
            "color": "#2CA02C",
            "pattern": {
             "shape": ""
            }
           },
           "name": "United States of America",
           "offsetgroup": "United States of America",
           "orientation": "v",
           "showlegend": true,
           "textposition": "auto",
           "type": "bar",
           "x": [
            "United States of America"
           ],
           "xaxis": "x",
           "y": [
            1
           ],
           "yaxis": "y"
          }
         ],
         "name": "2020-11-30"
        },
        {
         "data": [
          {
           "alignmentgroup": "True",
           "hovertemplate": "country_name=%{x}<br>date=2020-12-07<br>value=%{y}<extra></extra>",
           "legendgroup": "Germany",
           "marker": {
            "color": "#1F77B4",
            "pattern": {
             "shape": ""
            }
           },
           "name": "Germany",
           "offsetgroup": "Germany",
           "orientation": "v",
           "showlegend": true,
           "textposition": "auto",
           "type": "bar",
           "x": [
            "Germany"
           ],
           "xaxis": "x",
           "y": [
            71
           ],
           "yaxis": "y"
          },
          {
           "alignmentgroup": "True",
           "hovertemplate": "country_name=%{x}<br>date=2020-12-07<br>value=%{y}<extra></extra>",
           "legendgroup": "Spain",
           "marker": {
            "color": "#FF7F0E",
            "pattern": {
             "shape": ""
            }
           },
           "name": "Spain",
           "offsetgroup": "Spain",
           "orientation": "v",
           "showlegend": true,
           "textposition": "auto",
           "type": "bar",
           "x": [
            "Spain"
           ],
           "xaxis": "x",
           "y": [
            1
           ],
           "yaxis": "y"
          },
          {
           "alignmentgroup": "True",
           "hovertemplate": "country_name=%{x}<br>date=2020-12-07<br>value=%{y}<extra></extra>",
           "legendgroup": "United States of America",
           "marker": {
            "color": "#2CA02C",
            "pattern": {
             "shape": ""
            }
           },
           "name": "United States of America",
           "offsetgroup": "United States of America",
           "orientation": "v",
           "showlegend": true,
           "textposition": "auto",
           "type": "bar",
           "x": [
            "United States of America"
           ],
           "xaxis": "x",
           "y": [
            2
           ],
           "yaxis": "y"
          }
         ],
         "name": "2020-12-07"
        },
        {
         "data": [
          {
           "alignmentgroup": "True",
           "hovertemplate": "country_name=%{x}<br>date=2020-12-14<br>value=%{y}<extra></extra>",
           "legendgroup": "Germany",
           "marker": {
            "color": "#1F77B4",
            "pattern": {
             "shape": ""
            }
           },
           "name": "Germany",
           "offsetgroup": "Germany",
           "orientation": "v",
           "showlegend": true,
           "textposition": "auto",
           "type": "bar",
           "x": [
            "Germany"
           ],
           "xaxis": "x",
           "y": [
            96
           ],
           "yaxis": "y"
          },
          {
           "alignmentgroup": "True",
           "hovertemplate": "country_name=%{x}<br>date=2020-12-14<br>value=%{y}<extra></extra>",
           "legendgroup": "Spain",
           "marker": {
            "color": "#FF7F0E",
            "pattern": {
             "shape": ""
            }
           },
           "name": "Spain",
           "offsetgroup": "Spain",
           "orientation": "v",
           "showlegend": true,
           "textposition": "auto",
           "type": "bar",
           "x": [
            "Spain"
           ],
           "xaxis": "x",
           "y": [
            1
           ],
           "yaxis": "y"
          },
          {
           "alignmentgroup": "True",
           "hovertemplate": "country_name=%{x}<br>date=2020-12-14<br>value=%{y}<extra></extra>",
           "legendgroup": "United States of America",
           "marker": {
            "color": "#2CA02C",
            "pattern": {
             "shape": ""
            }
           },
           "name": "United States of America",
           "offsetgroup": "United States of America",
           "orientation": "v",
           "showlegend": true,
           "textposition": "auto",
           "type": "bar",
           "x": [
            "United States of America"
           ],
           "xaxis": "x",
           "y": [
            2
           ],
           "yaxis": "y"
          }
         ],
         "name": "2020-12-14"
        },
        {
         "data": [
          {
           "alignmentgroup": "True",
           "hovertemplate": "country_name=%{x}<br>date=2020-12-21<br>value=%{y}<extra></extra>",
           "legendgroup": "Germany",
           "marker": {
            "color": "#1F77B4",
            "pattern": {
             "shape": ""
            }
           },
           "name": "Germany",
           "offsetgroup": "Germany",
           "orientation": "v",
           "showlegend": true,
           "textposition": "auto",
           "type": "bar",
           "x": [
            "Germany"
           ],
           "xaxis": "x",
           "y": [
            112
           ],
           "yaxis": "y"
          },
          {
           "alignmentgroup": "True",
           "hovertemplate": "country_name=%{x}<br>date=2020-12-21<br>value=%{y}<extra></extra>",
           "legendgroup": "Spain",
           "marker": {
            "color": "#FF7F0E",
            "pattern": {
             "shape": ""
            }
           },
           "name": "Spain",
           "offsetgroup": "Spain",
           "orientation": "v",
           "showlegend": true,
           "textposition": "auto",
           "type": "bar",
           "x": [
            "Spain"
           ],
           "xaxis": "x",
           "y": [
            1
           ],
           "yaxis": "y"
          },
          {
           "alignmentgroup": "True",
           "hovertemplate": "country_name=%{x}<br>date=2020-12-21<br>value=%{y}<extra></extra>",
           "legendgroup": "United States of America",
           "marker": {
            "color": "#2CA02C",
            "pattern": {
             "shape": ""
            }
           },
           "name": "United States of America",
           "offsetgroup": "United States of America",
           "orientation": "v",
           "showlegend": true,
           "textposition": "auto",
           "type": "bar",
           "x": [
            "United States of America"
           ],
           "xaxis": "x",
           "y": [
            2
           ],
           "yaxis": "y"
          }
         ],
         "name": "2020-12-21"
        },
        {
         "data": [
          {
           "alignmentgroup": "True",
           "hovertemplate": "country_name=%{x}<br>date=2020-12-28<br>value=%{y}<extra></extra>",
           "legendgroup": "Germany",
           "marker": {
            "color": "#1F77B4",
            "pattern": {
             "shape": ""
            }
           },
           "name": "Germany",
           "offsetgroup": "Germany",
           "orientation": "v",
           "showlegend": true,
           "textposition": "auto",
           "type": "bar",
           "x": [
            "Germany"
           ],
           "xaxis": "x",
           "y": [
            134
           ],
           "yaxis": "y"
          },
          {
           "alignmentgroup": "True",
           "hovertemplate": "country_name=%{x}<br>date=2020-12-28<br>value=%{y}<extra></extra>",
           "legendgroup": "Spain",
           "marker": {
            "color": "#FF7F0E",
            "pattern": {
             "shape": ""
            }
           },
           "name": "Spain",
           "offsetgroup": "Spain",
           "orientation": "v",
           "showlegend": true,
           "textposition": "auto",
           "type": "bar",
           "x": [
            "Spain"
           ],
           "xaxis": "x",
           "y": [
            1
           ],
           "yaxis": "y"
          },
          {
           "alignmentgroup": "True",
           "hovertemplate": "country_name=%{x}<br>date=2020-12-28<br>value=%{y}<extra></extra>",
           "legendgroup": "United States of America",
           "marker": {
            "color": "#2CA02C",
            "pattern": {
             "shape": ""
            }
           },
           "name": "United States of America",
           "offsetgroup": "United States of America",
           "orientation": "v",
           "showlegend": true,
           "textposition": "auto",
           "type": "bar",
           "x": [
            "United States of America"
           ],
           "xaxis": "x",
           "y": [
            2
           ],
           "yaxis": "y"
          }
         ],
         "name": "2020-12-28"
        },
        {
         "data": [
          {
           "alignmentgroup": "True",
           "hovertemplate": "country_name=%{x}<br>date=2021-01-04<br>value=%{y}<extra></extra>",
           "legendgroup": "Germany",
           "marker": {
            "color": "#1F77B4",
            "pattern": {
             "shape": ""
            }
           },
           "name": "Germany",
           "offsetgroup": "Germany",
           "orientation": "v",
           "showlegend": true,
           "textposition": "auto",
           "type": "bar",
           "x": [
            "Germany"
           ],
           "xaxis": "x",
           "y": [
            161
           ],
           "yaxis": "y"
          },
          {
           "alignmentgroup": "True",
           "hovertemplate": "country_name=%{x}<br>date=2021-01-04<br>value=%{y}<extra></extra>",
           "legendgroup": "Spain",
           "marker": {
            "color": "#FF7F0E",
            "pattern": {
             "shape": ""
            }
           },
           "name": "Spain",
           "offsetgroup": "Spain",
           "orientation": "v",
           "showlegend": true,
           "textposition": "auto",
           "type": "bar",
           "x": [
            "Spain"
           ],
           "xaxis": "x",
           "y": [
            1
           ],
           "yaxis": "y"
          },
          {
           "alignmentgroup": "True",
           "hovertemplate": "country_name=%{x}<br>date=2021-01-04<br>value=%{y}<extra></extra>",
           "legendgroup": "United States of America",
           "marker": {
            "color": "#2CA02C",
            "pattern": {
             "shape": ""
            }
           },
           "name": "United States of America",
           "offsetgroup": "United States of America",
           "orientation": "v",
           "showlegend": true,
           "textposition": "auto",
           "type": "bar",
           "x": [
            "United States of America"
           ],
           "xaxis": "x",
           "y": [
            2
           ],
           "yaxis": "y"
          }
         ],
         "name": "2021-01-04"
        },
        {
         "data": [
          {
           "alignmentgroup": "True",
           "hovertemplate": "country_name=%{x}<br>date=2021-01-11<br>value=%{y}<extra></extra>",
           "legendgroup": "Germany",
           "marker": {
            "color": "#1F77B4",
            "pattern": {
             "shape": ""
            }
           },
           "name": "Germany",
           "offsetgroup": "Germany",
           "orientation": "v",
           "showlegend": true,
           "textposition": "auto",
           "type": "bar",
           "x": [
            "Germany"
           ],
           "xaxis": "x",
           "y": [
            177
           ],
           "yaxis": "y"
          },
          {
           "alignmentgroup": "True",
           "hovertemplate": "country_name=%{x}<br>date=2021-01-11<br>value=%{y}<extra></extra>",
           "legendgroup": "Spain",
           "marker": {
            "color": "#FF7F0E",
            "pattern": {
             "shape": ""
            }
           },
           "name": "Spain",
           "offsetgroup": "Spain",
           "orientation": "v",
           "showlegend": true,
           "textposition": "auto",
           "type": "bar",
           "x": [
            "Spain"
           ],
           "xaxis": "x",
           "y": [
            2
           ],
           "yaxis": "y"
          },
          {
           "alignmentgroup": "True",
           "hovertemplate": "country_name=%{x}<br>date=2021-01-11<br>value=%{y}<extra></extra>",
           "legendgroup": "United States of America",
           "marker": {
            "color": "#2CA02C",
            "pattern": {
             "shape": ""
            }
           },
           "name": "United States of America",
           "offsetgroup": "United States of America",
           "orientation": "v",
           "showlegend": true,
           "textposition": "auto",
           "type": "bar",
           "x": [
            "United States of America"
           ],
           "xaxis": "x",
           "y": [
            4
           ],
           "yaxis": "y"
          }
         ],
         "name": "2021-01-11"
        },
        {
         "data": [
          {
           "alignmentgroup": "True",
           "hovertemplate": "country_name=%{x}<br>date=2021-01-18<br>value=%{y}<extra></extra>",
           "legendgroup": "Germany",
           "marker": {
            "color": "#1F77B4",
            "pattern": {
             "shape": ""
            }
           },
           "name": "Germany",
           "offsetgroup": "Germany",
           "orientation": "v",
           "showlegend": true,
           "textposition": "auto",
           "type": "bar",
           "x": [
            "Germany"
           ],
           "xaxis": "x",
           "y": [
            204
           ],
           "yaxis": "y"
          },
          {
           "alignmentgroup": "True",
           "hovertemplate": "country_name=%{x}<br>date=2021-01-18<br>value=%{y}<extra></extra>",
           "legendgroup": "Spain",
           "marker": {
            "color": "#FF7F0E",
            "pattern": {
             "shape": ""
            }
           },
           "name": "Spain",
           "offsetgroup": "Spain",
           "orientation": "v",
           "showlegend": true,
           "textposition": "auto",
           "type": "bar",
           "x": [
            "Spain"
           ],
           "xaxis": "x",
           "y": [
            3
           ],
           "yaxis": "y"
          },
          {
           "alignmentgroup": "True",
           "hovertemplate": "country_name=%{x}<br>date=2021-01-18<br>value=%{y}<extra></extra>",
           "legendgroup": "United States of America",
           "marker": {
            "color": "#2CA02C",
            "pattern": {
             "shape": ""
            }
           },
           "name": "United States of America",
           "offsetgroup": "United States of America",
           "orientation": "v",
           "showlegend": true,
           "textposition": "auto",
           "type": "bar",
           "x": [
            "United States of America"
           ],
           "xaxis": "x",
           "y": [
            4
           ],
           "yaxis": "y"
          }
         ],
         "name": "2021-01-18"
        },
        {
         "data": [
          {
           "alignmentgroup": "True",
           "hovertemplate": "country_name=%{x}<br>date=2021-01-25<br>value=%{y}<extra></extra>",
           "legendgroup": "Germany",
           "marker": {
            "color": "#1F77B4",
            "pattern": {
             "shape": ""
            }
           },
           "name": "Germany",
           "offsetgroup": "Germany",
           "orientation": "v",
           "showlegend": true,
           "textposition": "auto",
           "type": "bar",
           "x": [
            "Germany"
           ],
           "xaxis": "x",
           "y": [
            214
           ],
           "yaxis": "y"
          },
          {
           "alignmentgroup": "True",
           "hovertemplate": "country_name=%{x}<br>date=2021-01-25<br>value=%{y}<extra></extra>",
           "legendgroup": "Spain",
           "marker": {
            "color": "#FF7F0E",
            "pattern": {
             "shape": ""
            }
           },
           "name": "Spain",
           "offsetgroup": "Spain",
           "orientation": "v",
           "showlegend": true,
           "textposition": "auto",
           "type": "bar",
           "x": [
            "Spain"
           ],
           "xaxis": "x",
           "y": [
            3
           ],
           "yaxis": "y"
          },
          {
           "alignmentgroup": "True",
           "hovertemplate": "country_name=%{x}<br>date=2021-01-25<br>value=%{y}<extra></extra>",
           "legendgroup": "United States of America",
           "marker": {
            "color": "#2CA02C",
            "pattern": {
             "shape": ""
            }
           },
           "name": "United States of America",
           "offsetgroup": "United States of America",
           "orientation": "v",
           "showlegend": true,
           "textposition": "auto",
           "type": "bar",
           "x": [
            "United States of America"
           ],
           "xaxis": "x",
           "y": [
            4
           ],
           "yaxis": "y"
          }
         ],
         "name": "2021-01-25"
        },
        {
         "data": [
          {
           "alignmentgroup": "True",
           "hovertemplate": "country_name=%{x}<br>date=2021-02-01<br>value=%{y}<extra></extra>",
           "legendgroup": "Germany",
           "marker": {
            "color": "#1F77B4",
            "pattern": {
             "shape": ""
            }
           },
           "name": "Germany",
           "offsetgroup": "Germany",
           "orientation": "v",
           "showlegend": true,
           "textposition": "auto",
           "type": "bar",
           "x": [
            "Germany"
           ],
           "xaxis": "x",
           "y": [
            225
           ],
           "yaxis": "y"
          },
          {
           "alignmentgroup": "True",
           "hovertemplate": "country_name=%{x}<br>date=2021-02-01<br>value=%{y}<extra></extra>",
           "legendgroup": "Spain",
           "marker": {
            "color": "#FF7F0E",
            "pattern": {
             "shape": ""
            }
           },
           "name": "Spain",
           "offsetgroup": "Spain",
           "orientation": "v",
           "showlegend": true,
           "textposition": "auto",
           "type": "bar",
           "x": [
            "Spain"
           ],
           "xaxis": "x",
           "y": [
            3
           ],
           "yaxis": "y"
          },
          {
           "alignmentgroup": "True",
           "hovertemplate": "country_name=%{x}<br>date=2021-02-01<br>value=%{y}<extra></extra>",
           "legendgroup": "United States of America",
           "marker": {
            "color": "#2CA02C",
            "pattern": {
             "shape": ""
            }
           },
           "name": "United States of America",
           "offsetgroup": "United States of America",
           "orientation": "v",
           "showlegend": true,
           "textposition": "auto",
           "type": "bar",
           "x": [
            "United States of America"
           ],
           "xaxis": "x",
           "y": [
            4
           ],
           "yaxis": "y"
          }
         ],
         "name": "2021-02-01"
        },
        {
         "data": [
          {
           "alignmentgroup": "True",
           "hovertemplate": "country_name=%{x}<br>date=2021-02-08<br>value=%{y}<extra></extra>",
           "legendgroup": "Germany",
           "marker": {
            "color": "#1F77B4",
            "pattern": {
             "shape": ""
            }
           },
           "name": "Germany",
           "offsetgroup": "Germany",
           "orientation": "v",
           "showlegend": true,
           "textposition": "auto",
           "type": "bar",
           "x": [
            "Germany"
           ],
           "xaxis": "x",
           "y": [
            236
           ],
           "yaxis": "y"
          },
          {
           "alignmentgroup": "True",
           "hovertemplate": "country_name=%{x}<br>date=2021-02-08<br>value=%{y}<extra></extra>",
           "legendgroup": "Spain",
           "marker": {
            "color": "#FF7F0E",
            "pattern": {
             "shape": ""
            }
           },
           "name": "Spain",
           "offsetgroup": "Spain",
           "orientation": "v",
           "showlegend": true,
           "textposition": "auto",
           "type": "bar",
           "x": [
            "Spain"
           ],
           "xaxis": "x",
           "y": [
            3
           ],
           "yaxis": "y"
          },
          {
           "alignmentgroup": "True",
           "hovertemplate": "country_name=%{x}<br>date=2021-02-08<br>value=%{y}<extra></extra>",
           "legendgroup": "United States of America",
           "marker": {
            "color": "#2CA02C",
            "pattern": {
             "shape": ""
            }
           },
           "name": "United States of America",
           "offsetgroup": "United States of America",
           "orientation": "v",
           "showlegend": true,
           "textposition": "auto",
           "type": "bar",
           "x": [
            "United States of America"
           ],
           "xaxis": "x",
           "y": [
            5
           ],
           "yaxis": "y"
          }
         ],
         "name": "2021-02-08"
        },
        {
         "data": [
          {
           "alignmentgroup": "True",
           "hovertemplate": "country_name=%{x}<br>date=2021-02-15<br>value=%{y}<extra></extra>",
           "legendgroup": "Germany",
           "marker": {
            "color": "#1F77B4",
            "pattern": {
             "shape": ""
            }
           },
           "name": "Germany",
           "offsetgroup": "Germany",
           "orientation": "v",
           "showlegend": true,
           "textposition": "auto",
           "type": "bar",
           "x": [
            "Germany"
           ],
           "xaxis": "x",
           "y": [
            248
           ],
           "yaxis": "y"
          },
          {
           "alignmentgroup": "True",
           "hovertemplate": "country_name=%{x}<br>date=2021-02-15<br>value=%{y}<extra></extra>",
           "legendgroup": "Spain",
           "marker": {
            "color": "#FF7F0E",
            "pattern": {
             "shape": ""
            }
           },
           "name": "Spain",
           "offsetgroup": "Spain",
           "orientation": "v",
           "showlegend": true,
           "textposition": "auto",
           "type": "bar",
           "x": [
            "Spain"
           ],
           "xaxis": "x",
           "y": [
            4
           ],
           "yaxis": "y"
          },
          {
           "alignmentgroup": "True",
           "hovertemplate": "country_name=%{x}<br>date=2021-02-15<br>value=%{y}<extra></extra>",
           "legendgroup": "United States of America",
           "marker": {
            "color": "#2CA02C",
            "pattern": {
             "shape": ""
            }
           },
           "name": "United States of America",
           "offsetgroup": "United States of America",
           "orientation": "v",
           "showlegend": true,
           "textposition": "auto",
           "type": "bar",
           "x": [
            "United States of America"
           ],
           "xaxis": "x",
           "y": [
            5
           ],
           "yaxis": "y"
          }
         ],
         "name": "2021-02-15"
        },
        {
         "data": [
          {
           "alignmentgroup": "True",
           "hovertemplate": "country_name=%{x}<br>date=2021-02-22<br>value=%{y}<extra></extra>",
           "legendgroup": "Germany",
           "marker": {
            "color": "#1F77B4",
            "pattern": {
             "shape": ""
            }
           },
           "name": "Germany",
           "offsetgroup": "Germany",
           "orientation": "v",
           "showlegend": true,
           "textposition": "auto",
           "type": "bar",
           "x": [
            "Germany"
           ],
           "xaxis": "x",
           "y": [
            251
           ],
           "yaxis": "y"
          },
          {
           "alignmentgroup": "True",
           "hovertemplate": "country_name=%{x}<br>date=2021-02-22<br>value=%{y}<extra></extra>",
           "legendgroup": "Spain",
           "marker": {
            "color": "#FF7F0E",
            "pattern": {
             "shape": ""
            }
           },
           "name": "Spain",
           "offsetgroup": "Spain",
           "orientation": "v",
           "showlegend": true,
           "textposition": "auto",
           "type": "bar",
           "x": [
            "Spain"
           ],
           "xaxis": "x",
           "y": [
            4
           ],
           "yaxis": "y"
          },
          {
           "alignmentgroup": "True",
           "hovertemplate": "country_name=%{x}<br>date=2021-02-22<br>value=%{y}<extra></extra>",
           "legendgroup": "United States of America",
           "marker": {
            "color": "#2CA02C",
            "pattern": {
             "shape": ""
            }
           },
           "name": "United States of America",
           "offsetgroup": "United States of America",
           "orientation": "v",
           "showlegend": true,
           "textposition": "auto",
           "type": "bar",
           "x": [
            "United States of America"
           ],
           "xaxis": "x",
           "y": [
            5
           ],
           "yaxis": "y"
          }
         ],
         "name": "2021-02-22"
        },
        {
         "data": [
          {
           "alignmentgroup": "True",
           "hovertemplate": "country_name=%{x}<br>date=2021-03-01<br>value=%{y}<extra></extra>",
           "legendgroup": "Germany",
           "marker": {
            "color": "#1F77B4",
            "pattern": {
             "shape": ""
            }
           },
           "name": "Germany",
           "offsetgroup": "Germany",
           "orientation": "v",
           "showlegend": true,
           "textposition": "auto",
           "type": "bar",
           "x": [
            "Germany"
           ],
           "xaxis": "x",
           "y": [
            253
           ],
           "yaxis": "y"
          },
          {
           "alignmentgroup": "True",
           "hovertemplate": "country_name=%{x}<br>date=2021-03-01<br>value=%{y}<extra></extra>",
           "legendgroup": "Spain",
           "marker": {
            "color": "#FF7F0E",
            "pattern": {
             "shape": ""
            }
           },
           "name": "Spain",
           "offsetgroup": "Spain",
           "orientation": "v",
           "showlegend": true,
           "textposition": "auto",
           "type": "bar",
           "x": [
            "Spain"
           ],
           "xaxis": "x",
           "y": [
            4
           ],
           "yaxis": "y"
          },
          {
           "alignmentgroup": "True",
           "hovertemplate": "country_name=%{x}<br>date=2021-03-01<br>value=%{y}<extra></extra>",
           "legendgroup": "United States of America",
           "marker": {
            "color": "#2CA02C",
            "pattern": {
             "shape": ""
            }
           },
           "name": "United States of America",
           "offsetgroup": "United States of America",
           "orientation": "v",
           "showlegend": true,
           "textposition": "auto",
           "type": "bar",
           "x": [
            "United States of America"
           ],
           "xaxis": "x",
           "y": [
            5
           ],
           "yaxis": "y"
          }
         ],
         "name": "2021-03-01"
        },
        {
         "data": [
          {
           "alignmentgroup": "True",
           "hovertemplate": "country_name=%{x}<br>date=2021-03-08<br>value=%{y}<extra></extra>",
           "legendgroup": "Germany",
           "marker": {
            "color": "#1F77B4",
            "pattern": {
             "shape": ""
            }
           },
           "name": "Germany",
           "offsetgroup": "Germany",
           "orientation": "v",
           "showlegend": true,
           "textposition": "auto",
           "type": "bar",
           "x": [
            "Germany"
           ],
           "xaxis": "x",
           "y": [
            254
           ],
           "yaxis": "y"
          },
          {
           "alignmentgroup": "True",
           "hovertemplate": "country_name=%{x}<br>date=2021-03-08<br>value=%{y}<extra></extra>",
           "legendgroup": "Spain",
           "marker": {
            "color": "#FF7F0E",
            "pattern": {
             "shape": ""
            }
           },
           "name": "Spain",
           "offsetgroup": "Spain",
           "orientation": "v",
           "showlegend": true,
           "textposition": "auto",
           "type": "bar",
           "x": [
            "Spain"
           ],
           "xaxis": "x",
           "y": [
            4
           ],
           "yaxis": "y"
          },
          {
           "alignmentgroup": "True",
           "hovertemplate": "country_name=%{x}<br>date=2021-03-08<br>value=%{y}<extra></extra>",
           "legendgroup": "United States of America",
           "marker": {
            "color": "#2CA02C",
            "pattern": {
             "shape": ""
            }
           },
           "name": "United States of America",
           "offsetgroup": "United States of America",
           "orientation": "v",
           "showlegend": true,
           "textposition": "auto",
           "type": "bar",
           "x": [
            "United States of America"
           ],
           "xaxis": "x",
           "y": [
            5
           ],
           "yaxis": "y"
          }
         ],
         "name": "2021-03-08"
        },
        {
         "data": [
          {
           "alignmentgroup": "True",
           "hovertemplate": "country_name=%{x}<br>date=2021-03-15<br>value=%{y}<extra></extra>",
           "legendgroup": "Germany",
           "marker": {
            "color": "#1F77B4",
            "pattern": {
             "shape": ""
            }
           },
           "name": "Germany",
           "offsetgroup": "Germany",
           "orientation": "v",
           "showlegend": true,
           "textposition": "auto",
           "type": "bar",
           "x": [
            "Germany"
           ],
           "xaxis": "x",
           "y": [
            258
           ],
           "yaxis": "y"
          },
          {
           "alignmentgroup": "True",
           "hovertemplate": "country_name=%{x}<br>date=2021-03-15<br>value=%{y}<extra></extra>",
           "legendgroup": "Spain",
           "marker": {
            "color": "#FF7F0E",
            "pattern": {
             "shape": ""
            }
           },
           "name": "Spain",
           "offsetgroup": "Spain",
           "orientation": "v",
           "showlegend": true,
           "textposition": "auto",
           "type": "bar",
           "x": [
            "Spain"
           ],
           "xaxis": "x",
           "y": [
            4
           ],
           "yaxis": "y"
          },
          {
           "alignmentgroup": "True",
           "hovertemplate": "country_name=%{x}<br>date=2021-03-15<br>value=%{y}<extra></extra>",
           "legendgroup": "United States of America",
           "marker": {
            "color": "#2CA02C",
            "pattern": {
             "shape": ""
            }
           },
           "name": "United States of America",
           "offsetgroup": "United States of America",
           "orientation": "v",
           "showlegend": true,
           "textposition": "auto",
           "type": "bar",
           "x": [
            "United States of America"
           ],
           "xaxis": "x",
           "y": [
            5
           ],
           "yaxis": "y"
          }
         ],
         "name": "2021-03-15"
        },
        {
         "data": [
          {
           "alignmentgroup": "True",
           "hovertemplate": "country_name=%{x}<br>date=2021-03-22<br>value=%{y}<extra></extra>",
           "legendgroup": "Germany",
           "marker": {
            "color": "#1F77B4",
            "pattern": {
             "shape": ""
            }
           },
           "name": "Germany",
           "offsetgroup": "Germany",
           "orientation": "v",
           "showlegend": true,
           "textposition": "auto",
           "type": "bar",
           "x": [
            "Germany"
           ],
           "xaxis": "x",
           "y": [
            262
           ],
           "yaxis": "y"
          },
          {
           "alignmentgroup": "True",
           "hovertemplate": "country_name=%{x}<br>date=2021-03-22<br>value=%{y}<extra></extra>",
           "legendgroup": "Spain",
           "marker": {
            "color": "#FF7F0E",
            "pattern": {
             "shape": ""
            }
           },
           "name": "Spain",
           "offsetgroup": "Spain",
           "orientation": "v",
           "showlegend": true,
           "textposition": "auto",
           "type": "bar",
           "x": [
            "Spain"
           ],
           "xaxis": "x",
           "y": [
            4
           ],
           "yaxis": "y"
          },
          {
           "alignmentgroup": "True",
           "hovertemplate": "country_name=%{x}<br>date=2021-03-22<br>value=%{y}<extra></extra>",
           "legendgroup": "United States of America",
           "marker": {
            "color": "#2CA02C",
            "pattern": {
             "shape": ""
            }
           },
           "name": "United States of America",
           "offsetgroup": "United States of America",
           "orientation": "v",
           "showlegend": true,
           "textposition": "auto",
           "type": "bar",
           "x": [
            "United States of America"
           ],
           "xaxis": "x",
           "y": [
            5
           ],
           "yaxis": "y"
          }
         ],
         "name": "2021-03-22"
        },
        {
         "data": [
          {
           "alignmentgroup": "True",
           "hovertemplate": "country_name=%{x}<br>date=2021-03-29<br>value=%{y}<extra></extra>",
           "legendgroup": "Germany",
           "marker": {
            "color": "#1F77B4",
            "pattern": {
             "shape": ""
            }
           },
           "name": "Germany",
           "offsetgroup": "Germany",
           "orientation": "v",
           "showlegend": true,
           "textposition": "auto",
           "type": "bar",
           "x": [
            "Germany"
           ],
           "xaxis": "x",
           "y": [
            268
           ],
           "yaxis": "y"
          },
          {
           "alignmentgroup": "True",
           "hovertemplate": "country_name=%{x}<br>date=2021-03-29<br>value=%{y}<extra></extra>",
           "legendgroup": "Spain",
           "marker": {
            "color": "#FF7F0E",
            "pattern": {
             "shape": ""
            }
           },
           "name": "Spain",
           "offsetgroup": "Spain",
           "orientation": "v",
           "showlegend": true,
           "textposition": "auto",
           "type": "bar",
           "x": [
            "Spain"
           ],
           "xaxis": "x",
           "y": [
            4
           ],
           "yaxis": "y"
          },
          {
           "alignmentgroup": "True",
           "hovertemplate": "country_name=%{x}<br>date=2021-03-29<br>value=%{y}<extra></extra>",
           "legendgroup": "United States of America",
           "marker": {
            "color": "#2CA02C",
            "pattern": {
             "shape": ""
            }
           },
           "name": "United States of America",
           "offsetgroup": "United States of America",
           "orientation": "v",
           "showlegend": true,
           "textposition": "auto",
           "type": "bar",
           "x": [
            "United States of America"
           ],
           "xaxis": "x",
           "y": [
            5
           ],
           "yaxis": "y"
          }
         ],
         "name": "2021-03-29"
        },
        {
         "data": [
          {
           "alignmentgroup": "True",
           "hovertemplate": "country_name=%{x}<br>date=2021-04-05<br>value=%{y}<extra></extra>",
           "legendgroup": "Germany",
           "marker": {
            "color": "#1F77B4",
            "pattern": {
             "shape": ""
            }
           },
           "name": "Germany",
           "offsetgroup": "Germany",
           "orientation": "v",
           "showlegend": true,
           "textposition": "auto",
           "type": "bar",
           "x": [
            "Germany"
           ],
           "xaxis": "x",
           "y": [
            275
           ],
           "yaxis": "y"
          },
          {
           "alignmentgroup": "True",
           "hovertemplate": "country_name=%{x}<br>date=2021-04-05<br>value=%{y}<extra></extra>",
           "legendgroup": "Spain",
           "marker": {
            "color": "#FF7F0E",
            "pattern": {
             "shape": ""
            }
           },
           "name": "Spain",
           "offsetgroup": "Spain",
           "orientation": "v",
           "showlegend": true,
           "textposition": "auto",
           "type": "bar",
           "x": [
            "Spain"
           ],
           "xaxis": "x",
           "y": [
            4
           ],
           "yaxis": "y"
          },
          {
           "alignmentgroup": "True",
           "hovertemplate": "country_name=%{x}<br>date=2021-04-05<br>value=%{y}<extra></extra>",
           "legendgroup": "United States of America",
           "marker": {
            "color": "#2CA02C",
            "pattern": {
             "shape": ""
            }
           },
           "name": "United States of America",
           "offsetgroup": "United States of America",
           "orientation": "v",
           "showlegend": true,
           "textposition": "auto",
           "type": "bar",
           "x": [
            "United States of America"
           ],
           "xaxis": "x",
           "y": [
            5
           ],
           "yaxis": "y"
          }
         ],
         "name": "2021-04-05"
        },
        {
         "data": [
          {
           "alignmentgroup": "True",
           "hovertemplate": "country_name=%{x}<br>date=2021-04-12<br>value=%{y}<extra></extra>",
           "legendgroup": "Germany",
           "marker": {
            "color": "#1F77B4",
            "pattern": {
             "shape": ""
            }
           },
           "name": "Germany",
           "offsetgroup": "Germany",
           "orientation": "v",
           "showlegend": true,
           "textposition": "auto",
           "type": "bar",
           "x": [
            "Germany"
           ],
           "xaxis": "x",
           "y": [
            278
           ],
           "yaxis": "y"
          },
          {
           "alignmentgroup": "True",
           "hovertemplate": "country_name=%{x}<br>date=2021-04-12<br>value=%{y}<extra></extra>",
           "legendgroup": "Spain",
           "marker": {
            "color": "#FF7F0E",
            "pattern": {
             "shape": ""
            }
           },
           "name": "Spain",
           "offsetgroup": "Spain",
           "orientation": "v",
           "showlegend": true,
           "textposition": "auto",
           "type": "bar",
           "x": [
            "Spain"
           ],
           "xaxis": "x",
           "y": [
            4
           ],
           "yaxis": "y"
          },
          {
           "alignmentgroup": "True",
           "hovertemplate": "country_name=%{x}<br>date=2021-04-12<br>value=%{y}<extra></extra>",
           "legendgroup": "United States of America",
           "marker": {
            "color": "#2CA02C",
            "pattern": {
             "shape": ""
            }
           },
           "name": "United States of America",
           "offsetgroup": "United States of America",
           "orientation": "v",
           "showlegend": true,
           "textposition": "auto",
           "type": "bar",
           "x": [
            "United States of America"
           ],
           "xaxis": "x",
           "y": [
            5
           ],
           "yaxis": "y"
          }
         ],
         "name": "2021-04-12"
        },
        {
         "data": [
          {
           "alignmentgroup": "True",
           "hovertemplate": "country_name=%{x}<br>date=2021-04-19<br>value=%{y}<extra></extra>",
           "legendgroup": "Germany",
           "marker": {
            "color": "#1F77B4",
            "pattern": {
             "shape": ""
            }
           },
           "name": "Germany",
           "offsetgroup": "Germany",
           "orientation": "v",
           "showlegend": true,
           "textposition": "auto",
           "type": "bar",
           "x": [
            "Germany"
           ],
           "xaxis": "x",
           "y": [
            282
           ],
           "yaxis": "y"
          },
          {
           "alignmentgroup": "True",
           "hovertemplate": "country_name=%{x}<br>date=2021-04-19<br>value=%{y}<extra></extra>",
           "legendgroup": "Spain",
           "marker": {
            "color": "#FF7F0E",
            "pattern": {
             "shape": ""
            }
           },
           "name": "Spain",
           "offsetgroup": "Spain",
           "orientation": "v",
           "showlegend": true,
           "textposition": "auto",
           "type": "bar",
           "x": [
            "Spain"
           ],
           "xaxis": "x",
           "y": [
            4
           ],
           "yaxis": "y"
          },
          {
           "alignmentgroup": "True",
           "hovertemplate": "country_name=%{x}<br>date=2021-04-19<br>value=%{y}<extra></extra>",
           "legendgroup": "United States of America",
           "marker": {
            "color": "#2CA02C",
            "pattern": {
             "shape": ""
            }
           },
           "name": "United States of America",
           "offsetgroup": "United States of America",
           "orientation": "v",
           "showlegend": true,
           "textposition": "auto",
           "type": "bar",
           "x": [
            "United States of America"
           ],
           "xaxis": "x",
           "y": [
            5
           ],
           "yaxis": "y"
          }
         ],
         "name": "2021-04-19"
        },
        {
         "data": [
          {
           "alignmentgroup": "True",
           "hovertemplate": "country_name=%{x}<br>date=2021-04-26<br>value=%{y}<extra></extra>",
           "legendgroup": "Germany",
           "marker": {
            "color": "#1F77B4",
            "pattern": {
             "shape": ""
            }
           },
           "name": "Germany",
           "offsetgroup": "Germany",
           "orientation": "v",
           "showlegend": true,
           "textposition": "auto",
           "type": "bar",
           "x": [
            "Germany"
           ],
           "xaxis": "x",
           "y": [
            286
           ],
           "yaxis": "y"
          },
          {
           "alignmentgroup": "True",
           "hovertemplate": "country_name=%{x}<br>date=2021-04-26<br>value=%{y}<extra></extra>",
           "legendgroup": "Spain",
           "marker": {
            "color": "#FF7F0E",
            "pattern": {
             "shape": ""
            }
           },
           "name": "Spain",
           "offsetgroup": "Spain",
           "orientation": "v",
           "showlegend": true,
           "textposition": "auto",
           "type": "bar",
           "x": [
            "Spain"
           ],
           "xaxis": "x",
           "y": [
            4
           ],
           "yaxis": "y"
          },
          {
           "alignmentgroup": "True",
           "hovertemplate": "country_name=%{x}<br>date=2021-04-26<br>value=%{y}<extra></extra>",
           "legendgroup": "United States of America",
           "marker": {
            "color": "#2CA02C",
            "pattern": {
             "shape": ""
            }
           },
           "name": "United States of America",
           "offsetgroup": "United States of America",
           "orientation": "v",
           "showlegend": true,
           "textposition": "auto",
           "type": "bar",
           "x": [
            "United States of America"
           ],
           "xaxis": "x",
           "y": [
            5
           ],
           "yaxis": "y"
          }
         ],
         "name": "2021-04-26"
        },
        {
         "data": [
          {
           "alignmentgroup": "True",
           "hovertemplate": "country_name=%{x}<br>date=2021-05-03<br>value=%{y}<extra></extra>",
           "legendgroup": "Germany",
           "marker": {
            "color": "#1F77B4",
            "pattern": {
             "shape": ""
            }
           },
           "name": "Germany",
           "offsetgroup": "Germany",
           "orientation": "v",
           "showlegend": true,
           "textposition": "auto",
           "type": "bar",
           "x": [
            "Germany"
           ],
           "xaxis": "x",
           "y": [
            287
           ],
           "yaxis": "y"
          },
          {
           "alignmentgroup": "True",
           "hovertemplate": "country_name=%{x}<br>date=2021-05-03<br>value=%{y}<extra></extra>",
           "legendgroup": "Spain",
           "marker": {
            "color": "#FF7F0E",
            "pattern": {
             "shape": ""
            }
           },
           "name": "Spain",
           "offsetgroup": "Spain",
           "orientation": "v",
           "showlegend": true,
           "textposition": "auto",
           "type": "bar",
           "x": [
            "Spain"
           ],
           "xaxis": "x",
           "y": [
            4
           ],
           "yaxis": "y"
          },
          {
           "alignmentgroup": "True",
           "hovertemplate": "country_name=%{x}<br>date=2021-05-03<br>value=%{y}<extra></extra>",
           "legendgroup": "United States of America",
           "marker": {
            "color": "#2CA02C",
            "pattern": {
             "shape": ""
            }
           },
           "name": "United States of America",
           "offsetgroup": "United States of America",
           "orientation": "v",
           "showlegend": true,
           "textposition": "auto",
           "type": "bar",
           "x": [
            "United States of America"
           ],
           "xaxis": "x",
           "y": [
            5
           ],
           "yaxis": "y"
          }
         ],
         "name": "2021-05-03"
        },
        {
         "data": [
          {
           "alignmentgroup": "True",
           "hovertemplate": "country_name=%{x}<br>date=2021-05-10<br>value=%{y}<extra></extra>",
           "legendgroup": "Germany",
           "marker": {
            "color": "#1F77B4",
            "pattern": {
             "shape": ""
            }
           },
           "name": "Germany",
           "offsetgroup": "Germany",
           "orientation": "v",
           "showlegend": true,
           "textposition": "auto",
           "type": "bar",
           "x": [
            "Germany"
           ],
           "xaxis": "x",
           "y": [
            293
           ],
           "yaxis": "y"
          },
          {
           "alignmentgroup": "True",
           "hovertemplate": "country_name=%{x}<br>date=2021-05-10<br>value=%{y}<extra></extra>",
           "legendgroup": "Spain",
           "marker": {
            "color": "#FF7F0E",
            "pattern": {
             "shape": ""
            }
           },
           "name": "Spain",
           "offsetgroup": "Spain",
           "orientation": "v",
           "showlegend": true,
           "textposition": "auto",
           "type": "bar",
           "x": [
            "Spain"
           ],
           "xaxis": "x",
           "y": [
            4
           ],
           "yaxis": "y"
          },
          {
           "alignmentgroup": "True",
           "hovertemplate": "country_name=%{x}<br>date=2021-05-10<br>value=%{y}<extra></extra>",
           "legendgroup": "United States of America",
           "marker": {
            "color": "#2CA02C",
            "pattern": {
             "shape": ""
            }
           },
           "name": "United States of America",
           "offsetgroup": "United States of America",
           "orientation": "v",
           "showlegend": true,
           "textposition": "auto",
           "type": "bar",
           "x": [
            "United States of America"
           ],
           "xaxis": "x",
           "y": [
            5
           ],
           "yaxis": "y"
          }
         ],
         "name": "2021-05-10"
        },
        {
         "data": [
          {
           "alignmentgroup": "True",
           "hovertemplate": "country_name=%{x}<br>date=2021-05-17<br>value=%{y}<extra></extra>",
           "legendgroup": "Germany",
           "marker": {
            "color": "#1F77B4",
            "pattern": {
             "shape": ""
            }
           },
           "name": "Germany",
           "offsetgroup": "Germany",
           "orientation": "v",
           "showlegend": true,
           "textposition": "auto",
           "type": "bar",
           "x": [
            "Germany"
           ],
           "xaxis": "x",
           "y": [
            293
           ],
           "yaxis": "y"
          },
          {
           "alignmentgroup": "True",
           "hovertemplate": "country_name=%{x}<br>date=2021-05-17<br>value=%{y}<extra></extra>",
           "legendgroup": "Spain",
           "marker": {
            "color": "#FF7F0E",
            "pattern": {
             "shape": ""
            }
           },
           "name": "Spain",
           "offsetgroup": "Spain",
           "orientation": "v",
           "showlegend": true,
           "textposition": "auto",
           "type": "bar",
           "x": [
            "Spain"
           ],
           "xaxis": "x",
           "y": [
            4
           ],
           "yaxis": "y"
          },
          {
           "alignmentgroup": "True",
           "hovertemplate": "country_name=%{x}<br>date=2021-05-17<br>value=%{y}<extra></extra>",
           "legendgroup": "United States of America",
           "marker": {
            "color": "#2CA02C",
            "pattern": {
             "shape": ""
            }
           },
           "name": "United States of America",
           "offsetgroup": "United States of America",
           "orientation": "v",
           "showlegend": true,
           "textposition": "auto",
           "type": "bar",
           "x": [
            "United States of America"
           ],
           "xaxis": "x",
           "y": [
            5
           ],
           "yaxis": "y"
          }
         ],
         "name": "2021-05-17"
        },
        {
         "data": [
          {
           "alignmentgroup": "True",
           "hovertemplate": "country_name=%{x}<br>date=2021-05-24<br>value=%{y}<extra></extra>",
           "legendgroup": "Germany",
           "marker": {
            "color": "#1F77B4",
            "pattern": {
             "shape": ""
            }
           },
           "name": "Germany",
           "offsetgroup": "Germany",
           "orientation": "v",
           "showlegend": true,
           "textposition": "auto",
           "type": "bar",
           "x": [
            "Germany"
           ],
           "xaxis": "x",
           "y": [
            293
           ],
           "yaxis": "y"
          },
          {
           "alignmentgroup": "True",
           "hovertemplate": "country_name=%{x}<br>date=2021-05-24<br>value=%{y}<extra></extra>",
           "legendgroup": "Spain",
           "marker": {
            "color": "#FF7F0E",
            "pattern": {
             "shape": ""
            }
           },
           "name": "Spain",
           "offsetgroup": "Spain",
           "orientation": "v",
           "showlegend": true,
           "textposition": "auto",
           "type": "bar",
           "x": [
            "Spain"
           ],
           "xaxis": "x",
           "y": [
            4
           ],
           "yaxis": "y"
          },
          {
           "alignmentgroup": "True",
           "hovertemplate": "country_name=%{x}<br>date=2021-05-24<br>value=%{y}<extra></extra>",
           "legendgroup": "United States of America",
           "marker": {
            "color": "#2CA02C",
            "pattern": {
             "shape": ""
            }
           },
           "name": "United States of America",
           "offsetgroup": "United States of America",
           "orientation": "v",
           "showlegend": true,
           "textposition": "auto",
           "type": "bar",
           "x": [
            "United States of America"
           ],
           "xaxis": "x",
           "y": [
            5
           ],
           "yaxis": "y"
          }
         ],
         "name": "2021-05-24"
        },
        {
         "data": [
          {
           "alignmentgroup": "True",
           "hovertemplate": "country_name=%{x}<br>date=2021-05-31<br>value=%{y}<extra></extra>",
           "legendgroup": "Germany",
           "marker": {
            "color": "#1F77B4",
            "pattern": {
             "shape": ""
            }
           },
           "name": "Germany",
           "offsetgroup": "Germany",
           "orientation": "v",
           "showlegend": true,
           "textposition": "auto",
           "type": "bar",
           "x": [
            "Germany"
           ],
           "xaxis": "x",
           "y": [
            293
           ],
           "yaxis": "y"
          },
          {
           "alignmentgroup": "True",
           "hovertemplate": "country_name=%{x}<br>date=2021-05-31<br>value=%{y}<extra></extra>",
           "legendgroup": "Spain",
           "marker": {
            "color": "#FF7F0E",
            "pattern": {
             "shape": ""
            }
           },
           "name": "Spain",
           "offsetgroup": "Spain",
           "orientation": "v",
           "showlegend": true,
           "textposition": "auto",
           "type": "bar",
           "x": [
            "Spain"
           ],
           "xaxis": "x",
           "y": [
            4
           ],
           "yaxis": "y"
          },
          {
           "alignmentgroup": "True",
           "hovertemplate": "country_name=%{x}<br>date=2021-05-31<br>value=%{y}<extra></extra>",
           "legendgroup": "United States of America",
           "marker": {
            "color": "#2CA02C",
            "pattern": {
             "shape": ""
            }
           },
           "name": "United States of America",
           "offsetgroup": "United States of America",
           "orientation": "v",
           "showlegend": true,
           "textposition": "auto",
           "type": "bar",
           "x": [
            "United States of America"
           ],
           "xaxis": "x",
           "y": [
            5
           ],
           "yaxis": "y"
          }
         ],
         "name": "2021-05-31"
        },
        {
         "data": [
          {
           "alignmentgroup": "True",
           "hovertemplate": "country_name=%{x}<br>date=2021-06-07<br>value=%{y}<extra></extra>",
           "legendgroup": "Germany",
           "marker": {
            "color": "#1F77B4",
            "pattern": {
             "shape": ""
            }
           },
           "name": "Germany",
           "offsetgroup": "Germany",
           "orientation": "v",
           "showlegend": true,
           "textposition": "auto",
           "type": "bar",
           "x": [
            "Germany"
           ],
           "xaxis": "x",
           "y": [
            293
           ],
           "yaxis": "y"
          },
          {
           "alignmentgroup": "True",
           "hovertemplate": "country_name=%{x}<br>date=2021-06-07<br>value=%{y}<extra></extra>",
           "legendgroup": "Spain",
           "marker": {
            "color": "#FF7F0E",
            "pattern": {
             "shape": ""
            }
           },
           "name": "Spain",
           "offsetgroup": "Spain",
           "orientation": "v",
           "showlegend": true,
           "textposition": "auto",
           "type": "bar",
           "x": [
            "Spain"
           ],
           "xaxis": "x",
           "y": [
            4
           ],
           "yaxis": "y"
          },
          {
           "alignmentgroup": "True",
           "hovertemplate": "country_name=%{x}<br>date=2021-06-07<br>value=%{y}<extra></extra>",
           "legendgroup": "United States of America",
           "marker": {
            "color": "#2CA02C",
            "pattern": {
             "shape": ""
            }
           },
           "name": "United States of America",
           "offsetgroup": "United States of America",
           "orientation": "v",
           "showlegend": true,
           "textposition": "auto",
           "type": "bar",
           "x": [
            "United States of America"
           ],
           "xaxis": "x",
           "y": [
            6
           ],
           "yaxis": "y"
          }
         ],
         "name": "2021-06-07"
        },
        {
         "data": [
          {
           "alignmentgroup": "True",
           "hovertemplate": "country_name=%{x}<br>date=2021-06-14<br>value=%{y}<extra></extra>",
           "legendgroup": "Germany",
           "marker": {
            "color": "#1F77B4",
            "pattern": {
             "shape": ""
            }
           },
           "name": "Germany",
           "offsetgroup": "Germany",
           "orientation": "v",
           "showlegend": true,
           "textposition": "auto",
           "type": "bar",
           "x": [
            "Germany"
           ],
           "xaxis": "x",
           "y": [
            293
           ],
           "yaxis": "y"
          },
          {
           "alignmentgroup": "True",
           "hovertemplate": "country_name=%{x}<br>date=2021-06-14<br>value=%{y}<extra></extra>",
           "legendgroup": "Spain",
           "marker": {
            "color": "#FF7F0E",
            "pattern": {
             "shape": ""
            }
           },
           "name": "Spain",
           "offsetgroup": "Spain",
           "orientation": "v",
           "showlegend": true,
           "textposition": "auto",
           "type": "bar",
           "x": [
            "Spain"
           ],
           "xaxis": "x",
           "y": [
            4
           ],
           "yaxis": "y"
          },
          {
           "alignmentgroup": "True",
           "hovertemplate": "country_name=%{x}<br>date=2021-06-14<br>value=%{y}<extra></extra>",
           "legendgroup": "United States of America",
           "marker": {
            "color": "#2CA02C",
            "pattern": {
             "shape": ""
            }
           },
           "name": "United States of America",
           "offsetgroup": "United States of America",
           "orientation": "v",
           "showlegend": true,
           "textposition": "auto",
           "type": "bar",
           "x": [
            "United States of America"
           ],
           "xaxis": "x",
           "y": [
            6
           ],
           "yaxis": "y"
          }
         ],
         "name": "2021-06-14"
        },
        {
         "data": [
          {
           "alignmentgroup": "True",
           "hovertemplate": "country_name=%{x}<br>date=2021-06-21<br>value=%{y}<extra></extra>",
           "legendgroup": "Germany",
           "marker": {
            "color": "#1F77B4",
            "pattern": {
             "shape": ""
            }
           },
           "name": "Germany",
           "offsetgroup": "Germany",
           "orientation": "v",
           "showlegend": true,
           "textposition": "auto",
           "type": "bar",
           "x": [
            "Germany"
           ],
           "xaxis": "x",
           "y": [
            293
           ],
           "yaxis": "y"
          },
          {
           "alignmentgroup": "True",
           "hovertemplate": "country_name=%{x}<br>date=2021-06-21<br>value=%{y}<extra></extra>",
           "legendgroup": "Spain",
           "marker": {
            "color": "#FF7F0E",
            "pattern": {
             "shape": ""
            }
           },
           "name": "Spain",
           "offsetgroup": "Spain",
           "orientation": "v",
           "showlegend": true,
           "textposition": "auto",
           "type": "bar",
           "x": [
            "Spain"
           ],
           "xaxis": "x",
           "y": [
            4
           ],
           "yaxis": "y"
          },
          {
           "alignmentgroup": "True",
           "hovertemplate": "country_name=%{x}<br>date=2021-06-21<br>value=%{y}<extra></extra>",
           "legendgroup": "United States of America",
           "marker": {
            "color": "#2CA02C",
            "pattern": {
             "shape": ""
            }
           },
           "name": "United States of America",
           "offsetgroup": "United States of America",
           "orientation": "v",
           "showlegend": true,
           "textposition": "auto",
           "type": "bar",
           "x": [
            "United States of America"
           ],
           "xaxis": "x",
           "y": [
            6
           ],
           "yaxis": "y"
          }
         ],
         "name": "2021-06-21"
        },
        {
         "data": [
          {
           "alignmentgroup": "True",
           "hovertemplate": "country_name=%{x}<br>date=2021-06-28<br>value=%{y}<extra></extra>",
           "legendgroup": "Germany",
           "marker": {
            "color": "#1F77B4",
            "pattern": {
             "shape": ""
            }
           },
           "name": "Germany",
           "offsetgroup": "Germany",
           "orientation": "v",
           "showlegend": true,
           "textposition": "auto",
           "type": "bar",
           "x": [
            "Germany"
           ],
           "xaxis": "x",
           "y": [
            293
           ],
           "yaxis": "y"
          },
          {
           "alignmentgroup": "True",
           "hovertemplate": "country_name=%{x}<br>date=2021-06-28<br>value=%{y}<extra></extra>",
           "legendgroup": "Spain",
           "marker": {
            "color": "#FF7F0E",
            "pattern": {
             "shape": ""
            }
           },
           "name": "Spain",
           "offsetgroup": "Spain",
           "orientation": "v",
           "showlegend": true,
           "textposition": "auto",
           "type": "bar",
           "x": [
            "Spain"
           ],
           "xaxis": "x",
           "y": [
            4
           ],
           "yaxis": "y"
          },
          {
           "alignmentgroup": "True",
           "hovertemplate": "country_name=%{x}<br>date=2021-06-28<br>value=%{y}<extra></extra>",
           "legendgroup": "United States of America",
           "marker": {
            "color": "#2CA02C",
            "pattern": {
             "shape": ""
            }
           },
           "name": "United States of America",
           "offsetgroup": "United States of America",
           "orientation": "v",
           "showlegend": true,
           "textposition": "auto",
           "type": "bar",
           "x": [
            "United States of America"
           ],
           "xaxis": "x",
           "y": [
            6
           ],
           "yaxis": "y"
          }
         ],
         "name": "2021-06-28"
        },
        {
         "data": [
          {
           "alignmentgroup": "True",
           "hovertemplate": "country_name=%{x}<br>date=2021-07-05<br>value=%{y}<extra></extra>",
           "legendgroup": "Germany",
           "marker": {
            "color": "#1F77B4",
            "pattern": {
             "shape": ""
            }
           },
           "name": "Germany",
           "offsetgroup": "Germany",
           "orientation": "v",
           "showlegend": true,
           "textposition": "auto",
           "type": "bar",
           "x": [
            "Germany"
           ],
           "xaxis": "x",
           "y": [
            293
           ],
           "yaxis": "y"
          },
          {
           "alignmentgroup": "True",
           "hovertemplate": "country_name=%{x}<br>date=2021-07-05<br>value=%{y}<extra></extra>",
           "legendgroup": "Spain",
           "marker": {
            "color": "#FF7F0E",
            "pattern": {
             "shape": ""
            }
           },
           "name": "Spain",
           "offsetgroup": "Spain",
           "orientation": "v",
           "showlegend": true,
           "textposition": "auto",
           "type": "bar",
           "x": [
            "Spain"
           ],
           "xaxis": "x",
           "y": [
            4
           ],
           "yaxis": "y"
          },
          {
           "alignmentgroup": "True",
           "hovertemplate": "country_name=%{x}<br>date=2021-07-05<br>value=%{y}<extra></extra>",
           "legendgroup": "United States of America",
           "marker": {
            "color": "#2CA02C",
            "pattern": {
             "shape": ""
            }
           },
           "name": "United States of America",
           "offsetgroup": "United States of America",
           "orientation": "v",
           "showlegend": true,
           "textposition": "auto",
           "type": "bar",
           "x": [
            "United States of America"
           ],
           "xaxis": "x",
           "y": [
            6
           ],
           "yaxis": "y"
          }
         ],
         "name": "2021-07-05"
        },
        {
         "data": [
          {
           "alignmentgroup": "True",
           "hovertemplate": "country_name=%{x}<br>date=2021-07-12<br>value=%{y}<extra></extra>",
           "legendgroup": "Germany",
           "marker": {
            "color": "#1F77B4",
            "pattern": {
             "shape": ""
            }
           },
           "name": "Germany",
           "offsetgroup": "Germany",
           "orientation": "v",
           "showlegend": true,
           "textposition": "auto",
           "type": "bar",
           "x": [
            "Germany"
           ],
           "xaxis": "x",
           "y": [
            293
           ],
           "yaxis": "y"
          },
          {
           "alignmentgroup": "True",
           "hovertemplate": "country_name=%{x}<br>date=2021-07-12<br>value=%{y}<extra></extra>",
           "legendgroup": "Spain",
           "marker": {
            "color": "#FF7F0E",
            "pattern": {
             "shape": ""
            }
           },
           "name": "Spain",
           "offsetgroup": "Spain",
           "orientation": "v",
           "showlegend": true,
           "textposition": "auto",
           "type": "bar",
           "x": [
            "Spain"
           ],
           "xaxis": "x",
           "y": [
            4
           ],
           "yaxis": "y"
          },
          {
           "alignmentgroup": "True",
           "hovertemplate": "country_name=%{x}<br>date=2021-07-12<br>value=%{y}<extra></extra>",
           "legendgroup": "United States of America",
           "marker": {
            "color": "#2CA02C",
            "pattern": {
             "shape": ""
            }
           },
           "name": "United States of America",
           "offsetgroup": "United States of America",
           "orientation": "v",
           "showlegend": true,
           "textposition": "auto",
           "type": "bar",
           "x": [
            "United States of America"
           ],
           "xaxis": "x",
           "y": [
            6
           ],
           "yaxis": "y"
          }
         ],
         "name": "2021-07-12"
        },
        {
         "data": [
          {
           "alignmentgroup": "True",
           "hovertemplate": "country_name=%{x}<br>date=2021-07-19<br>value=%{y}<extra></extra>",
           "legendgroup": "Germany",
           "marker": {
            "color": "#1F77B4",
            "pattern": {
             "shape": ""
            }
           },
           "name": "Germany",
           "offsetgroup": "Germany",
           "orientation": "v",
           "showlegend": true,
           "textposition": "auto",
           "type": "bar",
           "x": [
            "Germany"
           ],
           "xaxis": "x",
           "y": [
            293
           ],
           "yaxis": "y"
          },
          {
           "alignmentgroup": "True",
           "hovertemplate": "country_name=%{x}<br>date=2021-07-19<br>value=%{y}<extra></extra>",
           "legendgroup": "Spain",
           "marker": {
            "color": "#FF7F0E",
            "pattern": {
             "shape": ""
            }
           },
           "name": "Spain",
           "offsetgroup": "Spain",
           "orientation": "v",
           "showlegend": true,
           "textposition": "auto",
           "type": "bar",
           "x": [
            "Spain"
           ],
           "xaxis": "x",
           "y": [
            4
           ],
           "yaxis": "y"
          },
          {
           "alignmentgroup": "True",
           "hovertemplate": "country_name=%{x}<br>date=2021-07-19<br>value=%{y}<extra></extra>",
           "legendgroup": "United States of America",
           "marker": {
            "color": "#2CA02C",
            "pattern": {
             "shape": ""
            }
           },
           "name": "United States of America",
           "offsetgroup": "United States of America",
           "orientation": "v",
           "showlegend": true,
           "textposition": "auto",
           "type": "bar",
           "x": [
            "United States of America"
           ],
           "xaxis": "x",
           "y": [
            6
           ],
           "yaxis": "y"
          }
         ],
         "name": "2021-07-19"
        },
        {
         "data": [
          {
           "alignmentgroup": "True",
           "hovertemplate": "country_name=%{x}<br>date=2021-07-26<br>value=%{y}<extra></extra>",
           "legendgroup": "Germany",
           "marker": {
            "color": "#1F77B4",
            "pattern": {
             "shape": ""
            }
           },
           "name": "Germany",
           "offsetgroup": "Germany",
           "orientation": "v",
           "showlegend": true,
           "textposition": "auto",
           "type": "bar",
           "x": [
            "Germany"
           ],
           "xaxis": "x",
           "y": [
            293
           ],
           "yaxis": "y"
          },
          {
           "alignmentgroup": "True",
           "hovertemplate": "country_name=%{x}<br>date=2021-07-26<br>value=%{y}<extra></extra>",
           "legendgroup": "Spain",
           "marker": {
            "color": "#FF7F0E",
            "pattern": {
             "shape": ""
            }
           },
           "name": "Spain",
           "offsetgroup": "Spain",
           "orientation": "v",
           "showlegend": true,
           "textposition": "auto",
           "type": "bar",
           "x": [
            "Spain"
           ],
           "xaxis": "x",
           "y": [
            4
           ],
           "yaxis": "y"
          },
          {
           "alignmentgroup": "True",
           "hovertemplate": "country_name=%{x}<br>date=2021-07-26<br>value=%{y}<extra></extra>",
           "legendgroup": "United States of America",
           "marker": {
            "color": "#2CA02C",
            "pattern": {
             "shape": ""
            }
           },
           "name": "United States of America",
           "offsetgroup": "United States of America",
           "orientation": "v",
           "showlegend": true,
           "textposition": "auto",
           "type": "bar",
           "x": [
            "United States of America"
           ],
           "xaxis": "x",
           "y": [
            6
           ],
           "yaxis": "y"
          }
         ],
         "name": "2021-07-26"
        },
        {
         "data": [
          {
           "alignmentgroup": "True",
           "hovertemplate": "country_name=%{x}<br>date=2021-08-02<br>value=%{y}<extra></extra>",
           "legendgroup": "Germany",
           "marker": {
            "color": "#1F77B4",
            "pattern": {
             "shape": ""
            }
           },
           "name": "Germany",
           "offsetgroup": "Germany",
           "orientation": "v",
           "showlegend": true,
           "textposition": "auto",
           "type": "bar",
           "x": [
            "Germany"
           ],
           "xaxis": "x",
           "y": [
            293
           ],
           "yaxis": "y"
          },
          {
           "alignmentgroup": "True",
           "hovertemplate": "country_name=%{x}<br>date=2021-08-02<br>value=%{y}<extra></extra>",
           "legendgroup": "Spain",
           "marker": {
            "color": "#FF7F0E",
            "pattern": {
             "shape": ""
            }
           },
           "name": "Spain",
           "offsetgroup": "Spain",
           "orientation": "v",
           "showlegend": true,
           "textposition": "auto",
           "type": "bar",
           "x": [
            "Spain"
           ],
           "xaxis": "x",
           "y": [
            4
           ],
           "yaxis": "y"
          },
          {
           "alignmentgroup": "True",
           "hovertemplate": "country_name=%{x}<br>date=2021-08-02<br>value=%{y}<extra></extra>",
           "legendgroup": "United States of America",
           "marker": {
            "color": "#2CA02C",
            "pattern": {
             "shape": ""
            }
           },
           "name": "United States of America",
           "offsetgroup": "United States of America",
           "orientation": "v",
           "showlegend": true,
           "textposition": "auto",
           "type": "bar",
           "x": [
            "United States of America"
           ],
           "xaxis": "x",
           "y": [
            6
           ],
           "yaxis": "y"
          }
         ],
         "name": "2021-08-02"
        },
        {
         "data": [
          {
           "alignmentgroup": "True",
           "hovertemplate": "country_name=%{x}<br>date=2021-08-09<br>value=%{y}<extra></extra>",
           "legendgroup": "Germany",
           "marker": {
            "color": "#1F77B4",
            "pattern": {
             "shape": ""
            }
           },
           "name": "Germany",
           "offsetgroup": "Germany",
           "orientation": "v",
           "showlegend": true,
           "textposition": "auto",
           "type": "bar",
           "x": [
            "Germany"
           ],
           "xaxis": "x",
           "y": [
            293
           ],
           "yaxis": "y"
          },
          {
           "alignmentgroup": "True",
           "hovertemplate": "country_name=%{x}<br>date=2021-08-09<br>value=%{y}<extra></extra>",
           "legendgroup": "Spain",
           "marker": {
            "color": "#FF7F0E",
            "pattern": {
             "shape": ""
            }
           },
           "name": "Spain",
           "offsetgroup": "Spain",
           "orientation": "v",
           "showlegend": true,
           "textposition": "auto",
           "type": "bar",
           "x": [
            "Spain"
           ],
           "xaxis": "x",
           "y": [
            4
           ],
           "yaxis": "y"
          },
          {
           "alignmentgroup": "True",
           "hovertemplate": "country_name=%{x}<br>date=2021-08-09<br>value=%{y}<extra></extra>",
           "legendgroup": "United States of America",
           "marker": {
            "color": "#2CA02C",
            "pattern": {
             "shape": ""
            }
           },
           "name": "United States of America",
           "offsetgroup": "United States of America",
           "orientation": "v",
           "showlegend": true,
           "textposition": "auto",
           "type": "bar",
           "x": [
            "United States of America"
           ],
           "xaxis": "x",
           "y": [
            6
           ],
           "yaxis": "y"
          }
         ],
         "name": "2021-08-09"
        },
        {
         "data": [
          {
           "alignmentgroup": "True",
           "hovertemplate": "country_name=%{x}<br>date=2021-08-16<br>value=%{y}<extra></extra>",
           "legendgroup": "Germany",
           "marker": {
            "color": "#1F77B4",
            "pattern": {
             "shape": ""
            }
           },
           "name": "Germany",
           "offsetgroup": "Germany",
           "orientation": "v",
           "showlegend": true,
           "textposition": "auto",
           "type": "bar",
           "x": [
            "Germany"
           ],
           "xaxis": "x",
           "y": [
            293
           ],
           "yaxis": "y"
          },
          {
           "alignmentgroup": "True",
           "hovertemplate": "country_name=%{x}<br>date=2021-08-16<br>value=%{y}<extra></extra>",
           "legendgroup": "Spain",
           "marker": {
            "color": "#FF7F0E",
            "pattern": {
             "shape": ""
            }
           },
           "name": "Spain",
           "offsetgroup": "Spain",
           "orientation": "v",
           "showlegend": true,
           "textposition": "auto",
           "type": "bar",
           "x": [
            "Spain"
           ],
           "xaxis": "x",
           "y": [
            4
           ],
           "yaxis": "y"
          },
          {
           "alignmentgroup": "True",
           "hovertemplate": "country_name=%{x}<br>date=2021-08-16<br>value=%{y}<extra></extra>",
           "legendgroup": "United States of America",
           "marker": {
            "color": "#2CA02C",
            "pattern": {
             "shape": ""
            }
           },
           "name": "United States of America",
           "offsetgroup": "United States of America",
           "orientation": "v",
           "showlegend": true,
           "textposition": "auto",
           "type": "bar",
           "x": [
            "United States of America"
           ],
           "xaxis": "x",
           "y": [
            6
           ],
           "yaxis": "y"
          }
         ],
         "name": "2021-08-16"
        },
        {
         "data": [
          {
           "alignmentgroup": "True",
           "hovertemplate": "country_name=%{x}<br>date=2021-08-23<br>value=%{y}<extra></extra>",
           "legendgroup": "Germany",
           "marker": {
            "color": "#1F77B4",
            "pattern": {
             "shape": ""
            }
           },
           "name": "Germany",
           "offsetgroup": "Germany",
           "orientation": "v",
           "showlegend": true,
           "textposition": "auto",
           "type": "bar",
           "x": [
            "Germany"
           ],
           "xaxis": "x",
           "y": [
            293
           ],
           "yaxis": "y"
          },
          {
           "alignmentgroup": "True",
           "hovertemplate": "country_name=%{x}<br>date=2021-08-23<br>value=%{y}<extra></extra>",
           "legendgroup": "Spain",
           "marker": {
            "color": "#FF7F0E",
            "pattern": {
             "shape": ""
            }
           },
           "name": "Spain",
           "offsetgroup": "Spain",
           "orientation": "v",
           "showlegend": true,
           "textposition": "auto",
           "type": "bar",
           "x": [
            "Spain"
           ],
           "xaxis": "x",
           "y": [
            4
           ],
           "yaxis": "y"
          },
          {
           "alignmentgroup": "True",
           "hovertemplate": "country_name=%{x}<br>date=2021-08-23<br>value=%{y}<extra></extra>",
           "legendgroup": "United States of America",
           "marker": {
            "color": "#2CA02C",
            "pattern": {
             "shape": ""
            }
           },
           "name": "United States of America",
           "offsetgroup": "United States of America",
           "orientation": "v",
           "showlegend": true,
           "textposition": "auto",
           "type": "bar",
           "x": [
            "United States of America"
           ],
           "xaxis": "x",
           "y": [
            6
           ],
           "yaxis": "y"
          }
         ],
         "name": "2021-08-23"
        },
        {
         "data": [
          {
           "alignmentgroup": "True",
           "hovertemplate": "country_name=%{x}<br>date=2021-08-30<br>value=%{y}<extra></extra>",
           "legendgroup": "Germany",
           "marker": {
            "color": "#1F77B4",
            "pattern": {
             "shape": ""
            }
           },
           "name": "Germany",
           "offsetgroup": "Germany",
           "orientation": "v",
           "showlegend": true,
           "textposition": "auto",
           "type": "bar",
           "x": [
            "Germany"
           ],
           "xaxis": "x",
           "y": [
            293
           ],
           "yaxis": "y"
          },
          {
           "alignmentgroup": "True",
           "hovertemplate": "country_name=%{x}<br>date=2021-08-30<br>value=%{y}<extra></extra>",
           "legendgroup": "Spain",
           "marker": {
            "color": "#FF7F0E",
            "pattern": {
             "shape": ""
            }
           },
           "name": "Spain",
           "offsetgroup": "Spain",
           "orientation": "v",
           "showlegend": true,
           "textposition": "auto",
           "type": "bar",
           "x": [
            "Spain"
           ],
           "xaxis": "x",
           "y": [
            4
           ],
           "yaxis": "y"
          },
          {
           "alignmentgroup": "True",
           "hovertemplate": "country_name=%{x}<br>date=2021-08-30<br>value=%{y}<extra></extra>",
           "legendgroup": "United States of America",
           "marker": {
            "color": "#2CA02C",
            "pattern": {
             "shape": ""
            }
           },
           "name": "United States of America",
           "offsetgroup": "United States of America",
           "orientation": "v",
           "showlegend": true,
           "textposition": "auto",
           "type": "bar",
           "x": [
            "United States of America"
           ],
           "xaxis": "x",
           "y": [
            6
           ],
           "yaxis": "y"
          }
         ],
         "name": "2021-08-30"
        },
        {
         "data": [
          {
           "alignmentgroup": "True",
           "hovertemplate": "country_name=%{x}<br>date=2021-09-06<br>value=%{y}<extra></extra>",
           "legendgroup": "Germany",
           "marker": {
            "color": "#1F77B4",
            "pattern": {
             "shape": ""
            }
           },
           "name": "Germany",
           "offsetgroup": "Germany",
           "orientation": "v",
           "showlegend": true,
           "textposition": "auto",
           "type": "bar",
           "x": [
            "Germany"
           ],
           "xaxis": "x",
           "y": [
            293
           ],
           "yaxis": "y"
          },
          {
           "alignmentgroup": "True",
           "hovertemplate": "country_name=%{x}<br>date=2021-09-06<br>value=%{y}<extra></extra>",
           "legendgroup": "Spain",
           "marker": {
            "color": "#FF7F0E",
            "pattern": {
             "shape": ""
            }
           },
           "name": "Spain",
           "offsetgroup": "Spain",
           "orientation": "v",
           "showlegend": true,
           "textposition": "auto",
           "type": "bar",
           "x": [
            "Spain"
           ],
           "xaxis": "x",
           "y": [
            4
           ],
           "yaxis": "y"
          },
          {
           "alignmentgroup": "True",
           "hovertemplate": "country_name=%{x}<br>date=2021-09-06<br>value=%{y}<extra></extra>",
           "legendgroup": "United States of America",
           "marker": {
            "color": "#2CA02C",
            "pattern": {
             "shape": ""
            }
           },
           "name": "United States of America",
           "offsetgroup": "United States of America",
           "orientation": "v",
           "showlegend": true,
           "textposition": "auto",
           "type": "bar",
           "x": [
            "United States of America"
           ],
           "xaxis": "x",
           "y": [
            6
           ],
           "yaxis": "y"
          }
         ],
         "name": "2021-09-06"
        },
        {
         "data": [
          {
           "alignmentgroup": "True",
           "hovertemplate": "country_name=%{x}<br>date=2021-09-13<br>value=%{y}<extra></extra>",
           "legendgroup": "Germany",
           "marker": {
            "color": "#1F77B4",
            "pattern": {
             "shape": ""
            }
           },
           "name": "Germany",
           "offsetgroup": "Germany",
           "orientation": "v",
           "showlegend": true,
           "textposition": "auto",
           "type": "bar",
           "x": [
            "Germany"
           ],
           "xaxis": "x",
           "y": [
            293
           ],
           "yaxis": "y"
          },
          {
           "alignmentgroup": "True",
           "hovertemplate": "country_name=%{x}<br>date=2021-09-13<br>value=%{y}<extra></extra>",
           "legendgroup": "Spain",
           "marker": {
            "color": "#FF7F0E",
            "pattern": {
             "shape": ""
            }
           },
           "name": "Spain",
           "offsetgroup": "Spain",
           "orientation": "v",
           "showlegend": true,
           "textposition": "auto",
           "type": "bar",
           "x": [
            "Spain"
           ],
           "xaxis": "x",
           "y": [
            4
           ],
           "yaxis": "y"
          },
          {
           "alignmentgroup": "True",
           "hovertemplate": "country_name=%{x}<br>date=2021-09-13<br>value=%{y}<extra></extra>",
           "legendgroup": "United States of America",
           "marker": {
            "color": "#2CA02C",
            "pattern": {
             "shape": ""
            }
           },
           "name": "United States of America",
           "offsetgroup": "United States of America",
           "orientation": "v",
           "showlegend": true,
           "textposition": "auto",
           "type": "bar",
           "x": [
            "United States of America"
           ],
           "xaxis": "x",
           "y": [
            6
           ],
           "yaxis": "y"
          }
         ],
         "name": "2021-09-13"
        },
        {
         "data": [
          {
           "alignmentgroup": "True",
           "hovertemplate": "country_name=%{x}<br>date=2021-09-20<br>value=%{y}<extra></extra>",
           "legendgroup": "Germany",
           "marker": {
            "color": "#1F77B4",
            "pattern": {
             "shape": ""
            }
           },
           "name": "Germany",
           "offsetgroup": "Germany",
           "orientation": "v",
           "showlegend": true,
           "textposition": "auto",
           "type": "bar",
           "x": [
            "Germany"
           ],
           "xaxis": "x",
           "y": [
            293
           ],
           "yaxis": "y"
          },
          {
           "alignmentgroup": "True",
           "hovertemplate": "country_name=%{x}<br>date=2021-09-20<br>value=%{y}<extra></extra>",
           "legendgroup": "Spain",
           "marker": {
            "color": "#FF7F0E",
            "pattern": {
             "shape": ""
            }
           },
           "name": "Spain",
           "offsetgroup": "Spain",
           "orientation": "v",
           "showlegend": true,
           "textposition": "auto",
           "type": "bar",
           "x": [
            "Spain"
           ],
           "xaxis": "x",
           "y": [
            4
           ],
           "yaxis": "y"
          },
          {
           "alignmentgroup": "True",
           "hovertemplate": "country_name=%{x}<br>date=2021-09-20<br>value=%{y}<extra></extra>",
           "legendgroup": "United States of America",
           "marker": {
            "color": "#2CA02C",
            "pattern": {
             "shape": ""
            }
           },
           "name": "United States of America",
           "offsetgroup": "United States of America",
           "orientation": "v",
           "showlegend": true,
           "textposition": "auto",
           "type": "bar",
           "x": [
            "United States of America"
           ],
           "xaxis": "x",
           "y": [
            7
           ],
           "yaxis": "y"
          }
         ],
         "name": "2021-09-20"
        },
        {
         "data": [
          {
           "alignmentgroup": "True",
           "hovertemplate": "country_name=%{x}<br>date=2021-09-27<br>value=%{y}<extra></extra>",
           "legendgroup": "Germany",
           "marker": {
            "color": "#1F77B4",
            "pattern": {
             "shape": ""
            }
           },
           "name": "Germany",
           "offsetgroup": "Germany",
           "orientation": "v",
           "showlegend": true,
           "textposition": "auto",
           "type": "bar",
           "x": [
            "Germany"
           ],
           "xaxis": "x",
           "y": [
            294
           ],
           "yaxis": "y"
          },
          {
           "alignmentgroup": "True",
           "hovertemplate": "country_name=%{x}<br>date=2021-09-27<br>value=%{y}<extra></extra>",
           "legendgroup": "Spain",
           "marker": {
            "color": "#FF7F0E",
            "pattern": {
             "shape": ""
            }
           },
           "name": "Spain",
           "offsetgroup": "Spain",
           "orientation": "v",
           "showlegend": true,
           "textposition": "auto",
           "type": "bar",
           "x": [
            "Spain"
           ],
           "xaxis": "x",
           "y": [
            4
           ],
           "yaxis": "y"
          },
          {
           "alignmentgroup": "True",
           "hovertemplate": "country_name=%{x}<br>date=2021-09-27<br>value=%{y}<extra></extra>",
           "legendgroup": "United States of America",
           "marker": {
            "color": "#2CA02C",
            "pattern": {
             "shape": ""
            }
           },
           "name": "United States of America",
           "offsetgroup": "United States of America",
           "orientation": "v",
           "showlegend": true,
           "textposition": "auto",
           "type": "bar",
           "x": [
            "United States of America"
           ],
           "xaxis": "x",
           "y": [
            8
           ],
           "yaxis": "y"
          }
         ],
         "name": "2021-09-27"
        },
        {
         "data": [
          {
           "alignmentgroup": "True",
           "hovertemplate": "country_name=%{x}<br>date=2021-10-04<br>value=%{y}<extra></extra>",
           "legendgroup": "Germany",
           "marker": {
            "color": "#1F77B4",
            "pattern": {
             "shape": ""
            }
           },
           "name": "Germany",
           "offsetgroup": "Germany",
           "orientation": "v",
           "showlegend": true,
           "textposition": "auto",
           "type": "bar",
           "x": [
            "Germany"
           ],
           "xaxis": "x",
           "y": [
            295
           ],
           "yaxis": "y"
          },
          {
           "alignmentgroup": "True",
           "hovertemplate": "country_name=%{x}<br>date=2021-10-04<br>value=%{y}<extra></extra>",
           "legendgroup": "Spain",
           "marker": {
            "color": "#FF7F0E",
            "pattern": {
             "shape": ""
            }
           },
           "name": "Spain",
           "offsetgroup": "Spain",
           "orientation": "v",
           "showlegend": true,
           "textposition": "auto",
           "type": "bar",
           "x": [
            "Spain"
           ],
           "xaxis": "x",
           "y": [
            4
           ],
           "yaxis": "y"
          },
          {
           "alignmentgroup": "True",
           "hovertemplate": "country_name=%{x}<br>date=2021-10-04<br>value=%{y}<extra></extra>",
           "legendgroup": "United States of America",
           "marker": {
            "color": "#2CA02C",
            "pattern": {
             "shape": ""
            }
           },
           "name": "United States of America",
           "offsetgroup": "United States of America",
           "orientation": "v",
           "showlegend": true,
           "textposition": "auto",
           "type": "bar",
           "x": [
            "United States of America"
           ],
           "xaxis": "x",
           "y": [
            8
           ],
           "yaxis": "y"
          }
         ],
         "name": "2021-10-04"
        },
        {
         "data": [
          {
           "alignmentgroup": "True",
           "hovertemplate": "country_name=%{x}<br>date=2021-10-11<br>value=%{y}<extra></extra>",
           "legendgroup": "Germany",
           "marker": {
            "color": "#1F77B4",
            "pattern": {
             "shape": ""
            }
           },
           "name": "Germany",
           "offsetgroup": "Germany",
           "orientation": "v",
           "showlegend": true,
           "textposition": "auto",
           "type": "bar",
           "x": [
            "Germany"
           ],
           "xaxis": "x",
           "y": [
            297
           ],
           "yaxis": "y"
          },
          {
           "alignmentgroup": "True",
           "hovertemplate": "country_name=%{x}<br>date=2021-10-11<br>value=%{y}<extra></extra>",
           "legendgroup": "Spain",
           "marker": {
            "color": "#FF7F0E",
            "pattern": {
             "shape": ""
            }
           },
           "name": "Spain",
           "offsetgroup": "Spain",
           "orientation": "v",
           "showlegend": true,
           "textposition": "auto",
           "type": "bar",
           "x": [
            "Spain"
           ],
           "xaxis": "x",
           "y": [
            4
           ],
           "yaxis": "y"
          },
          {
           "alignmentgroup": "True",
           "hovertemplate": "country_name=%{x}<br>date=2021-10-11<br>value=%{y}<extra></extra>",
           "legendgroup": "United States of America",
           "marker": {
            "color": "#2CA02C",
            "pattern": {
             "shape": ""
            }
           },
           "name": "United States of America",
           "offsetgroup": "United States of America",
           "orientation": "v",
           "showlegend": true,
           "textposition": "auto",
           "type": "bar",
           "x": [
            "United States of America"
           ],
           "xaxis": "x",
           "y": [
            8
           ],
           "yaxis": "y"
          }
         ],
         "name": "2021-10-11"
        },
        {
         "data": [
          {
           "alignmentgroup": "True",
           "hovertemplate": "country_name=%{x}<br>date=2021-10-18<br>value=%{y}<extra></extra>",
           "legendgroup": "Germany",
           "marker": {
            "color": "#1F77B4",
            "pattern": {
             "shape": ""
            }
           },
           "name": "Germany",
           "offsetgroup": "Germany",
           "orientation": "v",
           "showlegend": true,
           "textposition": "auto",
           "type": "bar",
           "x": [
            "Germany"
           ],
           "xaxis": "x",
           "y": [
            300
           ],
           "yaxis": "y"
          },
          {
           "alignmentgroup": "True",
           "hovertemplate": "country_name=%{x}<br>date=2021-10-18<br>value=%{y}<extra></extra>",
           "legendgroup": "Spain",
           "marker": {
            "color": "#FF7F0E",
            "pattern": {
             "shape": ""
            }
           },
           "name": "Spain",
           "offsetgroup": "Spain",
           "orientation": "v",
           "showlegend": true,
           "textposition": "auto",
           "type": "bar",
           "x": [
            "Spain"
           ],
           "xaxis": "x",
           "y": [
            4
           ],
           "yaxis": "y"
          },
          {
           "alignmentgroup": "True",
           "hovertemplate": "country_name=%{x}<br>date=2021-10-18<br>value=%{y}<extra></extra>",
           "legendgroup": "United States of America",
           "marker": {
            "color": "#2CA02C",
            "pattern": {
             "shape": ""
            }
           },
           "name": "United States of America",
           "offsetgroup": "United States of America",
           "orientation": "v",
           "showlegend": true,
           "textposition": "auto",
           "type": "bar",
           "x": [
            "United States of America"
           ],
           "xaxis": "x",
           "y": [
            8
           ],
           "yaxis": "y"
          }
         ],
         "name": "2021-10-18"
        },
        {
         "data": [
          {
           "alignmentgroup": "True",
           "hovertemplate": "country_name=%{x}<br>date=2021-10-25<br>value=%{y}<extra></extra>",
           "legendgroup": "Germany",
           "marker": {
            "color": "#1F77B4",
            "pattern": {
             "shape": ""
            }
           },
           "name": "Germany",
           "offsetgroup": "Germany",
           "orientation": "v",
           "showlegend": true,
           "textposition": "auto",
           "type": "bar",
           "x": [
            "Germany"
           ],
           "xaxis": "x",
           "y": [
            307
           ],
           "yaxis": "y"
          },
          {
           "alignmentgroup": "True",
           "hovertemplate": "country_name=%{x}<br>date=2021-10-25<br>value=%{y}<extra></extra>",
           "legendgroup": "Spain",
           "marker": {
            "color": "#FF7F0E",
            "pattern": {
             "shape": ""
            }
           },
           "name": "Spain",
           "offsetgroup": "Spain",
           "orientation": "v",
           "showlegend": true,
           "textposition": "auto",
           "type": "bar",
           "x": [
            "Spain"
           ],
           "xaxis": "x",
           "y": [
            4
           ],
           "yaxis": "y"
          },
          {
           "alignmentgroup": "True",
           "hovertemplate": "country_name=%{x}<br>date=2021-10-25<br>value=%{y}<extra></extra>",
           "legendgroup": "United States of America",
           "marker": {
            "color": "#2CA02C",
            "pattern": {
             "shape": ""
            }
           },
           "name": "United States of America",
           "offsetgroup": "United States of America",
           "orientation": "v",
           "showlegend": true,
           "textposition": "auto",
           "type": "bar",
           "x": [
            "United States of America"
           ],
           "xaxis": "x",
           "y": [
            9
           ],
           "yaxis": "y"
          }
         ],
         "name": "2021-10-25"
        },
        {
         "data": [
          {
           "alignmentgroup": "True",
           "hovertemplate": "country_name=%{x}<br>date=2021-11-01<br>value=%{y}<extra></extra>",
           "legendgroup": "Germany",
           "marker": {
            "color": "#1F77B4",
            "pattern": {
             "shape": ""
            }
           },
           "name": "Germany",
           "offsetgroup": "Germany",
           "orientation": "v",
           "showlegend": true,
           "textposition": "auto",
           "type": "bar",
           "x": [
            "Germany"
           ],
           "xaxis": "x",
           "y": [
            323
           ],
           "yaxis": "y"
          },
          {
           "alignmentgroup": "True",
           "hovertemplate": "country_name=%{x}<br>date=2021-11-01<br>value=%{y}<extra></extra>",
           "legendgroup": "Spain",
           "marker": {
            "color": "#FF7F0E",
            "pattern": {
             "shape": ""
            }
           },
           "name": "Spain",
           "offsetgroup": "Spain",
           "orientation": "v",
           "showlegend": true,
           "textposition": "auto",
           "type": "bar",
           "x": [
            "Spain"
           ],
           "xaxis": "x",
           "y": [
            4
           ],
           "yaxis": "y"
          },
          {
           "alignmentgroup": "True",
           "hovertemplate": "country_name=%{x}<br>date=2021-11-01<br>value=%{y}<extra></extra>",
           "legendgroup": "United States of America",
           "marker": {
            "color": "#2CA02C",
            "pattern": {
             "shape": ""
            }
           },
           "name": "United States of America",
           "offsetgroup": "United States of America",
           "orientation": "v",
           "showlegend": true,
           "textposition": "auto",
           "type": "bar",
           "x": [
            "United States of America"
           ],
           "xaxis": "x",
           "y": [
            9
           ],
           "yaxis": "y"
          }
         ],
         "name": "2021-11-01"
        },
        {
         "data": [
          {
           "alignmentgroup": "True",
           "hovertemplate": "country_name=%{x}<br>date=2021-11-08<br>value=%{y}<extra></extra>",
           "legendgroup": "Germany",
           "marker": {
            "color": "#1F77B4",
            "pattern": {
             "shape": ""
            }
           },
           "name": "Germany",
           "offsetgroup": "Germany",
           "orientation": "v",
           "showlegend": true,
           "textposition": "auto",
           "type": "bar",
           "x": [
            "Germany"
           ],
           "xaxis": "x",
           "y": [
            331
           ],
           "yaxis": "y"
          },
          {
           "alignmentgroup": "True",
           "hovertemplate": "country_name=%{x}<br>date=2021-11-08<br>value=%{y}<extra></extra>",
           "legendgroup": "Spain",
           "marker": {
            "color": "#FF7F0E",
            "pattern": {
             "shape": ""
            }
           },
           "name": "Spain",
           "offsetgroup": "Spain",
           "orientation": "v",
           "showlegend": true,
           "textposition": "auto",
           "type": "bar",
           "x": [
            "Spain"
           ],
           "xaxis": "x",
           "y": [
            4
           ],
           "yaxis": "y"
          },
          {
           "alignmentgroup": "True",
           "hovertemplate": "country_name=%{x}<br>date=2021-11-08<br>value=%{y}<extra></extra>",
           "legendgroup": "United States of America",
           "marker": {
            "color": "#2CA02C",
            "pattern": {
             "shape": ""
            }
           },
           "name": "United States of America",
           "offsetgroup": "United States of America",
           "orientation": "v",
           "showlegend": true,
           "textposition": "auto",
           "type": "bar",
           "x": [
            "United States of America"
           ],
           "xaxis": "x",
           "y": [
            9
           ],
           "yaxis": "y"
          }
         ],
         "name": "2021-11-08"
        },
        {
         "data": [
          {
           "alignmentgroup": "True",
           "hovertemplate": "country_name=%{x}<br>date=2021-11-15<br>value=%{y}<extra></extra>",
           "legendgroup": "Germany",
           "marker": {
            "color": "#1F77B4",
            "pattern": {
             "shape": ""
            }
           },
           "name": "Germany",
           "offsetgroup": "Germany",
           "orientation": "v",
           "showlegend": true,
           "textposition": "auto",
           "type": "bar",
           "x": [
            "Germany"
           ],
           "xaxis": "x",
           "y": [
            337
           ],
           "yaxis": "y"
          },
          {
           "alignmentgroup": "True",
           "hovertemplate": "country_name=%{x}<br>date=2021-11-15<br>value=%{y}<extra></extra>",
           "legendgroup": "Spain",
           "marker": {
            "color": "#FF7F0E",
            "pattern": {
             "shape": ""
            }
           },
           "name": "Spain",
           "offsetgroup": "Spain",
           "orientation": "v",
           "showlegend": true,
           "textposition": "auto",
           "type": "bar",
           "x": [
            "Spain"
           ],
           "xaxis": "x",
           "y": [
            4
           ],
           "yaxis": "y"
          },
          {
           "alignmentgroup": "True",
           "hovertemplate": "country_name=%{x}<br>date=2021-11-15<br>value=%{y}<extra></extra>",
           "legendgroup": "United States of America",
           "marker": {
            "color": "#2CA02C",
            "pattern": {
             "shape": ""
            }
           },
           "name": "United States of America",
           "offsetgroup": "United States of America",
           "orientation": "v",
           "showlegend": true,
           "textposition": "auto",
           "type": "bar",
           "x": [
            "United States of America"
           ],
           "xaxis": "x",
           "y": [
            10
           ],
           "yaxis": "y"
          }
         ],
         "name": "2021-11-15"
        },
        {
         "data": [
          {
           "alignmentgroup": "True",
           "hovertemplate": "country_name=%{x}<br>date=2021-11-22<br>value=%{y}<extra></extra>",
           "legendgroup": "Germany",
           "marker": {
            "color": "#1F77B4",
            "pattern": {
             "shape": ""
            }
           },
           "name": "Germany",
           "offsetgroup": "Germany",
           "orientation": "v",
           "showlegend": true,
           "textposition": "auto",
           "type": "bar",
           "x": [
            "Germany"
           ],
           "xaxis": "x",
           "y": [
            349
           ],
           "yaxis": "y"
          },
          {
           "alignmentgroup": "True",
           "hovertemplate": "country_name=%{x}<br>date=2021-11-22<br>value=%{y}<extra></extra>",
           "legendgroup": "Spain",
           "marker": {
            "color": "#FF7F0E",
            "pattern": {
             "shape": ""
            }
           },
           "name": "Spain",
           "offsetgroup": "Spain",
           "orientation": "v",
           "showlegend": true,
           "textposition": "auto",
           "type": "bar",
           "x": [
            "Spain"
           ],
           "xaxis": "x",
           "y": [
            4
           ],
           "yaxis": "y"
          },
          {
           "alignmentgroup": "True",
           "hovertemplate": "country_name=%{x}<br>date=2021-11-22<br>value=%{y}<extra></extra>",
           "legendgroup": "United States of America",
           "marker": {
            "color": "#2CA02C",
            "pattern": {
             "shape": ""
            }
           },
           "name": "United States of America",
           "offsetgroup": "United States of America",
           "orientation": "v",
           "showlegend": true,
           "textposition": "auto",
           "type": "bar",
           "x": [
            "United States of America"
           ],
           "xaxis": "x",
           "y": [
            13
           ],
           "yaxis": "y"
          }
         ],
         "name": "2021-11-22"
        },
        {
         "data": [
          {
           "alignmentgroup": "True",
           "hovertemplate": "country_name=%{x}<br>date=2021-11-29<br>value=%{y}<extra></extra>",
           "legendgroup": "Germany",
           "marker": {
            "color": "#1F77B4",
            "pattern": {
             "shape": ""
            }
           },
           "name": "Germany",
           "offsetgroup": "Germany",
           "orientation": "v",
           "showlegend": true,
           "textposition": "auto",
           "type": "bar",
           "x": [
            "Germany"
           ],
           "xaxis": "x",
           "y": [
            363
           ],
           "yaxis": "y"
          },
          {
           "alignmentgroup": "True",
           "hovertemplate": "country_name=%{x}<br>date=2021-11-29<br>value=%{y}<extra></extra>",
           "legendgroup": "Spain",
           "marker": {
            "color": "#FF7F0E",
            "pattern": {
             "shape": ""
            }
           },
           "name": "Spain",
           "offsetgroup": "Spain",
           "orientation": "v",
           "showlegend": true,
           "textposition": "auto",
           "type": "bar",
           "x": [
            "Spain"
           ],
           "xaxis": "x",
           "y": [
            4
           ],
           "yaxis": "y"
          },
          {
           "alignmentgroup": "True",
           "hovertemplate": "country_name=%{x}<br>date=2021-11-29<br>value=%{y}<extra></extra>",
           "legendgroup": "United States of America",
           "marker": {
            "color": "#2CA02C",
            "pattern": {
             "shape": ""
            }
           },
           "name": "United States of America",
           "offsetgroup": "United States of America",
           "orientation": "v",
           "showlegend": true,
           "textposition": "auto",
           "type": "bar",
           "x": [
            "United States of America"
           ],
           "xaxis": "x",
           "y": [
            13
           ],
           "yaxis": "y"
          }
         ],
         "name": "2021-11-29"
        },
        {
         "data": [
          {
           "alignmentgroup": "True",
           "hovertemplate": "country_name=%{x}<br>date=2021-12-06<br>value=%{y}<extra></extra>",
           "legendgroup": "Germany",
           "marker": {
            "color": "#1F77B4",
            "pattern": {
             "shape": ""
            }
           },
           "name": "Germany",
           "offsetgroup": "Germany",
           "orientation": "v",
           "showlegend": true,
           "textposition": "auto",
           "type": "bar",
           "x": [
            "Germany"
           ],
           "xaxis": "x",
           "y": [
            369
           ],
           "yaxis": "y"
          },
          {
           "alignmentgroup": "True",
           "hovertemplate": "country_name=%{x}<br>date=2021-12-06<br>value=%{y}<extra></extra>",
           "legendgroup": "Spain",
           "marker": {
            "color": "#FF7F0E",
            "pattern": {
             "shape": ""
            }
           },
           "name": "Spain",
           "offsetgroup": "Spain",
           "orientation": "v",
           "showlegend": true,
           "textposition": "auto",
           "type": "bar",
           "x": [
            "Spain"
           ],
           "xaxis": "x",
           "y": [
            4
           ],
           "yaxis": "y"
          },
          {
           "alignmentgroup": "True",
           "hovertemplate": "country_name=%{x}<br>date=2021-12-06<br>value=%{y}<extra></extra>",
           "legendgroup": "United States of America",
           "marker": {
            "color": "#2CA02C",
            "pattern": {
             "shape": ""
            }
           },
           "name": "United States of America",
           "offsetgroup": "United States of America",
           "orientation": "v",
           "showlegend": true,
           "textposition": "auto",
           "type": "bar",
           "x": [
            "United States of America"
           ],
           "xaxis": "x",
           "y": [
            14
           ],
           "yaxis": "y"
          }
         ],
         "name": "2021-12-06"
        },
        {
         "data": [
          {
           "alignmentgroup": "True",
           "hovertemplate": "country_name=%{x}<br>date=2021-12-13<br>value=%{y}<extra></extra>",
           "legendgroup": "Germany",
           "marker": {
            "color": "#1F77B4",
            "pattern": {
             "shape": ""
            }
           },
           "name": "Germany",
           "offsetgroup": "Germany",
           "orientation": "v",
           "showlegend": true,
           "textposition": "auto",
           "type": "bar",
           "x": [
            "Germany"
           ],
           "xaxis": "x",
           "y": [
            376
           ],
           "yaxis": "y"
          },
          {
           "alignmentgroup": "True",
           "hovertemplate": "country_name=%{x}<br>date=2021-12-13<br>value=%{y}<extra></extra>",
           "legendgroup": "Spain",
           "marker": {
            "color": "#FF7F0E",
            "pattern": {
             "shape": ""
            }
           },
           "name": "Spain",
           "offsetgroup": "Spain",
           "orientation": "v",
           "showlegend": true,
           "textposition": "auto",
           "type": "bar",
           "x": [
            "Spain"
           ],
           "xaxis": "x",
           "y": [
            4
           ],
           "yaxis": "y"
          },
          {
           "alignmentgroup": "True",
           "hovertemplate": "country_name=%{x}<br>date=2021-12-13<br>value=%{y}<extra></extra>",
           "legendgroup": "United States of America",
           "marker": {
            "color": "#2CA02C",
            "pattern": {
             "shape": ""
            }
           },
           "name": "United States of America",
           "offsetgroup": "United States of America",
           "orientation": "v",
           "showlegend": true,
           "textposition": "auto",
           "type": "bar",
           "x": [
            "United States of America"
           ],
           "xaxis": "x",
           "y": [
            14
           ],
           "yaxis": "y"
          }
         ],
         "name": "2021-12-13"
        },
        {
         "data": [
          {
           "alignmentgroup": "True",
           "hovertemplate": "country_name=%{x}<br>date=2021-12-20<br>value=%{y}<extra></extra>",
           "legendgroup": "Germany",
           "marker": {
            "color": "#1F77B4",
            "pattern": {
             "shape": ""
            }
           },
           "name": "Germany",
           "offsetgroup": "Germany",
           "orientation": "v",
           "showlegend": true,
           "textposition": "auto",
           "type": "bar",
           "x": [
            "Germany"
           ],
           "xaxis": "x",
           "y": [
            381
           ],
           "yaxis": "y"
          },
          {
           "alignmentgroup": "True",
           "hovertemplate": "country_name=%{x}<br>date=2021-12-20<br>value=%{y}<extra></extra>",
           "legendgroup": "Spain",
           "marker": {
            "color": "#FF7F0E",
            "pattern": {
             "shape": ""
            }
           },
           "name": "Spain",
           "offsetgroup": "Spain",
           "orientation": "v",
           "showlegend": true,
           "textposition": "auto",
           "type": "bar",
           "x": [
            "Spain"
           ],
           "xaxis": "x",
           "y": [
            4
           ],
           "yaxis": "y"
          },
          {
           "alignmentgroup": "True",
           "hovertemplate": "country_name=%{x}<br>date=2021-12-20<br>value=%{y}<extra></extra>",
           "legendgroup": "United States of America",
           "marker": {
            "color": "#2CA02C",
            "pattern": {
             "shape": ""
            }
           },
           "name": "United States of America",
           "offsetgroup": "United States of America",
           "orientation": "v",
           "showlegend": true,
           "textposition": "auto",
           "type": "bar",
           "x": [
            "United States of America"
           ],
           "xaxis": "x",
           "y": [
            14
           ],
           "yaxis": "y"
          }
         ],
         "name": "2021-12-20"
        },
        {
         "data": [
          {
           "alignmentgroup": "True",
           "hovertemplate": "country_name=%{x}<br>date=2021-12-27<br>value=%{y}<extra></extra>",
           "legendgroup": "Germany",
           "marker": {
            "color": "#1F77B4",
            "pattern": {
             "shape": ""
            }
           },
           "name": "Germany",
           "offsetgroup": "Germany",
           "orientation": "v",
           "showlegend": true,
           "textposition": "auto",
           "type": "bar",
           "x": [
            "Germany"
           ],
           "xaxis": "x",
           "y": [
            384
           ],
           "yaxis": "y"
          },
          {
           "alignmentgroup": "True",
           "hovertemplate": "country_name=%{x}<br>date=2021-12-27<br>value=%{y}<extra></extra>",
           "legendgroup": "Spain",
           "marker": {
            "color": "#FF7F0E",
            "pattern": {
             "shape": ""
            }
           },
           "name": "Spain",
           "offsetgroup": "Spain",
           "orientation": "v",
           "showlegend": true,
           "textposition": "auto",
           "type": "bar",
           "x": [
            "Spain"
           ],
           "xaxis": "x",
           "y": [
            4
           ],
           "yaxis": "y"
          },
          {
           "alignmentgroup": "True",
           "hovertemplate": "country_name=%{x}<br>date=2021-12-27<br>value=%{y}<extra></extra>",
           "legendgroup": "United States of America",
           "marker": {
            "color": "#2CA02C",
            "pattern": {
             "shape": ""
            }
           },
           "name": "United States of America",
           "offsetgroup": "United States of America",
           "orientation": "v",
           "showlegend": true,
           "textposition": "auto",
           "type": "bar",
           "x": [
            "United States of America"
           ],
           "xaxis": "x",
           "y": [
            14
           ],
           "yaxis": "y"
          }
         ],
         "name": "2021-12-27"
        },
        {
         "data": [
          {
           "alignmentgroup": "True",
           "hovertemplate": "country_name=%{x}<br>date=2022-01-03<br>value=%{y}<extra></extra>",
           "legendgroup": "Germany",
           "marker": {
            "color": "#1F77B4",
            "pattern": {
             "shape": ""
            }
           },
           "name": "Germany",
           "offsetgroup": "Germany",
           "orientation": "v",
           "showlegend": true,
           "textposition": "auto",
           "type": "bar",
           "x": [
            "Germany"
           ],
           "xaxis": "x",
           "y": [
            386
           ],
           "yaxis": "y"
          },
          {
           "alignmentgroup": "True",
           "hovertemplate": "country_name=%{x}<br>date=2022-01-03<br>value=%{y}<extra></extra>",
           "legendgroup": "Spain",
           "marker": {
            "color": "#FF7F0E",
            "pattern": {
             "shape": ""
            }
           },
           "name": "Spain",
           "offsetgroup": "Spain",
           "orientation": "v",
           "showlegend": true,
           "textposition": "auto",
           "type": "bar",
           "x": [
            "Spain"
           ],
           "xaxis": "x",
           "y": [
            5
           ],
           "yaxis": "y"
          },
          {
           "alignmentgroup": "True",
           "hovertemplate": "country_name=%{x}<br>date=2022-01-03<br>value=%{y}<extra></extra>",
           "legendgroup": "United States of America",
           "marker": {
            "color": "#2CA02C",
            "pattern": {
             "shape": ""
            }
           },
           "name": "United States of America",
           "offsetgroup": "United States of America",
           "orientation": "v",
           "showlegend": true,
           "textposition": "auto",
           "type": "bar",
           "x": [
            "United States of America"
           ],
           "xaxis": "x",
           "y": [
            14
           ],
           "yaxis": "y"
          }
         ],
         "name": "2022-01-03"
        },
        {
         "data": [
          {
           "alignmentgroup": "True",
           "hovertemplate": "country_name=%{x}<br>date=2022-01-10<br>value=%{y}<extra></extra>",
           "legendgroup": "Germany",
           "marker": {
            "color": "#1F77B4",
            "pattern": {
             "shape": ""
            }
           },
           "name": "Germany",
           "offsetgroup": "Germany",
           "orientation": "v",
           "showlegend": true,
           "textposition": "auto",
           "type": "bar",
           "x": [
            "Germany"
           ],
           "xaxis": "x",
           "y": [
            388
           ],
           "yaxis": "y"
          },
          {
           "alignmentgroup": "True",
           "hovertemplate": "country_name=%{x}<br>date=2022-01-10<br>value=%{y}<extra></extra>",
           "legendgroup": "Spain",
           "marker": {
            "color": "#FF7F0E",
            "pattern": {
             "shape": ""
            }
           },
           "name": "Spain",
           "offsetgroup": "Spain",
           "orientation": "v",
           "showlegend": true,
           "textposition": "auto",
           "type": "bar",
           "x": [
            "Spain"
           ],
           "xaxis": "x",
           "y": [
            5
           ],
           "yaxis": "y"
          },
          {
           "alignmentgroup": "True",
           "hovertemplate": "country_name=%{x}<br>date=2022-01-10<br>value=%{y}<extra></extra>",
           "legendgroup": "United States of America",
           "marker": {
            "color": "#2CA02C",
            "pattern": {
             "shape": ""
            }
           },
           "name": "United States of America",
           "offsetgroup": "United States of America",
           "orientation": "v",
           "showlegend": true,
           "textposition": "auto",
           "type": "bar",
           "x": [
            "United States of America"
           ],
           "xaxis": "x",
           "y": [
            16
           ],
           "yaxis": "y"
          }
         ],
         "name": "2022-01-10"
        },
        {
         "data": [
          {
           "alignmentgroup": "True",
           "hovertemplate": "country_name=%{x}<br>date=2022-01-17<br>value=%{y}<extra></extra>",
           "legendgroup": "Germany",
           "marker": {
            "color": "#1F77B4",
            "pattern": {
             "shape": ""
            }
           },
           "name": "Germany",
           "offsetgroup": "Germany",
           "orientation": "v",
           "showlegend": true,
           "textposition": "auto",
           "type": "bar",
           "x": [
            "Germany"
           ],
           "xaxis": "x",
           "y": [
            388
           ],
           "yaxis": "y"
          },
          {
           "alignmentgroup": "True",
           "hovertemplate": "country_name=%{x}<br>date=2022-01-17<br>value=%{y}<extra></extra>",
           "legendgroup": "Spain",
           "marker": {
            "color": "#FF7F0E",
            "pattern": {
             "shape": ""
            }
           },
           "name": "Spain",
           "offsetgroup": "Spain",
           "orientation": "v",
           "showlegend": true,
           "textposition": "auto",
           "type": "bar",
           "x": [
            "Spain"
           ],
           "xaxis": "x",
           "y": [
            5
           ],
           "yaxis": "y"
          },
          {
           "alignmentgroup": "True",
           "hovertemplate": "country_name=%{x}<br>date=2022-01-17<br>value=%{y}<extra></extra>",
           "legendgroup": "United States of America",
           "marker": {
            "color": "#2CA02C",
            "pattern": {
             "shape": ""
            }
           },
           "name": "United States of America",
           "offsetgroup": "United States of America",
           "orientation": "v",
           "showlegend": true,
           "textposition": "auto",
           "type": "bar",
           "x": [
            "United States of America"
           ],
           "xaxis": "x",
           "y": [
            16
           ],
           "yaxis": "y"
          }
         ],
         "name": "2022-01-17"
        },
        {
         "data": [
          {
           "alignmentgroup": "True",
           "hovertemplate": "country_name=%{x}<br>date=2022-01-24<br>value=%{y}<extra></extra>",
           "legendgroup": "Germany",
           "marker": {
            "color": "#1F77B4",
            "pattern": {
             "shape": ""
            }
           },
           "name": "Germany",
           "offsetgroup": "Germany",
           "orientation": "v",
           "showlegend": true,
           "textposition": "auto",
           "type": "bar",
           "x": [
            "Germany"
           ],
           "xaxis": "x",
           "y": [
            388
           ],
           "yaxis": "y"
          },
          {
           "alignmentgroup": "True",
           "hovertemplate": "country_name=%{x}<br>date=2022-01-24<br>value=%{y}<extra></extra>",
           "legendgroup": "Spain",
           "marker": {
            "color": "#FF7F0E",
            "pattern": {
             "shape": ""
            }
           },
           "name": "Spain",
           "offsetgroup": "Spain",
           "orientation": "v",
           "showlegend": true,
           "textposition": "auto",
           "type": "bar",
           "x": [
            "Spain"
           ],
           "xaxis": "x",
           "y": [
            5
           ],
           "yaxis": "y"
          },
          {
           "alignmentgroup": "True",
           "hovertemplate": "country_name=%{x}<br>date=2022-01-24<br>value=%{y}<extra></extra>",
           "legendgroup": "United States of America",
           "marker": {
            "color": "#2CA02C",
            "pattern": {
             "shape": ""
            }
           },
           "name": "United States of America",
           "offsetgroup": "United States of America",
           "orientation": "v",
           "showlegend": true,
           "textposition": "auto",
           "type": "bar",
           "x": [
            "United States of America"
           ],
           "xaxis": "x",
           "y": [
            16
           ],
           "yaxis": "y"
          }
         ],
         "name": "2022-01-24"
        },
        {
         "data": [
          {
           "alignmentgroup": "True",
           "hovertemplate": "country_name=%{x}<br>date=2022-01-31<br>value=%{y}<extra></extra>",
           "legendgroup": "Germany",
           "marker": {
            "color": "#1F77B4",
            "pattern": {
             "shape": ""
            }
           },
           "name": "Germany",
           "offsetgroup": "Germany",
           "orientation": "v",
           "showlegend": true,
           "textposition": "auto",
           "type": "bar",
           "x": [
            "Germany"
           ],
           "xaxis": "x",
           "y": [
            389
           ],
           "yaxis": "y"
          },
          {
           "alignmentgroup": "True",
           "hovertemplate": "country_name=%{x}<br>date=2022-01-31<br>value=%{y}<extra></extra>",
           "legendgroup": "Spain",
           "marker": {
            "color": "#FF7F0E",
            "pattern": {
             "shape": ""
            }
           },
           "name": "Spain",
           "offsetgroup": "Spain",
           "orientation": "v",
           "showlegend": true,
           "textposition": "auto",
           "type": "bar",
           "x": [
            "Spain"
           ],
           "xaxis": "x",
           "y": [
            5
           ],
           "yaxis": "y"
          },
          {
           "alignmentgroup": "True",
           "hovertemplate": "country_name=%{x}<br>date=2022-01-31<br>value=%{y}<extra></extra>",
           "legendgroup": "United States of America",
           "marker": {
            "color": "#2CA02C",
            "pattern": {
             "shape": ""
            }
           },
           "name": "United States of America",
           "offsetgroup": "United States of America",
           "orientation": "v",
           "showlegend": true,
           "textposition": "auto",
           "type": "bar",
           "x": [
            "United States of America"
           ],
           "xaxis": "x",
           "y": [
            16
           ],
           "yaxis": "y"
          }
         ],
         "name": "2022-01-31"
        },
        {
         "data": [
          {
           "alignmentgroup": "True",
           "hovertemplate": "country_name=%{x}<br>date=2022-02-07<br>value=%{y}<extra></extra>",
           "legendgroup": "Germany",
           "marker": {
            "color": "#1F77B4",
            "pattern": {
             "shape": ""
            }
           },
           "name": "Germany",
           "offsetgroup": "Germany",
           "orientation": "v",
           "showlegend": true,
           "textposition": "auto",
           "type": "bar",
           "x": [
            "Germany"
           ],
           "xaxis": "x",
           "y": [
            389
           ],
           "yaxis": "y"
          },
          {
           "alignmentgroup": "True",
           "hovertemplate": "country_name=%{x}<br>date=2022-02-07<br>value=%{y}<extra></extra>",
           "legendgroup": "Spain",
           "marker": {
            "color": "#FF7F0E",
            "pattern": {
             "shape": ""
            }
           },
           "name": "Spain",
           "offsetgroup": "Spain",
           "orientation": "v",
           "showlegend": true,
           "textposition": "auto",
           "type": "bar",
           "x": [
            "Spain"
           ],
           "xaxis": "x",
           "y": [
            5
           ],
           "yaxis": "y"
          },
          {
           "alignmentgroup": "True",
           "hovertemplate": "country_name=%{x}<br>date=2022-02-07<br>value=%{y}<extra></extra>",
           "legendgroup": "United States of America",
           "marker": {
            "color": "#2CA02C",
            "pattern": {
             "shape": ""
            }
           },
           "name": "United States of America",
           "offsetgroup": "United States of America",
           "orientation": "v",
           "showlegend": true,
           "textposition": "auto",
           "type": "bar",
           "x": [
            "United States of America"
           ],
           "xaxis": "x",
           "y": [
            17
           ],
           "yaxis": "y"
          }
         ],
         "name": "2022-02-07"
        },
        {
         "data": [
          {
           "alignmentgroup": "True",
           "hovertemplate": "country_name=%{x}<br>date=2022-02-14<br>value=%{y}<extra></extra>",
           "legendgroup": "Germany",
           "marker": {
            "color": "#1F77B4",
            "pattern": {
             "shape": ""
            }
           },
           "name": "Germany",
           "offsetgroup": "Germany",
           "orientation": "v",
           "showlegend": true,
           "textposition": "auto",
           "type": "bar",
           "x": [
            "Germany"
           ],
           "xaxis": "x",
           "y": [
            389
           ],
           "yaxis": "y"
          },
          {
           "alignmentgroup": "True",
           "hovertemplate": "country_name=%{x}<br>date=2022-02-14<br>value=%{y}<extra></extra>",
           "legendgroup": "Spain",
           "marker": {
            "color": "#FF7F0E",
            "pattern": {
             "shape": ""
            }
           },
           "name": "Spain",
           "offsetgroup": "Spain",
           "orientation": "v",
           "showlegend": true,
           "textposition": "auto",
           "type": "bar",
           "x": [
            "Spain"
           ],
           "xaxis": "x",
           "y": [
            5
           ],
           "yaxis": "y"
          },
          {
           "alignmentgroup": "True",
           "hovertemplate": "country_name=%{x}<br>date=2022-02-14<br>value=%{y}<extra></extra>",
           "legendgroup": "United States of America",
           "marker": {
            "color": "#2CA02C",
            "pattern": {
             "shape": ""
            }
           },
           "name": "United States of America",
           "offsetgroup": "United States of America",
           "orientation": "v",
           "showlegend": true,
           "textposition": "auto",
           "type": "bar",
           "x": [
            "United States of America"
           ],
           "xaxis": "x",
           "y": [
            17
           ],
           "yaxis": "y"
          }
         ],
         "name": "2022-02-14"
        },
        {
         "data": [
          {
           "alignmentgroup": "True",
           "hovertemplate": "country_name=%{x}<br>date=2022-02-21<br>value=%{y}<extra></extra>",
           "legendgroup": "Germany",
           "marker": {
            "color": "#1F77B4",
            "pattern": {
             "shape": ""
            }
           },
           "name": "Germany",
           "offsetgroup": "Germany",
           "orientation": "v",
           "showlegend": true,
           "textposition": "auto",
           "type": "bar",
           "x": [
            "Germany"
           ],
           "xaxis": "x",
           "y": [
            389
           ],
           "yaxis": "y"
          },
          {
           "alignmentgroup": "True",
           "hovertemplate": "country_name=%{x}<br>date=2022-02-21<br>value=%{y}<extra></extra>",
           "legendgroup": "Spain",
           "marker": {
            "color": "#FF7F0E",
            "pattern": {
             "shape": ""
            }
           },
           "name": "Spain",
           "offsetgroup": "Spain",
           "orientation": "v",
           "showlegend": true,
           "textposition": "auto",
           "type": "bar",
           "x": [
            "Spain"
           ],
           "xaxis": "x",
           "y": [
            5
           ],
           "yaxis": "y"
          },
          {
           "alignmentgroup": "True",
           "hovertemplate": "country_name=%{x}<br>date=2022-02-21<br>value=%{y}<extra></extra>",
           "legendgroup": "United States of America",
           "marker": {
            "color": "#2CA02C",
            "pattern": {
             "shape": ""
            }
           },
           "name": "United States of America",
           "offsetgroup": "United States of America",
           "orientation": "v",
           "showlegend": true,
           "textposition": "auto",
           "type": "bar",
           "x": [
            "United States of America"
           ],
           "xaxis": "x",
           "y": [
            17
           ],
           "yaxis": "y"
          }
         ],
         "name": "2022-02-21"
        },
        {
         "data": [
          {
           "alignmentgroup": "True",
           "hovertemplate": "country_name=%{x}<br>date=2022-02-28<br>value=%{y}<extra></extra>",
           "legendgroup": "Germany",
           "marker": {
            "color": "#1F77B4",
            "pattern": {
             "shape": ""
            }
           },
           "name": "Germany",
           "offsetgroup": "Germany",
           "orientation": "v",
           "showlegend": true,
           "textposition": "auto",
           "type": "bar",
           "x": [
            "Germany"
           ],
           "xaxis": "x",
           "y": [
            389
           ],
           "yaxis": "y"
          },
          {
           "alignmentgroup": "True",
           "hovertemplate": "country_name=%{x}<br>date=2022-02-28<br>value=%{y}<extra></extra>",
           "legendgroup": "Spain",
           "marker": {
            "color": "#FF7F0E",
            "pattern": {
             "shape": ""
            }
           },
           "name": "Spain",
           "offsetgroup": "Spain",
           "orientation": "v",
           "showlegend": true,
           "textposition": "auto",
           "type": "bar",
           "x": [
            "Spain"
           ],
           "xaxis": "x",
           "y": [
            5
           ],
           "yaxis": "y"
          },
          {
           "alignmentgroup": "True",
           "hovertemplate": "country_name=%{x}<br>date=2022-02-28<br>value=%{y}<extra></extra>",
           "legendgroup": "United States of America",
           "marker": {
            "color": "#2CA02C",
            "pattern": {
             "shape": ""
            }
           },
           "name": "United States of America",
           "offsetgroup": "United States of America",
           "orientation": "v",
           "showlegend": true,
           "textposition": "auto",
           "type": "bar",
           "x": [
            "United States of America"
           ],
           "xaxis": "x",
           "y": [
            18
           ],
           "yaxis": "y"
          }
         ],
         "name": "2022-02-28"
        },
        {
         "data": [
          {
           "alignmentgroup": "True",
           "hovertemplate": "country_name=%{x}<br>date=2022-03-07<br>value=%{y}<extra></extra>",
           "legendgroup": "Germany",
           "marker": {
            "color": "#1F77B4",
            "pattern": {
             "shape": ""
            }
           },
           "name": "Germany",
           "offsetgroup": "Germany",
           "orientation": "v",
           "showlegend": true,
           "textposition": "auto",
           "type": "bar",
           "x": [
            "Germany"
           ],
           "xaxis": "x",
           "y": [
            389
           ],
           "yaxis": "y"
          },
          {
           "alignmentgroup": "True",
           "hovertemplate": "country_name=%{x}<br>date=2022-03-07<br>value=%{y}<extra></extra>",
           "legendgroup": "Spain",
           "marker": {
            "color": "#FF7F0E",
            "pattern": {
             "shape": ""
            }
           },
           "name": "Spain",
           "offsetgroup": "Spain",
           "orientation": "v",
           "showlegend": true,
           "textposition": "auto",
           "type": "bar",
           "x": [
            "Spain"
           ],
           "xaxis": "x",
           "y": [
            5
           ],
           "yaxis": "y"
          },
          {
           "alignmentgroup": "True",
           "hovertemplate": "country_name=%{x}<br>date=2022-03-07<br>value=%{y}<extra></extra>",
           "legendgroup": "United States of America",
           "marker": {
            "color": "#2CA02C",
            "pattern": {
             "shape": ""
            }
           },
           "name": "United States of America",
           "offsetgroup": "United States of America",
           "orientation": "v",
           "showlegend": true,
           "textposition": "auto",
           "type": "bar",
           "x": [
            "United States of America"
           ],
           "xaxis": "x",
           "y": [
            18
           ],
           "yaxis": "y"
          }
         ],
         "name": "2022-03-07"
        },
        {
         "data": [
          {
           "alignmentgroup": "True",
           "hovertemplate": "country_name=%{x}<br>date=2022-03-14<br>value=%{y}<extra></extra>",
           "legendgroup": "Germany",
           "marker": {
            "color": "#1F77B4",
            "pattern": {
             "shape": ""
            }
           },
           "name": "Germany",
           "offsetgroup": "Germany",
           "orientation": "v",
           "showlegend": true,
           "textposition": "auto",
           "type": "bar",
           "x": [
            "Germany"
           ],
           "xaxis": "x",
           "y": [
            389
           ],
           "yaxis": "y"
          },
          {
           "alignmentgroup": "True",
           "hovertemplate": "country_name=%{x}<br>date=2022-03-14<br>value=%{y}<extra></extra>",
           "legendgroup": "Spain",
           "marker": {
            "color": "#FF7F0E",
            "pattern": {
             "shape": ""
            }
           },
           "name": "Spain",
           "offsetgroup": "Spain",
           "orientation": "v",
           "showlegend": true,
           "textposition": "auto",
           "type": "bar",
           "x": [
            "Spain"
           ],
           "xaxis": "x",
           "y": [
            5
           ],
           "yaxis": "y"
          },
          {
           "alignmentgroup": "True",
           "hovertemplate": "country_name=%{x}<br>date=2022-03-14<br>value=%{y}<extra></extra>",
           "legendgroup": "United States of America",
           "marker": {
            "color": "#2CA02C",
            "pattern": {
             "shape": ""
            }
           },
           "name": "United States of America",
           "offsetgroup": "United States of America",
           "orientation": "v",
           "showlegend": true,
           "textposition": "auto",
           "type": "bar",
           "x": [
            "United States of America"
           ],
           "xaxis": "x",
           "y": [
            18
           ],
           "yaxis": "y"
          }
         ],
         "name": "2022-03-14"
        },
        {
         "data": [
          {
           "alignmentgroup": "True",
           "hovertemplate": "country_name=%{x}<br>date=2022-03-21<br>value=%{y}<extra></extra>",
           "legendgroup": "Germany",
           "marker": {
            "color": "#1F77B4",
            "pattern": {
             "shape": ""
            }
           },
           "name": "Germany",
           "offsetgroup": "Germany",
           "orientation": "v",
           "showlegend": true,
           "textposition": "auto",
           "type": "bar",
           "x": [
            "Germany"
           ],
           "xaxis": "x",
           "y": [
            389
           ],
           "yaxis": "y"
          },
          {
           "alignmentgroup": "True",
           "hovertemplate": "country_name=%{x}<br>date=2022-03-21<br>value=%{y}<extra></extra>",
           "legendgroup": "Spain",
           "marker": {
            "color": "#FF7F0E",
            "pattern": {
             "shape": ""
            }
           },
           "name": "Spain",
           "offsetgroup": "Spain",
           "orientation": "v",
           "showlegend": true,
           "textposition": "auto",
           "type": "bar",
           "x": [
            "Spain"
           ],
           "xaxis": "x",
           "y": [
            5
           ],
           "yaxis": "y"
          },
          {
           "alignmentgroup": "True",
           "hovertemplate": "country_name=%{x}<br>date=2022-03-21<br>value=%{y}<extra></extra>",
           "legendgroup": "United States of America",
           "marker": {
            "color": "#2CA02C",
            "pattern": {
             "shape": ""
            }
           },
           "name": "United States of America",
           "offsetgroup": "United States of America",
           "orientation": "v",
           "showlegend": true,
           "textposition": "auto",
           "type": "bar",
           "x": [
            "United States of America"
           ],
           "xaxis": "x",
           "y": [
            18
           ],
           "yaxis": "y"
          }
         ],
         "name": "2022-03-21"
        },
        {
         "data": [
          {
           "alignmentgroup": "True",
           "hovertemplate": "country_name=%{x}<br>date=2022-03-28<br>value=%{y}<extra></extra>",
           "legendgroup": "Germany",
           "marker": {
            "color": "#1F77B4",
            "pattern": {
             "shape": ""
            }
           },
           "name": "Germany",
           "offsetgroup": "Germany",
           "orientation": "v",
           "showlegend": true,
           "textposition": "auto",
           "type": "bar",
           "x": [
            "Germany"
           ],
           "xaxis": "x",
           "y": [
            389
           ],
           "yaxis": "y"
          },
          {
           "alignmentgroup": "True",
           "hovertemplate": "country_name=%{x}<br>date=2022-03-28<br>value=%{y}<extra></extra>",
           "legendgroup": "Spain",
           "marker": {
            "color": "#FF7F0E",
            "pattern": {
             "shape": ""
            }
           },
           "name": "Spain",
           "offsetgroup": "Spain",
           "orientation": "v",
           "showlegend": true,
           "textposition": "auto",
           "type": "bar",
           "x": [
            "Spain"
           ],
           "xaxis": "x",
           "y": [
            5
           ],
           "yaxis": "y"
          },
          {
           "alignmentgroup": "True",
           "hovertemplate": "country_name=%{x}<br>date=2022-03-28<br>value=%{y}<extra></extra>",
           "legendgroup": "United States of America",
           "marker": {
            "color": "#2CA02C",
            "pattern": {
             "shape": ""
            }
           },
           "name": "United States of America",
           "offsetgroup": "United States of America",
           "orientation": "v",
           "showlegend": true,
           "textposition": "auto",
           "type": "bar",
           "x": [
            "United States of America"
           ],
           "xaxis": "x",
           "y": [
            18
           ],
           "yaxis": "y"
          }
         ],
         "name": "2022-03-28"
        },
        {
         "data": [
          {
           "alignmentgroup": "True",
           "hovertemplate": "country_name=%{x}<br>date=2022-04-04<br>value=%{y}<extra></extra>",
           "legendgroup": "Germany",
           "marker": {
            "color": "#1F77B4",
            "pattern": {
             "shape": ""
            }
           },
           "name": "Germany",
           "offsetgroup": "Germany",
           "orientation": "v",
           "showlegend": true,
           "textposition": "auto",
           "type": "bar",
           "x": [
            "Germany"
           ],
           "xaxis": "x",
           "y": [
            389
           ],
           "yaxis": "y"
          },
          {
           "alignmentgroup": "True",
           "hovertemplate": "country_name=%{x}<br>date=2022-04-04<br>value=%{y}<extra></extra>",
           "legendgroup": "Spain",
           "marker": {
            "color": "#FF7F0E",
            "pattern": {
             "shape": ""
            }
           },
           "name": "Spain",
           "offsetgroup": "Spain",
           "orientation": "v",
           "showlegend": true,
           "textposition": "auto",
           "type": "bar",
           "x": [
            "Spain"
           ],
           "xaxis": "x",
           "y": [
            5
           ],
           "yaxis": "y"
          },
          {
           "alignmentgroup": "True",
           "hovertemplate": "country_name=%{x}<br>date=2022-04-04<br>value=%{y}<extra></extra>",
           "legendgroup": "United States of America",
           "marker": {
            "color": "#2CA02C",
            "pattern": {
             "shape": ""
            }
           },
           "name": "United States of America",
           "offsetgroup": "United States of America",
           "orientation": "v",
           "showlegend": true,
           "textposition": "auto",
           "type": "bar",
           "x": [
            "United States of America"
           ],
           "xaxis": "x",
           "y": [
            18
           ],
           "yaxis": "y"
          }
         ],
         "name": "2022-04-04"
        },
        {
         "data": [
          {
           "alignmentgroup": "True",
           "hovertemplate": "country_name=%{x}<br>date=2022-04-11<br>value=%{y}<extra></extra>",
           "legendgroup": "Germany",
           "marker": {
            "color": "#1F77B4",
            "pattern": {
             "shape": ""
            }
           },
           "name": "Germany",
           "offsetgroup": "Germany",
           "orientation": "v",
           "showlegend": true,
           "textposition": "auto",
           "type": "bar",
           "x": [
            "Germany"
           ],
           "xaxis": "x",
           "y": [
            389
           ],
           "yaxis": "y"
          },
          {
           "alignmentgroup": "True",
           "hovertemplate": "country_name=%{x}<br>date=2022-04-11<br>value=%{y}<extra></extra>",
           "legendgroup": "Spain",
           "marker": {
            "color": "#FF7F0E",
            "pattern": {
             "shape": ""
            }
           },
           "name": "Spain",
           "offsetgroup": "Spain",
           "orientation": "v",
           "showlegend": true,
           "textposition": "auto",
           "type": "bar",
           "x": [
            "Spain"
           ],
           "xaxis": "x",
           "y": [
            5
           ],
           "yaxis": "y"
          },
          {
           "alignmentgroup": "True",
           "hovertemplate": "country_name=%{x}<br>date=2022-04-11<br>value=%{y}<extra></extra>",
           "legendgroup": "United States of America",
           "marker": {
            "color": "#2CA02C",
            "pattern": {
             "shape": ""
            }
           },
           "name": "United States of America",
           "offsetgroup": "United States of America",
           "orientation": "v",
           "showlegend": true,
           "textposition": "auto",
           "type": "bar",
           "x": [
            "United States of America"
           ],
           "xaxis": "x",
           "y": [
            18
           ],
           "yaxis": "y"
          }
         ],
         "name": "2022-04-11"
        },
        {
         "data": [
          {
           "alignmentgroup": "True",
           "hovertemplate": "country_name=%{x}<br>date=2022-04-18<br>value=%{y}<extra></extra>",
           "legendgroup": "Germany",
           "marker": {
            "color": "#1F77B4",
            "pattern": {
             "shape": ""
            }
           },
           "name": "Germany",
           "offsetgroup": "Germany",
           "orientation": "v",
           "showlegend": true,
           "textposition": "auto",
           "type": "bar",
           "x": [
            "Germany"
           ],
           "xaxis": "x",
           "y": [
            389
           ],
           "yaxis": "y"
          },
          {
           "alignmentgroup": "True",
           "hovertemplate": "country_name=%{x}<br>date=2022-04-18<br>value=%{y}<extra></extra>",
           "legendgroup": "Spain",
           "marker": {
            "color": "#FF7F0E",
            "pattern": {
             "shape": ""
            }
           },
           "name": "Spain",
           "offsetgroup": "Spain",
           "orientation": "v",
           "showlegend": true,
           "textposition": "auto",
           "type": "bar",
           "x": [
            "Spain"
           ],
           "xaxis": "x",
           "y": [
            5
           ],
           "yaxis": "y"
          },
          {
           "alignmentgroup": "True",
           "hovertemplate": "country_name=%{x}<br>date=2022-04-18<br>value=%{y}<extra></extra>",
           "legendgroup": "United States of America",
           "marker": {
            "color": "#2CA02C",
            "pattern": {
             "shape": ""
            }
           },
           "name": "United States of America",
           "offsetgroup": "United States of America",
           "orientation": "v",
           "showlegend": true,
           "textposition": "auto",
           "type": "bar",
           "x": [
            "United States of America"
           ],
           "xaxis": "x",
           "y": [
            18
           ],
           "yaxis": "y"
          }
         ],
         "name": "2022-04-18"
        },
        {
         "data": [
          {
           "alignmentgroup": "True",
           "hovertemplate": "country_name=%{x}<br>date=2022-04-25<br>value=%{y}<extra></extra>",
           "legendgroup": "Germany",
           "marker": {
            "color": "#1F77B4",
            "pattern": {
             "shape": ""
            }
           },
           "name": "Germany",
           "offsetgroup": "Germany",
           "orientation": "v",
           "showlegend": true,
           "textposition": "auto",
           "type": "bar",
           "x": [
            "Germany"
           ],
           "xaxis": "x",
           "y": [
            389
           ],
           "yaxis": "y"
          },
          {
           "alignmentgroup": "True",
           "hovertemplate": "country_name=%{x}<br>date=2022-04-25<br>value=%{y}<extra></extra>",
           "legendgroup": "Spain",
           "marker": {
            "color": "#FF7F0E",
            "pattern": {
             "shape": ""
            }
           },
           "name": "Spain",
           "offsetgroup": "Spain",
           "orientation": "v",
           "showlegend": true,
           "textposition": "auto",
           "type": "bar",
           "x": [
            "Spain"
           ],
           "xaxis": "x",
           "y": [
            5
           ],
           "yaxis": "y"
          },
          {
           "alignmentgroup": "True",
           "hovertemplate": "country_name=%{x}<br>date=2022-04-25<br>value=%{y}<extra></extra>",
           "legendgroup": "United States of America",
           "marker": {
            "color": "#2CA02C",
            "pattern": {
             "shape": ""
            }
           },
           "name": "United States of America",
           "offsetgroup": "United States of America",
           "orientation": "v",
           "showlegend": true,
           "textposition": "auto",
           "type": "bar",
           "x": [
            "United States of America"
           ],
           "xaxis": "x",
           "y": [
            18
           ],
           "yaxis": "y"
          }
         ],
         "name": "2022-04-25"
        },
        {
         "data": [
          {
           "alignmentgroup": "True",
           "hovertemplate": "country_name=%{x}<br>date=2022-05-02<br>value=%{y}<extra></extra>",
           "legendgroup": "Germany",
           "marker": {
            "color": "#1F77B4",
            "pattern": {
             "shape": ""
            }
           },
           "name": "Germany",
           "offsetgroup": "Germany",
           "orientation": "v",
           "showlegend": true,
           "textposition": "auto",
           "type": "bar",
           "x": [
            "Germany"
           ],
           "xaxis": "x",
           "y": [
            389
           ],
           "yaxis": "y"
          },
          {
           "alignmentgroup": "True",
           "hovertemplate": "country_name=%{x}<br>date=2022-05-02<br>value=%{y}<extra></extra>",
           "legendgroup": "Spain",
           "marker": {
            "color": "#FF7F0E",
            "pattern": {
             "shape": ""
            }
           },
           "name": "Spain",
           "offsetgroup": "Spain",
           "orientation": "v",
           "showlegend": true,
           "textposition": "auto",
           "type": "bar",
           "x": [
            "Spain"
           ],
           "xaxis": "x",
           "y": [
            5
           ],
           "yaxis": "y"
          },
          {
           "alignmentgroup": "True",
           "hovertemplate": "country_name=%{x}<br>date=2022-05-02<br>value=%{y}<extra></extra>",
           "legendgroup": "United States of America",
           "marker": {
            "color": "#2CA02C",
            "pattern": {
             "shape": ""
            }
           },
           "name": "United States of America",
           "offsetgroup": "United States of America",
           "orientation": "v",
           "showlegend": true,
           "textposition": "auto",
           "type": "bar",
           "x": [
            "United States of America"
           ],
           "xaxis": "x",
           "y": [
            18
           ],
           "yaxis": "y"
          }
         ],
         "name": "2022-05-02"
        },
        {
         "data": [
          {
           "alignmentgroup": "True",
           "hovertemplate": "country_name=%{x}<br>date=2022-05-09<br>value=%{y}<extra></extra>",
           "legendgroup": "Germany",
           "marker": {
            "color": "#1F77B4",
            "pattern": {
             "shape": ""
            }
           },
           "name": "Germany",
           "offsetgroup": "Germany",
           "orientation": "v",
           "showlegend": true,
           "textposition": "auto",
           "type": "bar",
           "x": [
            "Germany"
           ],
           "xaxis": "x",
           "y": [
            389
           ],
           "yaxis": "y"
          },
          {
           "alignmentgroup": "True",
           "hovertemplate": "country_name=%{x}<br>date=2022-05-09<br>value=%{y}<extra></extra>",
           "legendgroup": "Spain",
           "marker": {
            "color": "#FF7F0E",
            "pattern": {
             "shape": ""
            }
           },
           "name": "Spain",
           "offsetgroup": "Spain",
           "orientation": "v",
           "showlegend": true,
           "textposition": "auto",
           "type": "bar",
           "x": [
            "Spain"
           ],
           "xaxis": "x",
           "y": [
            5
           ],
           "yaxis": "y"
          },
          {
           "alignmentgroup": "True",
           "hovertemplate": "country_name=%{x}<br>date=2022-05-09<br>value=%{y}<extra></extra>",
           "legendgroup": "United States of America",
           "marker": {
            "color": "#2CA02C",
            "pattern": {
             "shape": ""
            }
           },
           "name": "United States of America",
           "offsetgroup": "United States of America",
           "orientation": "v",
           "showlegend": true,
           "textposition": "auto",
           "type": "bar",
           "x": [
            "United States of America"
           ],
           "xaxis": "x",
           "y": [
            18
           ],
           "yaxis": "y"
          }
         ],
         "name": "2022-05-09"
        },
        {
         "data": [
          {
           "alignmentgroup": "True",
           "hovertemplate": "country_name=%{x}<br>date=2022-05-16<br>value=%{y}<extra></extra>",
           "legendgroup": "Germany",
           "marker": {
            "color": "#1F77B4",
            "pattern": {
             "shape": ""
            }
           },
           "name": "Germany",
           "offsetgroup": "Germany",
           "orientation": "v",
           "showlegend": true,
           "textposition": "auto",
           "type": "bar",
           "x": [
            "Germany"
           ],
           "xaxis": "x",
           "y": [
            389
           ],
           "yaxis": "y"
          },
          {
           "alignmentgroup": "True",
           "hovertemplate": "country_name=%{x}<br>date=2022-05-16<br>value=%{y}<extra></extra>",
           "legendgroup": "Spain",
           "marker": {
            "color": "#FF7F0E",
            "pattern": {
             "shape": ""
            }
           },
           "name": "Spain",
           "offsetgroup": "Spain",
           "orientation": "v",
           "showlegend": true,
           "textposition": "auto",
           "type": "bar",
           "x": [
            "Spain"
           ],
           "xaxis": "x",
           "y": [
            5
           ],
           "yaxis": "y"
          },
          {
           "alignmentgroup": "True",
           "hovertemplate": "country_name=%{x}<br>date=2022-05-16<br>value=%{y}<extra></extra>",
           "legendgroup": "United States of America",
           "marker": {
            "color": "#2CA02C",
            "pattern": {
             "shape": ""
            }
           },
           "name": "United States of America",
           "offsetgroup": "United States of America",
           "orientation": "v",
           "showlegend": true,
           "textposition": "auto",
           "type": "bar",
           "x": [
            "United States of America"
           ],
           "xaxis": "x",
           "y": [
            18
           ],
           "yaxis": "y"
          }
         ],
         "name": "2022-05-16"
        },
        {
         "data": [
          {
           "alignmentgroup": "True",
           "hovertemplate": "country_name=%{x}<br>date=2022-05-23<br>value=%{y}<extra></extra>",
           "legendgroup": "Germany",
           "marker": {
            "color": "#1F77B4",
            "pattern": {
             "shape": ""
            }
           },
           "name": "Germany",
           "offsetgroup": "Germany",
           "orientation": "v",
           "showlegend": true,
           "textposition": "auto",
           "type": "bar",
           "x": [
            "Germany"
           ],
           "xaxis": "x",
           "y": [
            389
           ],
           "yaxis": "y"
          },
          {
           "alignmentgroup": "True",
           "hovertemplate": "country_name=%{x}<br>date=2022-05-23<br>value=%{y}<extra></extra>",
           "legendgroup": "Spain",
           "marker": {
            "color": "#FF7F0E",
            "pattern": {
             "shape": ""
            }
           },
           "name": "Spain",
           "offsetgroup": "Spain",
           "orientation": "v",
           "showlegend": true,
           "textposition": "auto",
           "type": "bar",
           "x": [
            "Spain"
           ],
           "xaxis": "x",
           "y": [
            5
           ],
           "yaxis": "y"
          },
          {
           "alignmentgroup": "True",
           "hovertemplate": "country_name=%{x}<br>date=2022-05-23<br>value=%{y}<extra></extra>",
           "legendgroup": "United States of America",
           "marker": {
            "color": "#2CA02C",
            "pattern": {
             "shape": ""
            }
           },
           "name": "United States of America",
           "offsetgroup": "United States of America",
           "orientation": "v",
           "showlegend": true,
           "textposition": "auto",
           "type": "bar",
           "x": [
            "United States of America"
           ],
           "xaxis": "x",
           "y": [
            34838
           ],
           "yaxis": "y"
          }
         ],
         "name": "2022-05-23"
        },
        {
         "data": [
          {
           "alignmentgroup": "True",
           "hovertemplate": "country_name=%{x}<br>date=2022-05-30<br>value=%{y}<extra></extra>",
           "legendgroup": "Germany",
           "marker": {
            "color": "#1F77B4",
            "pattern": {
             "shape": ""
            }
           },
           "name": "Germany",
           "offsetgroup": "Germany",
           "orientation": "v",
           "showlegend": true,
           "textposition": "auto",
           "type": "bar",
           "x": [
            "Germany"
           ],
           "xaxis": "x",
           "y": [
            389
           ],
           "yaxis": "y"
          },
          {
           "alignmentgroup": "True",
           "hovertemplate": "country_name=%{x}<br>date=2022-05-30<br>value=%{y}<extra></extra>",
           "legendgroup": "Spain",
           "marker": {
            "color": "#FF7F0E",
            "pattern": {
             "shape": ""
            }
           },
           "name": "Spain",
           "offsetgroup": "Spain",
           "orientation": "v",
           "showlegend": true,
           "textposition": "auto",
           "type": "bar",
           "x": [
            "Spain"
           ],
           "xaxis": "x",
           "y": [
            5
           ],
           "yaxis": "y"
          },
          {
           "alignmentgroup": "True",
           "hovertemplate": "country_name=%{x}<br>date=2022-05-30<br>value=%{y}<extra></extra>",
           "legendgroup": "United States of America",
           "marker": {
            "color": "#2CA02C",
            "pattern": {
             "shape": ""
            }
           },
           "name": "United States of America",
           "offsetgroup": "United States of America",
           "orientation": "v",
           "showlegend": true,
           "textposition": "auto",
           "type": "bar",
           "x": [
            "United States of America"
           ],
           "xaxis": "x",
           "y": [
            34905
           ],
           "yaxis": "y"
          }
         ],
         "name": "2022-05-30"
        },
        {
         "data": [
          {
           "alignmentgroup": "True",
           "hovertemplate": "country_name=%{x}<br>date=2022-06-06<br>value=%{y}<extra></extra>",
           "legendgroup": "Germany",
           "marker": {
            "color": "#1F77B4",
            "pattern": {
             "shape": ""
            }
           },
           "name": "Germany",
           "offsetgroup": "Germany",
           "orientation": "v",
           "showlegend": true,
           "textposition": "auto",
           "type": "bar",
           "x": [
            "Germany"
           ],
           "xaxis": "x",
           "y": [
            389
           ],
           "yaxis": "y"
          },
          {
           "alignmentgroup": "True",
           "hovertemplate": "country_name=%{x}<br>date=2022-06-06<br>value=%{y}<extra></extra>",
           "legendgroup": "Spain",
           "marker": {
            "color": "#FF7F0E",
            "pattern": {
             "shape": ""
            }
           },
           "name": "Spain",
           "offsetgroup": "Spain",
           "orientation": "v",
           "showlegend": true,
           "textposition": "auto",
           "type": "bar",
           "x": [
            "Spain"
           ],
           "xaxis": "x",
           "y": [
            5
           ],
           "yaxis": "y"
          },
          {
           "alignmentgroup": "True",
           "hovertemplate": "country_name=%{x}<br>date=2022-06-06<br>value=%{y}<extra></extra>",
           "legendgroup": "United States of America",
           "marker": {
            "color": "#2CA02C",
            "pattern": {
             "shape": ""
            }
           },
           "name": "United States of America",
           "offsetgroup": "United States of America",
           "orientation": "v",
           "showlegend": true,
           "textposition": "auto",
           "type": "bar",
           "x": [
            "United States of America"
           ],
           "xaxis": "x",
           "y": [
            34975
           ],
           "yaxis": "y"
          }
         ],
         "name": "2022-06-06"
        },
        {
         "data": [
          {
           "alignmentgroup": "True",
           "hovertemplate": "country_name=%{x}<br>date=2022-06-13<br>value=%{y}<extra></extra>",
           "legendgroup": "Germany",
           "marker": {
            "color": "#1F77B4",
            "pattern": {
             "shape": ""
            }
           },
           "name": "Germany",
           "offsetgroup": "Germany",
           "orientation": "v",
           "showlegend": true,
           "textposition": "auto",
           "type": "bar",
           "x": [
            "Germany"
           ],
           "xaxis": "x",
           "y": [
            389
           ],
           "yaxis": "y"
          },
          {
           "alignmentgroup": "True",
           "hovertemplate": "country_name=%{x}<br>date=2022-06-13<br>value=%{y}<extra></extra>",
           "legendgroup": "Spain",
           "marker": {
            "color": "#FF7F0E",
            "pattern": {
             "shape": ""
            }
           },
           "name": "Spain",
           "offsetgroup": "Spain",
           "orientation": "v",
           "showlegend": true,
           "textposition": "auto",
           "type": "bar",
           "x": [
            "Spain"
           ],
           "xaxis": "x",
           "y": [
            5
           ],
           "yaxis": "y"
          },
          {
           "alignmentgroup": "True",
           "hovertemplate": "country_name=%{x}<br>date=2022-06-13<br>value=%{y}<extra></extra>",
           "legendgroup": "United States of America",
           "marker": {
            "color": "#2CA02C",
            "pattern": {
             "shape": ""
            }
           },
           "name": "United States of America",
           "offsetgroup": "United States of America",
           "orientation": "v",
           "showlegend": true,
           "textposition": "auto",
           "type": "bar",
           "x": [
            "United States of America"
           ],
           "xaxis": "x",
           "y": [
            35051
           ],
           "yaxis": "y"
          }
         ],
         "name": "2022-06-13"
        },
        {
         "data": [
          {
           "alignmentgroup": "True",
           "hovertemplate": "country_name=%{x}<br>date=2022-06-20<br>value=%{y}<extra></extra>",
           "legendgroup": "Germany",
           "marker": {
            "color": "#1F77B4",
            "pattern": {
             "shape": ""
            }
           },
           "name": "Germany",
           "offsetgroup": "Germany",
           "orientation": "v",
           "showlegend": true,
           "textposition": "auto",
           "type": "bar",
           "x": [
            "Germany"
           ],
           "xaxis": "x",
           "y": [
            389
           ],
           "yaxis": "y"
          },
          {
           "alignmentgroup": "True",
           "hovertemplate": "country_name=%{x}<br>date=2022-06-20<br>value=%{y}<extra></extra>",
           "legendgroup": "Spain",
           "marker": {
            "color": "#FF7F0E",
            "pattern": {
             "shape": ""
            }
           },
           "name": "Spain",
           "offsetgroup": "Spain",
           "orientation": "v",
           "showlegend": true,
           "textposition": "auto",
           "type": "bar",
           "x": [
            "Spain"
           ],
           "xaxis": "x",
           "y": [
            5
           ],
           "yaxis": "y"
          },
          {
           "alignmentgroup": "True",
           "hovertemplate": "country_name=%{x}<br>date=2022-06-20<br>value=%{y}<extra></extra>",
           "legendgroup": "United States of America",
           "marker": {
            "color": "#2CA02C",
            "pattern": {
             "shape": ""
            }
           },
           "name": "United States of America",
           "offsetgroup": "United States of America",
           "orientation": "v",
           "showlegend": true,
           "textposition": "auto",
           "type": "bar",
           "x": [
            "United States of America"
           ],
           "xaxis": "x",
           "y": [
            35097
           ],
           "yaxis": "y"
          }
         ],
         "name": "2022-06-20"
        },
        {
         "data": [
          {
           "alignmentgroup": "True",
           "hovertemplate": "country_name=%{x}<br>date=2022-06-27<br>value=%{y}<extra></extra>",
           "legendgroup": "Germany",
           "marker": {
            "color": "#1F77B4",
            "pattern": {
             "shape": ""
            }
           },
           "name": "Germany",
           "offsetgroup": "Germany",
           "orientation": "v",
           "showlegend": true,
           "textposition": "auto",
           "type": "bar",
           "x": [
            "Germany"
           ],
           "xaxis": "x",
           "y": [
            389
           ],
           "yaxis": "y"
          },
          {
           "alignmentgroup": "True",
           "hovertemplate": "country_name=%{x}<br>date=2022-06-27<br>value=%{y}<extra></extra>",
           "legendgroup": "Spain",
           "marker": {
            "color": "#FF7F0E",
            "pattern": {
             "shape": ""
            }
           },
           "name": "Spain",
           "offsetgroup": "Spain",
           "orientation": "v",
           "showlegend": true,
           "textposition": "auto",
           "type": "bar",
           "x": [
            "Spain"
           ],
           "xaxis": "x",
           "y": [
            5
           ],
           "yaxis": "y"
          },
          {
           "alignmentgroup": "True",
           "hovertemplate": "country_name=%{x}<br>date=2022-06-27<br>value=%{y}<extra></extra>",
           "legendgroup": "United States of America",
           "marker": {
            "color": "#2CA02C",
            "pattern": {
             "shape": ""
            }
           },
           "name": "United States of America",
           "offsetgroup": "United States of America",
           "orientation": "v",
           "showlegend": true,
           "textposition": "auto",
           "type": "bar",
           "x": [
            "United States of America"
           ],
           "xaxis": "x",
           "y": [
            35169
           ],
           "yaxis": "y"
          }
         ],
         "name": "2022-06-27"
        },
        {
         "data": [
          {
           "alignmentgroup": "True",
           "hovertemplate": "country_name=%{x}<br>date=2022-07-04<br>value=%{y}<extra></extra>",
           "legendgroup": "Germany",
           "marker": {
            "color": "#1F77B4",
            "pattern": {
             "shape": ""
            }
           },
           "name": "Germany",
           "offsetgroup": "Germany",
           "orientation": "v",
           "showlegend": true,
           "textposition": "auto",
           "type": "bar",
           "x": [
            "Germany"
           ],
           "xaxis": "x",
           "y": [
            389
           ],
           "yaxis": "y"
          },
          {
           "alignmentgroup": "True",
           "hovertemplate": "country_name=%{x}<br>date=2022-07-04<br>value=%{y}<extra></extra>",
           "legendgroup": "Spain",
           "marker": {
            "color": "#FF7F0E",
            "pattern": {
             "shape": ""
            }
           },
           "name": "Spain",
           "offsetgroup": "Spain",
           "orientation": "v",
           "showlegend": true,
           "textposition": "auto",
           "type": "bar",
           "x": [
            "Spain"
           ],
           "xaxis": "x",
           "y": [
            5
           ],
           "yaxis": "y"
          },
          {
           "alignmentgroup": "True",
           "hovertemplate": "country_name=%{x}<br>date=2022-07-04<br>value=%{y}<extra></extra>",
           "legendgroup": "United States of America",
           "marker": {
            "color": "#2CA02C",
            "pattern": {
             "shape": ""
            }
           },
           "name": "United States of America",
           "offsetgroup": "United States of America",
           "orientation": "v",
           "showlegend": true,
           "textposition": "auto",
           "type": "bar",
           "x": [
            "United States of America"
           ],
           "xaxis": "x",
           "y": [
            35237
           ],
           "yaxis": "y"
          }
         ],
         "name": "2022-07-04"
        },
        {
         "data": [
          {
           "alignmentgroup": "True",
           "hovertemplate": "country_name=%{x}<br>date=2022-07-11<br>value=%{y}<extra></extra>",
           "legendgroup": "Germany",
           "marker": {
            "color": "#1F77B4",
            "pattern": {
             "shape": ""
            }
           },
           "name": "Germany",
           "offsetgroup": "Germany",
           "orientation": "v",
           "showlegend": true,
           "textposition": "auto",
           "type": "bar",
           "x": [
            "Germany"
           ],
           "xaxis": "x",
           "y": [
            389
           ],
           "yaxis": "y"
          },
          {
           "alignmentgroup": "True",
           "hovertemplate": "country_name=%{x}<br>date=2022-07-11<br>value=%{y}<extra></extra>",
           "legendgroup": "Spain",
           "marker": {
            "color": "#FF7F0E",
            "pattern": {
             "shape": ""
            }
           },
           "name": "Spain",
           "offsetgroup": "Spain",
           "orientation": "v",
           "showlegend": true,
           "textposition": "auto",
           "type": "bar",
           "x": [
            "Spain"
           ],
           "xaxis": "x",
           "y": [
            5
           ],
           "yaxis": "y"
          },
          {
           "alignmentgroup": "True",
           "hovertemplate": "country_name=%{x}<br>date=2022-07-11<br>value=%{y}<extra></extra>",
           "legendgroup": "United States of America",
           "marker": {
            "color": "#2CA02C",
            "pattern": {
             "shape": ""
            }
           },
           "name": "United States of America",
           "offsetgroup": "United States of America",
           "orientation": "v",
           "showlegend": true,
           "textposition": "auto",
           "type": "bar",
           "x": [
            "United States of America"
           ],
           "xaxis": "x",
           "y": [
            35289
           ],
           "yaxis": "y"
          }
         ],
         "name": "2022-07-11"
        },
        {
         "data": [
          {
           "alignmentgroup": "True",
           "hovertemplate": "country_name=%{x}<br>date=2022-07-18<br>value=%{y}<extra></extra>",
           "legendgroup": "Germany",
           "marker": {
            "color": "#1F77B4",
            "pattern": {
             "shape": ""
            }
           },
           "name": "Germany",
           "offsetgroup": "Germany",
           "orientation": "v",
           "showlegend": true,
           "textposition": "auto",
           "type": "bar",
           "x": [
            "Germany"
           ],
           "xaxis": "x",
           "y": [
            389
           ],
           "yaxis": "y"
          },
          {
           "alignmentgroup": "True",
           "hovertemplate": "country_name=%{x}<br>date=2022-07-18<br>value=%{y}<extra></extra>",
           "legendgroup": "Spain",
           "marker": {
            "color": "#FF7F0E",
            "pattern": {
             "shape": ""
            }
           },
           "name": "Spain",
           "offsetgroup": "Spain",
           "orientation": "v",
           "showlegend": true,
           "textposition": "auto",
           "type": "bar",
           "x": [
            "Spain"
           ],
           "xaxis": "x",
           "y": [
            5
           ],
           "yaxis": "y"
          },
          {
           "alignmentgroup": "True",
           "hovertemplate": "country_name=%{x}<br>date=2022-07-18<br>value=%{y}<extra></extra>",
           "legendgroup": "United States of America",
           "marker": {
            "color": "#2CA02C",
            "pattern": {
             "shape": ""
            }
           },
           "name": "United States of America",
           "offsetgroup": "United States of America",
           "orientation": "v",
           "showlegend": true,
           "textposition": "auto",
           "type": "bar",
           "x": [
            "United States of America"
           ],
           "xaxis": "x",
           "y": [
            35366
           ],
           "yaxis": "y"
          }
         ],
         "name": "2022-07-18"
        },
        {
         "data": [
          {
           "alignmentgroup": "True",
           "hovertemplate": "country_name=%{x}<br>date=2022-07-25<br>value=%{y}<extra></extra>",
           "legendgroup": "Germany",
           "marker": {
            "color": "#1F77B4",
            "pattern": {
             "shape": ""
            }
           },
           "name": "Germany",
           "offsetgroup": "Germany",
           "orientation": "v",
           "showlegend": true,
           "textposition": "auto",
           "type": "bar",
           "x": [
            "Germany"
           ],
           "xaxis": "x",
           "y": [
            389
           ],
           "yaxis": "y"
          },
          {
           "alignmentgroup": "True",
           "hovertemplate": "country_name=%{x}<br>date=2022-07-25<br>value=%{y}<extra></extra>",
           "legendgroup": "Spain",
           "marker": {
            "color": "#FF7F0E",
            "pattern": {
             "shape": ""
            }
           },
           "name": "Spain",
           "offsetgroup": "Spain",
           "orientation": "v",
           "showlegend": true,
           "textposition": "auto",
           "type": "bar",
           "x": [
            "Spain"
           ],
           "xaxis": "x",
           "y": [
            5
           ],
           "yaxis": "y"
          },
          {
           "alignmentgroup": "True",
           "hovertemplate": "country_name=%{x}<br>date=2022-07-25<br>value=%{y}<extra></extra>",
           "legendgroup": "United States of America",
           "marker": {
            "color": "#2CA02C",
            "pattern": {
             "shape": ""
            }
           },
           "name": "United States of America",
           "offsetgroup": "United States of America",
           "orientation": "v",
           "showlegend": true,
           "textposition": "auto",
           "type": "bar",
           "x": [
            "United States of America"
           ],
           "xaxis": "x",
           "y": [
            35475
           ],
           "yaxis": "y"
          }
         ],
         "name": "2022-07-25"
        },
        {
         "data": [
          {
           "alignmentgroup": "True",
           "hovertemplate": "country_name=%{x}<br>date=2022-08-01<br>value=%{y}<extra></extra>",
           "legendgroup": "Germany",
           "marker": {
            "color": "#1F77B4",
            "pattern": {
             "shape": ""
            }
           },
           "name": "Germany",
           "offsetgroup": "Germany",
           "orientation": "v",
           "showlegend": true,
           "textposition": "auto",
           "type": "bar",
           "x": [
            "Germany"
           ],
           "xaxis": "x",
           "y": [
            389
           ],
           "yaxis": "y"
          },
          {
           "alignmentgroup": "True",
           "hovertemplate": "country_name=%{x}<br>date=2022-08-01<br>value=%{y}<extra></extra>",
           "legendgroup": "Spain",
           "marker": {
            "color": "#FF7F0E",
            "pattern": {
             "shape": ""
            }
           },
           "name": "Spain",
           "offsetgroup": "Spain",
           "orientation": "v",
           "showlegend": true,
           "textposition": "auto",
           "type": "bar",
           "x": [
            "Spain"
           ],
           "xaxis": "x",
           "y": [
            5
           ],
           "yaxis": "y"
          },
          {
           "alignmentgroup": "True",
           "hovertemplate": "country_name=%{x}<br>date=2022-08-01<br>value=%{y}<extra></extra>",
           "legendgroup": "United States of America",
           "marker": {
            "color": "#2CA02C",
            "pattern": {
             "shape": ""
            }
           },
           "name": "United States of America",
           "offsetgroup": "United States of America",
           "orientation": "v",
           "showlegend": true,
           "textposition": "auto",
           "type": "bar",
           "x": [
            "United States of America"
           ],
           "xaxis": "x",
           "y": [
            35581
           ],
           "yaxis": "y"
          }
         ],
         "name": "2022-08-01"
        },
        {
         "data": [
          {
           "alignmentgroup": "True",
           "hovertemplate": "country_name=%{x}<br>date=2022-08-08<br>value=%{y}<extra></extra>",
           "legendgroup": "Germany",
           "marker": {
            "color": "#1F77B4",
            "pattern": {
             "shape": ""
            }
           },
           "name": "Germany",
           "offsetgroup": "Germany",
           "orientation": "v",
           "showlegend": true,
           "textposition": "auto",
           "type": "bar",
           "x": [
            "Germany"
           ],
           "xaxis": "x",
           "y": [
            389
           ],
           "yaxis": "y"
          },
          {
           "alignmentgroup": "True",
           "hovertemplate": "country_name=%{x}<br>date=2022-08-08<br>value=%{y}<extra></extra>",
           "legendgroup": "Spain",
           "marker": {
            "color": "#FF7F0E",
            "pattern": {
             "shape": ""
            }
           },
           "name": "Spain",
           "offsetgroup": "Spain",
           "orientation": "v",
           "showlegend": true,
           "textposition": "auto",
           "type": "bar",
           "x": [
            "Spain"
           ],
           "xaxis": "x",
           "y": [
            5
           ],
           "yaxis": "y"
          },
          {
           "alignmentgroup": "True",
           "hovertemplate": "country_name=%{x}<br>date=2022-08-08<br>value=%{y}<extra></extra>",
           "legendgroup": "United States of America",
           "marker": {
            "color": "#2CA02C",
            "pattern": {
             "shape": ""
            }
           },
           "name": "United States of America",
           "offsetgroup": "United States of America",
           "orientation": "v",
           "showlegend": true,
           "textposition": "auto",
           "type": "bar",
           "x": [
            "United States of America"
           ],
           "xaxis": "x",
           "y": [
            35683
           ],
           "yaxis": "y"
          }
         ],
         "name": "2022-08-08"
        },
        {
         "data": [
          {
           "alignmentgroup": "True",
           "hovertemplate": "country_name=%{x}<br>date=2022-08-15<br>value=%{y}<extra></extra>",
           "legendgroup": "Germany",
           "marker": {
            "color": "#1F77B4",
            "pattern": {
             "shape": ""
            }
           },
           "name": "Germany",
           "offsetgroup": "Germany",
           "orientation": "v",
           "showlegend": true,
           "textposition": "auto",
           "type": "bar",
           "x": [
            "Germany"
           ],
           "xaxis": "x",
           "y": [
            389
           ],
           "yaxis": "y"
          },
          {
           "alignmentgroup": "True",
           "hovertemplate": "country_name=%{x}<br>date=2022-08-15<br>value=%{y}<extra></extra>",
           "legendgroup": "Spain",
           "marker": {
            "color": "#FF7F0E",
            "pattern": {
             "shape": ""
            }
           },
           "name": "Spain",
           "offsetgroup": "Spain",
           "orientation": "v",
           "showlegend": true,
           "textposition": "auto",
           "type": "bar",
           "x": [
            "Spain"
           ],
           "xaxis": "x",
           "y": [
            5
           ],
           "yaxis": "y"
          },
          {
           "alignmentgroup": "True",
           "hovertemplate": "country_name=%{x}<br>date=2022-08-15<br>value=%{y}<extra></extra>",
           "legendgroup": "United States of America",
           "marker": {
            "color": "#2CA02C",
            "pattern": {
             "shape": ""
            }
           },
           "name": "United States of America",
           "offsetgroup": "United States of America",
           "orientation": "v",
           "showlegend": true,
           "textposition": "auto",
           "type": "bar",
           "x": [
            "United States of America"
           ],
           "xaxis": "x",
           "y": [
            35764
           ],
           "yaxis": "y"
          }
         ],
         "name": "2022-08-15"
        },
        {
         "data": [
          {
           "alignmentgroup": "True",
           "hovertemplate": "country_name=%{x}<br>date=2022-08-22<br>value=%{y}<extra></extra>",
           "legendgroup": "Germany",
           "marker": {
            "color": "#1F77B4",
            "pattern": {
             "shape": ""
            }
           },
           "name": "Germany",
           "offsetgroup": "Germany",
           "orientation": "v",
           "showlegend": true,
           "textposition": "auto",
           "type": "bar",
           "x": [
            "Germany"
           ],
           "xaxis": "x",
           "y": [
            389
           ],
           "yaxis": "y"
          },
          {
           "alignmentgroup": "True",
           "hovertemplate": "country_name=%{x}<br>date=2022-08-22<br>value=%{y}<extra></extra>",
           "legendgroup": "Spain",
           "marker": {
            "color": "#FF7F0E",
            "pattern": {
             "shape": ""
            }
           },
           "name": "Spain",
           "offsetgroup": "Spain",
           "orientation": "v",
           "showlegend": true,
           "textposition": "auto",
           "type": "bar",
           "x": [
            "Spain"
           ],
           "xaxis": "x",
           "y": [
            5
           ],
           "yaxis": "y"
          },
          {
           "alignmentgroup": "True",
           "hovertemplate": "country_name=%{x}<br>date=2022-08-22<br>value=%{y}<extra></extra>",
           "legendgroup": "United States of America",
           "marker": {
            "color": "#2CA02C",
            "pattern": {
             "shape": ""
            }
           },
           "name": "United States of America",
           "offsetgroup": "United States of America",
           "orientation": "v",
           "showlegend": true,
           "textposition": "auto",
           "type": "bar",
           "x": [
            "United States of America"
           ],
           "xaxis": "x",
           "y": [
            41437
           ],
           "yaxis": "y"
          }
         ],
         "name": "2022-08-22"
        }
       ],
       "layout": {
        "barmode": "relative",
        "legend": {
         "title": {
          "text": "country_name"
         },
         "tracegroupgap": 0
        },
        "margin": {
         "t": 60
        },
        "sliders": [
         {
          "active": 0,
          "currentvalue": {
           "prefix": "date="
          },
          "len": 0.9,
          "pad": {
           "b": 10,
           "t": 60
          },
          "steps": [
           {
            "args": [
             [
              "2020-01-20"
             ],
             {
              "frame": {
               "duration": 0,
               "redraw": true
              },
              "fromcurrent": true,
              "mode": "immediate",
              "transition": {
               "duration": 0,
               "easing": "linear"
              }
             }
            ],
            "label": "2020-01-20",
            "method": "animate"
           },
           {
            "args": [
             [
              "2020-01-27"
             ],
             {
              "frame": {
               "duration": 0,
               "redraw": true
              },
              "fromcurrent": true,
              "mode": "immediate",
              "transition": {
               "duration": 0,
               "easing": "linear"
              }
             }
            ],
            "label": "2020-01-27",
            "method": "animate"
           },
           {
            "args": [
             [
              "2020-02-03"
             ],
             {
              "frame": {
               "duration": 0,
               "redraw": true
              },
              "fromcurrent": true,
              "mode": "immediate",
              "transition": {
               "duration": 0,
               "easing": "linear"
              }
             }
            ],
            "label": "2020-02-03",
            "method": "animate"
           },
           {
            "args": [
             [
              "2020-02-10"
             ],
             {
              "frame": {
               "duration": 0,
               "redraw": true
              },
              "fromcurrent": true,
              "mode": "immediate",
              "transition": {
               "duration": 0,
               "easing": "linear"
              }
             }
            ],
            "label": "2020-02-10",
            "method": "animate"
           },
           {
            "args": [
             [
              "2020-02-17"
             ],
             {
              "frame": {
               "duration": 0,
               "redraw": true
              },
              "fromcurrent": true,
              "mode": "immediate",
              "transition": {
               "duration": 0,
               "easing": "linear"
              }
             }
            ],
            "label": "2020-02-17",
            "method": "animate"
           },
           {
            "args": [
             [
              "2020-02-24"
             ],
             {
              "frame": {
               "duration": 0,
               "redraw": true
              },
              "fromcurrent": true,
              "mode": "immediate",
              "transition": {
               "duration": 0,
               "easing": "linear"
              }
             }
            ],
            "label": "2020-02-24",
            "method": "animate"
           },
           {
            "args": [
             [
              "2020-03-02"
             ],
             {
              "frame": {
               "duration": 0,
               "redraw": true
              },
              "fromcurrent": true,
              "mode": "immediate",
              "transition": {
               "duration": 0,
               "easing": "linear"
              }
             }
            ],
            "label": "2020-03-02",
            "method": "animate"
           },
           {
            "args": [
             [
              "2020-03-09"
             ],
             {
              "frame": {
               "duration": 0,
               "redraw": true
              },
              "fromcurrent": true,
              "mode": "immediate",
              "transition": {
               "duration": 0,
               "easing": "linear"
              }
             }
            ],
            "label": "2020-03-09",
            "method": "animate"
           },
           {
            "args": [
             [
              "2020-03-16"
             ],
             {
              "frame": {
               "duration": 0,
               "redraw": true
              },
              "fromcurrent": true,
              "mode": "immediate",
              "transition": {
               "duration": 0,
               "easing": "linear"
              }
             }
            ],
            "label": "2020-03-16",
            "method": "animate"
           },
           {
            "args": [
             [
              "2020-03-23"
             ],
             {
              "frame": {
               "duration": 0,
               "redraw": true
              },
              "fromcurrent": true,
              "mode": "immediate",
              "transition": {
               "duration": 0,
               "easing": "linear"
              }
             }
            ],
            "label": "2020-03-23",
            "method": "animate"
           },
           {
            "args": [
             [
              "2020-03-30"
             ],
             {
              "frame": {
               "duration": 0,
               "redraw": true
              },
              "fromcurrent": true,
              "mode": "immediate",
              "transition": {
               "duration": 0,
               "easing": "linear"
              }
             }
            ],
            "label": "2020-03-30",
            "method": "animate"
           },
           {
            "args": [
             [
              "2020-04-06"
             ],
             {
              "frame": {
               "duration": 0,
               "redraw": true
              },
              "fromcurrent": true,
              "mode": "immediate",
              "transition": {
               "duration": 0,
               "easing": "linear"
              }
             }
            ],
            "label": "2020-04-06",
            "method": "animate"
           },
           {
            "args": [
             [
              "2020-04-13"
             ],
             {
              "frame": {
               "duration": 0,
               "redraw": true
              },
              "fromcurrent": true,
              "mode": "immediate",
              "transition": {
               "duration": 0,
               "easing": "linear"
              }
             }
            ],
            "label": "2020-04-13",
            "method": "animate"
           },
           {
            "args": [
             [
              "2020-04-20"
             ],
             {
              "frame": {
               "duration": 0,
               "redraw": true
              },
              "fromcurrent": true,
              "mode": "immediate",
              "transition": {
               "duration": 0,
               "easing": "linear"
              }
             }
            ],
            "label": "2020-04-20",
            "method": "animate"
           },
           {
            "args": [
             [
              "2020-04-27"
             ],
             {
              "frame": {
               "duration": 0,
               "redraw": true
              },
              "fromcurrent": true,
              "mode": "immediate",
              "transition": {
               "duration": 0,
               "easing": "linear"
              }
             }
            ],
            "label": "2020-04-27",
            "method": "animate"
           },
           {
            "args": [
             [
              "2020-05-04"
             ],
             {
              "frame": {
               "duration": 0,
               "redraw": true
              },
              "fromcurrent": true,
              "mode": "immediate",
              "transition": {
               "duration": 0,
               "easing": "linear"
              }
             }
            ],
            "label": "2020-05-04",
            "method": "animate"
           },
           {
            "args": [
             [
              "2020-05-11"
             ],
             {
              "frame": {
               "duration": 0,
               "redraw": true
              },
              "fromcurrent": true,
              "mode": "immediate",
              "transition": {
               "duration": 0,
               "easing": "linear"
              }
             }
            ],
            "label": "2020-05-11",
            "method": "animate"
           },
           {
            "args": [
             [
              "2020-05-18"
             ],
             {
              "frame": {
               "duration": 0,
               "redraw": true
              },
              "fromcurrent": true,
              "mode": "immediate",
              "transition": {
               "duration": 0,
               "easing": "linear"
              }
             }
            ],
            "label": "2020-05-18",
            "method": "animate"
           },
           {
            "args": [
             [
              "2020-05-25"
             ],
             {
              "frame": {
               "duration": 0,
               "redraw": true
              },
              "fromcurrent": true,
              "mode": "immediate",
              "transition": {
               "duration": 0,
               "easing": "linear"
              }
             }
            ],
            "label": "2020-05-25",
            "method": "animate"
           },
           {
            "args": [
             [
              "2020-06-01"
             ],
             {
              "frame": {
               "duration": 0,
               "redraw": true
              },
              "fromcurrent": true,
              "mode": "immediate",
              "transition": {
               "duration": 0,
               "easing": "linear"
              }
             }
            ],
            "label": "2020-06-01",
            "method": "animate"
           },
           {
            "args": [
             [
              "2020-06-08"
             ],
             {
              "frame": {
               "duration": 0,
               "redraw": true
              },
              "fromcurrent": true,
              "mode": "immediate",
              "transition": {
               "duration": 0,
               "easing": "linear"
              }
             }
            ],
            "label": "2020-06-08",
            "method": "animate"
           },
           {
            "args": [
             [
              "2020-06-15"
             ],
             {
              "frame": {
               "duration": 0,
               "redraw": true
              },
              "fromcurrent": true,
              "mode": "immediate",
              "transition": {
               "duration": 0,
               "easing": "linear"
              }
             }
            ],
            "label": "2020-06-15",
            "method": "animate"
           },
           {
            "args": [
             [
              "2020-06-22"
             ],
             {
              "frame": {
               "duration": 0,
               "redraw": true
              },
              "fromcurrent": true,
              "mode": "immediate",
              "transition": {
               "duration": 0,
               "easing": "linear"
              }
             }
            ],
            "label": "2020-06-22",
            "method": "animate"
           },
           {
            "args": [
             [
              "2020-06-29"
             ],
             {
              "frame": {
               "duration": 0,
               "redraw": true
              },
              "fromcurrent": true,
              "mode": "immediate",
              "transition": {
               "duration": 0,
               "easing": "linear"
              }
             }
            ],
            "label": "2020-06-29",
            "method": "animate"
           },
           {
            "args": [
             [
              "2020-07-06"
             ],
             {
              "frame": {
               "duration": 0,
               "redraw": true
              },
              "fromcurrent": true,
              "mode": "immediate",
              "transition": {
               "duration": 0,
               "easing": "linear"
              }
             }
            ],
            "label": "2020-07-06",
            "method": "animate"
           },
           {
            "args": [
             [
              "2020-07-13"
             ],
             {
              "frame": {
               "duration": 0,
               "redraw": true
              },
              "fromcurrent": true,
              "mode": "immediate",
              "transition": {
               "duration": 0,
               "easing": "linear"
              }
             }
            ],
            "label": "2020-07-13",
            "method": "animate"
           },
           {
            "args": [
             [
              "2020-07-20"
             ],
             {
              "frame": {
               "duration": 0,
               "redraw": true
              },
              "fromcurrent": true,
              "mode": "immediate",
              "transition": {
               "duration": 0,
               "easing": "linear"
              }
             }
            ],
            "label": "2020-07-20",
            "method": "animate"
           },
           {
            "args": [
             [
              "2020-07-27"
             ],
             {
              "frame": {
               "duration": 0,
               "redraw": true
              },
              "fromcurrent": true,
              "mode": "immediate",
              "transition": {
               "duration": 0,
               "easing": "linear"
              }
             }
            ],
            "label": "2020-07-27",
            "method": "animate"
           },
           {
            "args": [
             [
              "2020-08-03"
             ],
             {
              "frame": {
               "duration": 0,
               "redraw": true
              },
              "fromcurrent": true,
              "mode": "immediate",
              "transition": {
               "duration": 0,
               "easing": "linear"
              }
             }
            ],
            "label": "2020-08-03",
            "method": "animate"
           },
           {
            "args": [
             [
              "2020-08-10"
             ],
             {
              "frame": {
               "duration": 0,
               "redraw": true
              },
              "fromcurrent": true,
              "mode": "immediate",
              "transition": {
               "duration": 0,
               "easing": "linear"
              }
             }
            ],
            "label": "2020-08-10",
            "method": "animate"
           },
           {
            "args": [
             [
              "2020-08-17"
             ],
             {
              "frame": {
               "duration": 0,
               "redraw": true
              },
              "fromcurrent": true,
              "mode": "immediate",
              "transition": {
               "duration": 0,
               "easing": "linear"
              }
             }
            ],
            "label": "2020-08-17",
            "method": "animate"
           },
           {
            "args": [
             [
              "2020-08-24"
             ],
             {
              "frame": {
               "duration": 0,
               "redraw": true
              },
              "fromcurrent": true,
              "mode": "immediate",
              "transition": {
               "duration": 0,
               "easing": "linear"
              }
             }
            ],
            "label": "2020-08-24",
            "method": "animate"
           },
           {
            "args": [
             [
              "2020-08-31"
             ],
             {
              "frame": {
               "duration": 0,
               "redraw": true
              },
              "fromcurrent": true,
              "mode": "immediate",
              "transition": {
               "duration": 0,
               "easing": "linear"
              }
             }
            ],
            "label": "2020-08-31",
            "method": "animate"
           },
           {
            "args": [
             [
              "2020-09-07"
             ],
             {
              "frame": {
               "duration": 0,
               "redraw": true
              },
              "fromcurrent": true,
              "mode": "immediate",
              "transition": {
               "duration": 0,
               "easing": "linear"
              }
             }
            ],
            "label": "2020-09-07",
            "method": "animate"
           },
           {
            "args": [
             [
              "2020-09-14"
             ],
             {
              "frame": {
               "duration": 0,
               "redraw": true
              },
              "fromcurrent": true,
              "mode": "immediate",
              "transition": {
               "duration": 0,
               "easing": "linear"
              }
             }
            ],
            "label": "2020-09-14",
            "method": "animate"
           },
           {
            "args": [
             [
              "2020-09-21"
             ],
             {
              "frame": {
               "duration": 0,
               "redraw": true
              },
              "fromcurrent": true,
              "mode": "immediate",
              "transition": {
               "duration": 0,
               "easing": "linear"
              }
             }
            ],
            "label": "2020-09-21",
            "method": "animate"
           },
           {
            "args": [
             [
              "2020-09-28"
             ],
             {
              "frame": {
               "duration": 0,
               "redraw": true
              },
              "fromcurrent": true,
              "mode": "immediate",
              "transition": {
               "duration": 0,
               "easing": "linear"
              }
             }
            ],
            "label": "2020-09-28",
            "method": "animate"
           },
           {
            "args": [
             [
              "2020-10-05"
             ],
             {
              "frame": {
               "duration": 0,
               "redraw": true
              },
              "fromcurrent": true,
              "mode": "immediate",
              "transition": {
               "duration": 0,
               "easing": "linear"
              }
             }
            ],
            "label": "2020-10-05",
            "method": "animate"
           },
           {
            "args": [
             [
              "2020-10-12"
             ],
             {
              "frame": {
               "duration": 0,
               "redraw": true
              },
              "fromcurrent": true,
              "mode": "immediate",
              "transition": {
               "duration": 0,
               "easing": "linear"
              }
             }
            ],
            "label": "2020-10-12",
            "method": "animate"
           },
           {
            "args": [
             [
              "2020-10-19"
             ],
             {
              "frame": {
               "duration": 0,
               "redraw": true
              },
              "fromcurrent": true,
              "mode": "immediate",
              "transition": {
               "duration": 0,
               "easing": "linear"
              }
             }
            ],
            "label": "2020-10-19",
            "method": "animate"
           },
           {
            "args": [
             [
              "2020-10-26"
             ],
             {
              "frame": {
               "duration": 0,
               "redraw": true
              },
              "fromcurrent": true,
              "mode": "immediate",
              "transition": {
               "duration": 0,
               "easing": "linear"
              }
             }
            ],
            "label": "2020-10-26",
            "method": "animate"
           },
           {
            "args": [
             [
              "2020-11-02"
             ],
             {
              "frame": {
               "duration": 0,
               "redraw": true
              },
              "fromcurrent": true,
              "mode": "immediate",
              "transition": {
               "duration": 0,
               "easing": "linear"
              }
             }
            ],
            "label": "2020-11-02",
            "method": "animate"
           },
           {
            "args": [
             [
              "2020-11-09"
             ],
             {
              "frame": {
               "duration": 0,
               "redraw": true
              },
              "fromcurrent": true,
              "mode": "immediate",
              "transition": {
               "duration": 0,
               "easing": "linear"
              }
             }
            ],
            "label": "2020-11-09",
            "method": "animate"
           },
           {
            "args": [
             [
              "2020-11-16"
             ],
             {
              "frame": {
               "duration": 0,
               "redraw": true
              },
              "fromcurrent": true,
              "mode": "immediate",
              "transition": {
               "duration": 0,
               "easing": "linear"
              }
             }
            ],
            "label": "2020-11-16",
            "method": "animate"
           },
           {
            "args": [
             [
              "2020-11-23"
             ],
             {
              "frame": {
               "duration": 0,
               "redraw": true
              },
              "fromcurrent": true,
              "mode": "immediate",
              "transition": {
               "duration": 0,
               "easing": "linear"
              }
             }
            ],
            "label": "2020-11-23",
            "method": "animate"
           },
           {
            "args": [
             [
              "2020-11-30"
             ],
             {
              "frame": {
               "duration": 0,
               "redraw": true
              },
              "fromcurrent": true,
              "mode": "immediate",
              "transition": {
               "duration": 0,
               "easing": "linear"
              }
             }
            ],
            "label": "2020-11-30",
            "method": "animate"
           },
           {
            "args": [
             [
              "2020-12-07"
             ],
             {
              "frame": {
               "duration": 0,
               "redraw": true
              },
              "fromcurrent": true,
              "mode": "immediate",
              "transition": {
               "duration": 0,
               "easing": "linear"
              }
             }
            ],
            "label": "2020-12-07",
            "method": "animate"
           },
           {
            "args": [
             [
              "2020-12-14"
             ],
             {
              "frame": {
               "duration": 0,
               "redraw": true
              },
              "fromcurrent": true,
              "mode": "immediate",
              "transition": {
               "duration": 0,
               "easing": "linear"
              }
             }
            ],
            "label": "2020-12-14",
            "method": "animate"
           },
           {
            "args": [
             [
              "2020-12-21"
             ],
             {
              "frame": {
               "duration": 0,
               "redraw": true
              },
              "fromcurrent": true,
              "mode": "immediate",
              "transition": {
               "duration": 0,
               "easing": "linear"
              }
             }
            ],
            "label": "2020-12-21",
            "method": "animate"
           },
           {
            "args": [
             [
              "2020-12-28"
             ],
             {
              "frame": {
               "duration": 0,
               "redraw": true
              },
              "fromcurrent": true,
              "mode": "immediate",
              "transition": {
               "duration": 0,
               "easing": "linear"
              }
             }
            ],
            "label": "2020-12-28",
            "method": "animate"
           },
           {
            "args": [
             [
              "2021-01-04"
             ],
             {
              "frame": {
               "duration": 0,
               "redraw": true
              },
              "fromcurrent": true,
              "mode": "immediate",
              "transition": {
               "duration": 0,
               "easing": "linear"
              }
             }
            ],
            "label": "2021-01-04",
            "method": "animate"
           },
           {
            "args": [
             [
              "2021-01-11"
             ],
             {
              "frame": {
               "duration": 0,
               "redraw": true
              },
              "fromcurrent": true,
              "mode": "immediate",
              "transition": {
               "duration": 0,
               "easing": "linear"
              }
             }
            ],
            "label": "2021-01-11",
            "method": "animate"
           },
           {
            "args": [
             [
              "2021-01-18"
             ],
             {
              "frame": {
               "duration": 0,
               "redraw": true
              },
              "fromcurrent": true,
              "mode": "immediate",
              "transition": {
               "duration": 0,
               "easing": "linear"
              }
             }
            ],
            "label": "2021-01-18",
            "method": "animate"
           },
           {
            "args": [
             [
              "2021-01-25"
             ],
             {
              "frame": {
               "duration": 0,
               "redraw": true
              },
              "fromcurrent": true,
              "mode": "immediate",
              "transition": {
               "duration": 0,
               "easing": "linear"
              }
             }
            ],
            "label": "2021-01-25",
            "method": "animate"
           },
           {
            "args": [
             [
              "2021-02-01"
             ],
             {
              "frame": {
               "duration": 0,
               "redraw": true
              },
              "fromcurrent": true,
              "mode": "immediate",
              "transition": {
               "duration": 0,
               "easing": "linear"
              }
             }
            ],
            "label": "2021-02-01",
            "method": "animate"
           },
           {
            "args": [
             [
              "2021-02-08"
             ],
             {
              "frame": {
               "duration": 0,
               "redraw": true
              },
              "fromcurrent": true,
              "mode": "immediate",
              "transition": {
               "duration": 0,
               "easing": "linear"
              }
             }
            ],
            "label": "2021-02-08",
            "method": "animate"
           },
           {
            "args": [
             [
              "2021-02-15"
             ],
             {
              "frame": {
               "duration": 0,
               "redraw": true
              },
              "fromcurrent": true,
              "mode": "immediate",
              "transition": {
               "duration": 0,
               "easing": "linear"
              }
             }
            ],
            "label": "2021-02-15",
            "method": "animate"
           },
           {
            "args": [
             [
              "2021-02-22"
             ],
             {
              "frame": {
               "duration": 0,
               "redraw": true
              },
              "fromcurrent": true,
              "mode": "immediate",
              "transition": {
               "duration": 0,
               "easing": "linear"
              }
             }
            ],
            "label": "2021-02-22",
            "method": "animate"
           },
           {
            "args": [
             [
              "2021-03-01"
             ],
             {
              "frame": {
               "duration": 0,
               "redraw": true
              },
              "fromcurrent": true,
              "mode": "immediate",
              "transition": {
               "duration": 0,
               "easing": "linear"
              }
             }
            ],
            "label": "2021-03-01",
            "method": "animate"
           },
           {
            "args": [
             [
              "2021-03-08"
             ],
             {
              "frame": {
               "duration": 0,
               "redraw": true
              },
              "fromcurrent": true,
              "mode": "immediate",
              "transition": {
               "duration": 0,
               "easing": "linear"
              }
             }
            ],
            "label": "2021-03-08",
            "method": "animate"
           },
           {
            "args": [
             [
              "2021-03-15"
             ],
             {
              "frame": {
               "duration": 0,
               "redraw": true
              },
              "fromcurrent": true,
              "mode": "immediate",
              "transition": {
               "duration": 0,
               "easing": "linear"
              }
             }
            ],
            "label": "2021-03-15",
            "method": "animate"
           },
           {
            "args": [
             [
              "2021-03-22"
             ],
             {
              "frame": {
               "duration": 0,
               "redraw": true
              },
              "fromcurrent": true,
              "mode": "immediate",
              "transition": {
               "duration": 0,
               "easing": "linear"
              }
             }
            ],
            "label": "2021-03-22",
            "method": "animate"
           },
           {
            "args": [
             [
              "2021-03-29"
             ],
             {
              "frame": {
               "duration": 0,
               "redraw": true
              },
              "fromcurrent": true,
              "mode": "immediate",
              "transition": {
               "duration": 0,
               "easing": "linear"
              }
             }
            ],
            "label": "2021-03-29",
            "method": "animate"
           },
           {
            "args": [
             [
              "2021-04-05"
             ],
             {
              "frame": {
               "duration": 0,
               "redraw": true
              },
              "fromcurrent": true,
              "mode": "immediate",
              "transition": {
               "duration": 0,
               "easing": "linear"
              }
             }
            ],
            "label": "2021-04-05",
            "method": "animate"
           },
           {
            "args": [
             [
              "2021-04-12"
             ],
             {
              "frame": {
               "duration": 0,
               "redraw": true
              },
              "fromcurrent": true,
              "mode": "immediate",
              "transition": {
               "duration": 0,
               "easing": "linear"
              }
             }
            ],
            "label": "2021-04-12",
            "method": "animate"
           },
           {
            "args": [
             [
              "2021-04-19"
             ],
             {
              "frame": {
               "duration": 0,
               "redraw": true
              },
              "fromcurrent": true,
              "mode": "immediate",
              "transition": {
               "duration": 0,
               "easing": "linear"
              }
             }
            ],
            "label": "2021-04-19",
            "method": "animate"
           },
           {
            "args": [
             [
              "2021-04-26"
             ],
             {
              "frame": {
               "duration": 0,
               "redraw": true
              },
              "fromcurrent": true,
              "mode": "immediate",
              "transition": {
               "duration": 0,
               "easing": "linear"
              }
             }
            ],
            "label": "2021-04-26",
            "method": "animate"
           },
           {
            "args": [
             [
              "2021-05-03"
             ],
             {
              "frame": {
               "duration": 0,
               "redraw": true
              },
              "fromcurrent": true,
              "mode": "immediate",
              "transition": {
               "duration": 0,
               "easing": "linear"
              }
             }
            ],
            "label": "2021-05-03",
            "method": "animate"
           },
           {
            "args": [
             [
              "2021-05-10"
             ],
             {
              "frame": {
               "duration": 0,
               "redraw": true
              },
              "fromcurrent": true,
              "mode": "immediate",
              "transition": {
               "duration": 0,
               "easing": "linear"
              }
             }
            ],
            "label": "2021-05-10",
            "method": "animate"
           },
           {
            "args": [
             [
              "2021-05-17"
             ],
             {
              "frame": {
               "duration": 0,
               "redraw": true
              },
              "fromcurrent": true,
              "mode": "immediate",
              "transition": {
               "duration": 0,
               "easing": "linear"
              }
             }
            ],
            "label": "2021-05-17",
            "method": "animate"
           },
           {
            "args": [
             [
              "2021-05-24"
             ],
             {
              "frame": {
               "duration": 0,
               "redraw": true
              },
              "fromcurrent": true,
              "mode": "immediate",
              "transition": {
               "duration": 0,
               "easing": "linear"
              }
             }
            ],
            "label": "2021-05-24",
            "method": "animate"
           },
           {
            "args": [
             [
              "2021-05-31"
             ],
             {
              "frame": {
               "duration": 0,
               "redraw": true
              },
              "fromcurrent": true,
              "mode": "immediate",
              "transition": {
               "duration": 0,
               "easing": "linear"
              }
             }
            ],
            "label": "2021-05-31",
            "method": "animate"
           },
           {
            "args": [
             [
              "2021-06-07"
             ],
             {
              "frame": {
               "duration": 0,
               "redraw": true
              },
              "fromcurrent": true,
              "mode": "immediate",
              "transition": {
               "duration": 0,
               "easing": "linear"
              }
             }
            ],
            "label": "2021-06-07",
            "method": "animate"
           },
           {
            "args": [
             [
              "2021-06-14"
             ],
             {
              "frame": {
               "duration": 0,
               "redraw": true
              },
              "fromcurrent": true,
              "mode": "immediate",
              "transition": {
               "duration": 0,
               "easing": "linear"
              }
             }
            ],
            "label": "2021-06-14",
            "method": "animate"
           },
           {
            "args": [
             [
              "2021-06-21"
             ],
             {
              "frame": {
               "duration": 0,
               "redraw": true
              },
              "fromcurrent": true,
              "mode": "immediate",
              "transition": {
               "duration": 0,
               "easing": "linear"
              }
             }
            ],
            "label": "2021-06-21",
            "method": "animate"
           },
           {
            "args": [
             [
              "2021-06-28"
             ],
             {
              "frame": {
               "duration": 0,
               "redraw": true
              },
              "fromcurrent": true,
              "mode": "immediate",
              "transition": {
               "duration": 0,
               "easing": "linear"
              }
             }
            ],
            "label": "2021-06-28",
            "method": "animate"
           },
           {
            "args": [
             [
              "2021-07-05"
             ],
             {
              "frame": {
               "duration": 0,
               "redraw": true
              },
              "fromcurrent": true,
              "mode": "immediate",
              "transition": {
               "duration": 0,
               "easing": "linear"
              }
             }
            ],
            "label": "2021-07-05",
            "method": "animate"
           },
           {
            "args": [
             [
              "2021-07-12"
             ],
             {
              "frame": {
               "duration": 0,
               "redraw": true
              },
              "fromcurrent": true,
              "mode": "immediate",
              "transition": {
               "duration": 0,
               "easing": "linear"
              }
             }
            ],
            "label": "2021-07-12",
            "method": "animate"
           },
           {
            "args": [
             [
              "2021-07-19"
             ],
             {
              "frame": {
               "duration": 0,
               "redraw": true
              },
              "fromcurrent": true,
              "mode": "immediate",
              "transition": {
               "duration": 0,
               "easing": "linear"
              }
             }
            ],
            "label": "2021-07-19",
            "method": "animate"
           },
           {
            "args": [
             [
              "2021-07-26"
             ],
             {
              "frame": {
               "duration": 0,
               "redraw": true
              },
              "fromcurrent": true,
              "mode": "immediate",
              "transition": {
               "duration": 0,
               "easing": "linear"
              }
             }
            ],
            "label": "2021-07-26",
            "method": "animate"
           },
           {
            "args": [
             [
              "2021-08-02"
             ],
             {
              "frame": {
               "duration": 0,
               "redraw": true
              },
              "fromcurrent": true,
              "mode": "immediate",
              "transition": {
               "duration": 0,
               "easing": "linear"
              }
             }
            ],
            "label": "2021-08-02",
            "method": "animate"
           },
           {
            "args": [
             [
              "2021-08-09"
             ],
             {
              "frame": {
               "duration": 0,
               "redraw": true
              },
              "fromcurrent": true,
              "mode": "immediate",
              "transition": {
               "duration": 0,
               "easing": "linear"
              }
             }
            ],
            "label": "2021-08-09",
            "method": "animate"
           },
           {
            "args": [
             [
              "2021-08-16"
             ],
             {
              "frame": {
               "duration": 0,
               "redraw": true
              },
              "fromcurrent": true,
              "mode": "immediate",
              "transition": {
               "duration": 0,
               "easing": "linear"
              }
             }
            ],
            "label": "2021-08-16",
            "method": "animate"
           },
           {
            "args": [
             [
              "2021-08-23"
             ],
             {
              "frame": {
               "duration": 0,
               "redraw": true
              },
              "fromcurrent": true,
              "mode": "immediate",
              "transition": {
               "duration": 0,
               "easing": "linear"
              }
             }
            ],
            "label": "2021-08-23",
            "method": "animate"
           },
           {
            "args": [
             [
              "2021-08-30"
             ],
             {
              "frame": {
               "duration": 0,
               "redraw": true
              },
              "fromcurrent": true,
              "mode": "immediate",
              "transition": {
               "duration": 0,
               "easing": "linear"
              }
             }
            ],
            "label": "2021-08-30",
            "method": "animate"
           },
           {
            "args": [
             [
              "2021-09-06"
             ],
             {
              "frame": {
               "duration": 0,
               "redraw": true
              },
              "fromcurrent": true,
              "mode": "immediate",
              "transition": {
               "duration": 0,
               "easing": "linear"
              }
             }
            ],
            "label": "2021-09-06",
            "method": "animate"
           },
           {
            "args": [
             [
              "2021-09-13"
             ],
             {
              "frame": {
               "duration": 0,
               "redraw": true
              },
              "fromcurrent": true,
              "mode": "immediate",
              "transition": {
               "duration": 0,
               "easing": "linear"
              }
             }
            ],
            "label": "2021-09-13",
            "method": "animate"
           },
           {
            "args": [
             [
              "2021-09-20"
             ],
             {
              "frame": {
               "duration": 0,
               "redraw": true
              },
              "fromcurrent": true,
              "mode": "immediate",
              "transition": {
               "duration": 0,
               "easing": "linear"
              }
             }
            ],
            "label": "2021-09-20",
            "method": "animate"
           },
           {
            "args": [
             [
              "2021-09-27"
             ],
             {
              "frame": {
               "duration": 0,
               "redraw": true
              },
              "fromcurrent": true,
              "mode": "immediate",
              "transition": {
               "duration": 0,
               "easing": "linear"
              }
             }
            ],
            "label": "2021-09-27",
            "method": "animate"
           },
           {
            "args": [
             [
              "2021-10-04"
             ],
             {
              "frame": {
               "duration": 0,
               "redraw": true
              },
              "fromcurrent": true,
              "mode": "immediate",
              "transition": {
               "duration": 0,
               "easing": "linear"
              }
             }
            ],
            "label": "2021-10-04",
            "method": "animate"
           },
           {
            "args": [
             [
              "2021-10-11"
             ],
             {
              "frame": {
               "duration": 0,
               "redraw": true
              },
              "fromcurrent": true,
              "mode": "immediate",
              "transition": {
               "duration": 0,
               "easing": "linear"
              }
             }
            ],
            "label": "2021-10-11",
            "method": "animate"
           },
           {
            "args": [
             [
              "2021-10-18"
             ],
             {
              "frame": {
               "duration": 0,
               "redraw": true
              },
              "fromcurrent": true,
              "mode": "immediate",
              "transition": {
               "duration": 0,
               "easing": "linear"
              }
             }
            ],
            "label": "2021-10-18",
            "method": "animate"
           },
           {
            "args": [
             [
              "2021-10-25"
             ],
             {
              "frame": {
               "duration": 0,
               "redraw": true
              },
              "fromcurrent": true,
              "mode": "immediate",
              "transition": {
               "duration": 0,
               "easing": "linear"
              }
             }
            ],
            "label": "2021-10-25",
            "method": "animate"
           },
           {
            "args": [
             [
              "2021-11-01"
             ],
             {
              "frame": {
               "duration": 0,
               "redraw": true
              },
              "fromcurrent": true,
              "mode": "immediate",
              "transition": {
               "duration": 0,
               "easing": "linear"
              }
             }
            ],
            "label": "2021-11-01",
            "method": "animate"
           },
           {
            "args": [
             [
              "2021-11-08"
             ],
             {
              "frame": {
               "duration": 0,
               "redraw": true
              },
              "fromcurrent": true,
              "mode": "immediate",
              "transition": {
               "duration": 0,
               "easing": "linear"
              }
             }
            ],
            "label": "2021-11-08",
            "method": "animate"
           },
           {
            "args": [
             [
              "2021-11-15"
             ],
             {
              "frame": {
               "duration": 0,
               "redraw": true
              },
              "fromcurrent": true,
              "mode": "immediate",
              "transition": {
               "duration": 0,
               "easing": "linear"
              }
             }
            ],
            "label": "2021-11-15",
            "method": "animate"
           },
           {
            "args": [
             [
              "2021-11-22"
             ],
             {
              "frame": {
               "duration": 0,
               "redraw": true
              },
              "fromcurrent": true,
              "mode": "immediate",
              "transition": {
               "duration": 0,
               "easing": "linear"
              }
             }
            ],
            "label": "2021-11-22",
            "method": "animate"
           },
           {
            "args": [
             [
              "2021-11-29"
             ],
             {
              "frame": {
               "duration": 0,
               "redraw": true
              },
              "fromcurrent": true,
              "mode": "immediate",
              "transition": {
               "duration": 0,
               "easing": "linear"
              }
             }
            ],
            "label": "2021-11-29",
            "method": "animate"
           },
           {
            "args": [
             [
              "2021-12-06"
             ],
             {
              "frame": {
               "duration": 0,
               "redraw": true
              },
              "fromcurrent": true,
              "mode": "immediate",
              "transition": {
               "duration": 0,
               "easing": "linear"
              }
             }
            ],
            "label": "2021-12-06",
            "method": "animate"
           },
           {
            "args": [
             [
              "2021-12-13"
             ],
             {
              "frame": {
               "duration": 0,
               "redraw": true
              },
              "fromcurrent": true,
              "mode": "immediate",
              "transition": {
               "duration": 0,
               "easing": "linear"
              }
             }
            ],
            "label": "2021-12-13",
            "method": "animate"
           },
           {
            "args": [
             [
              "2021-12-20"
             ],
             {
              "frame": {
               "duration": 0,
               "redraw": true
              },
              "fromcurrent": true,
              "mode": "immediate",
              "transition": {
               "duration": 0,
               "easing": "linear"
              }
             }
            ],
            "label": "2021-12-20",
            "method": "animate"
           },
           {
            "args": [
             [
              "2021-12-27"
             ],
             {
              "frame": {
               "duration": 0,
               "redraw": true
              },
              "fromcurrent": true,
              "mode": "immediate",
              "transition": {
               "duration": 0,
               "easing": "linear"
              }
             }
            ],
            "label": "2021-12-27",
            "method": "animate"
           },
           {
            "args": [
             [
              "2022-01-03"
             ],
             {
              "frame": {
               "duration": 0,
               "redraw": true
              },
              "fromcurrent": true,
              "mode": "immediate",
              "transition": {
               "duration": 0,
               "easing": "linear"
              }
             }
            ],
            "label": "2022-01-03",
            "method": "animate"
           },
           {
            "args": [
             [
              "2022-01-10"
             ],
             {
              "frame": {
               "duration": 0,
               "redraw": true
              },
              "fromcurrent": true,
              "mode": "immediate",
              "transition": {
               "duration": 0,
               "easing": "linear"
              }
             }
            ],
            "label": "2022-01-10",
            "method": "animate"
           },
           {
            "args": [
             [
              "2022-01-17"
             ],
             {
              "frame": {
               "duration": 0,
               "redraw": true
              },
              "fromcurrent": true,
              "mode": "immediate",
              "transition": {
               "duration": 0,
               "easing": "linear"
              }
             }
            ],
            "label": "2022-01-17",
            "method": "animate"
           },
           {
            "args": [
             [
              "2022-01-24"
             ],
             {
              "frame": {
               "duration": 0,
               "redraw": true
              },
              "fromcurrent": true,
              "mode": "immediate",
              "transition": {
               "duration": 0,
               "easing": "linear"
              }
             }
            ],
            "label": "2022-01-24",
            "method": "animate"
           },
           {
            "args": [
             [
              "2022-01-31"
             ],
             {
              "frame": {
               "duration": 0,
               "redraw": true
              },
              "fromcurrent": true,
              "mode": "immediate",
              "transition": {
               "duration": 0,
               "easing": "linear"
              }
             }
            ],
            "label": "2022-01-31",
            "method": "animate"
           },
           {
            "args": [
             [
              "2022-02-07"
             ],
             {
              "frame": {
               "duration": 0,
               "redraw": true
              },
              "fromcurrent": true,
              "mode": "immediate",
              "transition": {
               "duration": 0,
               "easing": "linear"
              }
             }
            ],
            "label": "2022-02-07",
            "method": "animate"
           },
           {
            "args": [
             [
              "2022-02-14"
             ],
             {
              "frame": {
               "duration": 0,
               "redraw": true
              },
              "fromcurrent": true,
              "mode": "immediate",
              "transition": {
               "duration": 0,
               "easing": "linear"
              }
             }
            ],
            "label": "2022-02-14",
            "method": "animate"
           },
           {
            "args": [
             [
              "2022-02-21"
             ],
             {
              "frame": {
               "duration": 0,
               "redraw": true
              },
              "fromcurrent": true,
              "mode": "immediate",
              "transition": {
               "duration": 0,
               "easing": "linear"
              }
             }
            ],
            "label": "2022-02-21",
            "method": "animate"
           },
           {
            "args": [
             [
              "2022-02-28"
             ],
             {
              "frame": {
               "duration": 0,
               "redraw": true
              },
              "fromcurrent": true,
              "mode": "immediate",
              "transition": {
               "duration": 0,
               "easing": "linear"
              }
             }
            ],
            "label": "2022-02-28",
            "method": "animate"
           },
           {
            "args": [
             [
              "2022-03-07"
             ],
             {
              "frame": {
               "duration": 0,
               "redraw": true
              },
              "fromcurrent": true,
              "mode": "immediate",
              "transition": {
               "duration": 0,
               "easing": "linear"
              }
             }
            ],
            "label": "2022-03-07",
            "method": "animate"
           },
           {
            "args": [
             [
              "2022-03-14"
             ],
             {
              "frame": {
               "duration": 0,
               "redraw": true
              },
              "fromcurrent": true,
              "mode": "immediate",
              "transition": {
               "duration": 0,
               "easing": "linear"
              }
             }
            ],
            "label": "2022-03-14",
            "method": "animate"
           },
           {
            "args": [
             [
              "2022-03-21"
             ],
             {
              "frame": {
               "duration": 0,
               "redraw": true
              },
              "fromcurrent": true,
              "mode": "immediate",
              "transition": {
               "duration": 0,
               "easing": "linear"
              }
             }
            ],
            "label": "2022-03-21",
            "method": "animate"
           },
           {
            "args": [
             [
              "2022-03-28"
             ],
             {
              "frame": {
               "duration": 0,
               "redraw": true
              },
              "fromcurrent": true,
              "mode": "immediate",
              "transition": {
               "duration": 0,
               "easing": "linear"
              }
             }
            ],
            "label": "2022-03-28",
            "method": "animate"
           },
           {
            "args": [
             [
              "2022-04-04"
             ],
             {
              "frame": {
               "duration": 0,
               "redraw": true
              },
              "fromcurrent": true,
              "mode": "immediate",
              "transition": {
               "duration": 0,
               "easing": "linear"
              }
             }
            ],
            "label": "2022-04-04",
            "method": "animate"
           },
           {
            "args": [
             [
              "2022-04-11"
             ],
             {
              "frame": {
               "duration": 0,
               "redraw": true
              },
              "fromcurrent": true,
              "mode": "immediate",
              "transition": {
               "duration": 0,
               "easing": "linear"
              }
             }
            ],
            "label": "2022-04-11",
            "method": "animate"
           },
           {
            "args": [
             [
              "2022-04-18"
             ],
             {
              "frame": {
               "duration": 0,
               "redraw": true
              },
              "fromcurrent": true,
              "mode": "immediate",
              "transition": {
               "duration": 0,
               "easing": "linear"
              }
             }
            ],
            "label": "2022-04-18",
            "method": "animate"
           },
           {
            "args": [
             [
              "2022-04-25"
             ],
             {
              "frame": {
               "duration": 0,
               "redraw": true
              },
              "fromcurrent": true,
              "mode": "immediate",
              "transition": {
               "duration": 0,
               "easing": "linear"
              }
             }
            ],
            "label": "2022-04-25",
            "method": "animate"
           },
           {
            "args": [
             [
              "2022-05-02"
             ],
             {
              "frame": {
               "duration": 0,
               "redraw": true
              },
              "fromcurrent": true,
              "mode": "immediate",
              "transition": {
               "duration": 0,
               "easing": "linear"
              }
             }
            ],
            "label": "2022-05-02",
            "method": "animate"
           },
           {
            "args": [
             [
              "2022-05-09"
             ],
             {
              "frame": {
               "duration": 0,
               "redraw": true
              },
              "fromcurrent": true,
              "mode": "immediate",
              "transition": {
               "duration": 0,
               "easing": "linear"
              }
             }
            ],
            "label": "2022-05-09",
            "method": "animate"
           },
           {
            "args": [
             [
              "2022-05-16"
             ],
             {
              "frame": {
               "duration": 0,
               "redraw": true
              },
              "fromcurrent": true,
              "mode": "immediate",
              "transition": {
               "duration": 0,
               "easing": "linear"
              }
             }
            ],
            "label": "2022-05-16",
            "method": "animate"
           },
           {
            "args": [
             [
              "2022-05-23"
             ],
             {
              "frame": {
               "duration": 0,
               "redraw": true
              },
              "fromcurrent": true,
              "mode": "immediate",
              "transition": {
               "duration": 0,
               "easing": "linear"
              }
             }
            ],
            "label": "2022-05-23",
            "method": "animate"
           },
           {
            "args": [
             [
              "2022-05-30"
             ],
             {
              "frame": {
               "duration": 0,
               "redraw": true
              },
              "fromcurrent": true,
              "mode": "immediate",
              "transition": {
               "duration": 0,
               "easing": "linear"
              }
             }
            ],
            "label": "2022-05-30",
            "method": "animate"
           },
           {
            "args": [
             [
              "2022-06-06"
             ],
             {
              "frame": {
               "duration": 0,
               "redraw": true
              },
              "fromcurrent": true,
              "mode": "immediate",
              "transition": {
               "duration": 0,
               "easing": "linear"
              }
             }
            ],
            "label": "2022-06-06",
            "method": "animate"
           },
           {
            "args": [
             [
              "2022-06-13"
             ],
             {
              "frame": {
               "duration": 0,
               "redraw": true
              },
              "fromcurrent": true,
              "mode": "immediate",
              "transition": {
               "duration": 0,
               "easing": "linear"
              }
             }
            ],
            "label": "2022-06-13",
            "method": "animate"
           },
           {
            "args": [
             [
              "2022-06-20"
             ],
             {
              "frame": {
               "duration": 0,
               "redraw": true
              },
              "fromcurrent": true,
              "mode": "immediate",
              "transition": {
               "duration": 0,
               "easing": "linear"
              }
             }
            ],
            "label": "2022-06-20",
            "method": "animate"
           },
           {
            "args": [
             [
              "2022-06-27"
             ],
             {
              "frame": {
               "duration": 0,
               "redraw": true
              },
              "fromcurrent": true,
              "mode": "immediate",
              "transition": {
               "duration": 0,
               "easing": "linear"
              }
             }
            ],
            "label": "2022-06-27",
            "method": "animate"
           },
           {
            "args": [
             [
              "2022-07-04"
             ],
             {
              "frame": {
               "duration": 0,
               "redraw": true
              },
              "fromcurrent": true,
              "mode": "immediate",
              "transition": {
               "duration": 0,
               "easing": "linear"
              }
             }
            ],
            "label": "2022-07-04",
            "method": "animate"
           },
           {
            "args": [
             [
              "2022-07-11"
             ],
             {
              "frame": {
               "duration": 0,
               "redraw": true
              },
              "fromcurrent": true,
              "mode": "immediate",
              "transition": {
               "duration": 0,
               "easing": "linear"
              }
             }
            ],
            "label": "2022-07-11",
            "method": "animate"
           },
           {
            "args": [
             [
              "2022-07-18"
             ],
             {
              "frame": {
               "duration": 0,
               "redraw": true
              },
              "fromcurrent": true,
              "mode": "immediate",
              "transition": {
               "duration": 0,
               "easing": "linear"
              }
             }
            ],
            "label": "2022-07-18",
            "method": "animate"
           },
           {
            "args": [
             [
              "2022-07-25"
             ],
             {
              "frame": {
               "duration": 0,
               "redraw": true
              },
              "fromcurrent": true,
              "mode": "immediate",
              "transition": {
               "duration": 0,
               "easing": "linear"
              }
             }
            ],
            "label": "2022-07-25",
            "method": "animate"
           },
           {
            "args": [
             [
              "2022-08-01"
             ],
             {
              "frame": {
               "duration": 0,
               "redraw": true
              },
              "fromcurrent": true,
              "mode": "immediate",
              "transition": {
               "duration": 0,
               "easing": "linear"
              }
             }
            ],
            "label": "2022-08-01",
            "method": "animate"
           },
           {
            "args": [
             [
              "2022-08-08"
             ],
             {
              "frame": {
               "duration": 0,
               "redraw": true
              },
              "fromcurrent": true,
              "mode": "immediate",
              "transition": {
               "duration": 0,
               "easing": "linear"
              }
             }
            ],
            "label": "2022-08-08",
            "method": "animate"
           },
           {
            "args": [
             [
              "2022-08-15"
             ],
             {
              "frame": {
               "duration": 0,
               "redraw": true
              },
              "fromcurrent": true,
              "mode": "immediate",
              "transition": {
               "duration": 0,
               "easing": "linear"
              }
             }
            ],
            "label": "2022-08-15",
            "method": "animate"
           },
           {
            "args": [
             [
              "2022-08-22"
             ],
             {
              "frame": {
               "duration": 0,
               "redraw": true
              },
              "fromcurrent": true,
              "mode": "immediate",
              "transition": {
               "duration": 0,
               "easing": "linear"
              }
             }
            ],
            "label": "2022-08-22",
            "method": "animate"
           }
          ],
          "x": 0.1,
          "xanchor": "left",
          "y": 0,
          "yanchor": "top"
         }
        ],
        "template": {
         "data": {
          "bar": [
           {
            "error_x": {
             "color": "rgb(36,36,36)"
            },
            "error_y": {
             "color": "rgb(36,36,36)"
            },
            "marker": {
             "line": {
              "color": "white",
              "width": 0.5
             },
             "pattern": {
              "fillmode": "overlay",
              "size": 10,
              "solidity": 0.2
             }
            },
            "type": "bar"
           }
          ],
          "barpolar": [
           {
            "marker": {
             "line": {
              "color": "white",
              "width": 0.5
             },
             "pattern": {
              "fillmode": "overlay",
              "size": 10,
              "solidity": 0.2
             }
            },
            "type": "barpolar"
           }
          ],
          "carpet": [
           {
            "aaxis": {
             "endlinecolor": "rgb(36,36,36)",
             "gridcolor": "white",
             "linecolor": "white",
             "minorgridcolor": "white",
             "startlinecolor": "rgb(36,36,36)"
            },
            "baxis": {
             "endlinecolor": "rgb(36,36,36)",
             "gridcolor": "white",
             "linecolor": "white",
             "minorgridcolor": "white",
             "startlinecolor": "rgb(36,36,36)"
            },
            "type": "carpet"
           }
          ],
          "choropleth": [
           {
            "colorbar": {
             "outlinewidth": 1,
             "tickcolor": "rgb(36,36,36)",
             "ticks": "outside"
            },
            "type": "choropleth"
           }
          ],
          "contour": [
           {
            "colorbar": {
             "outlinewidth": 1,
             "tickcolor": "rgb(36,36,36)",
             "ticks": "outside"
            },
            "colorscale": [
             [
              0,
              "#440154"
             ],
             [
              0.1111111111111111,
              "#482878"
             ],
             [
              0.2222222222222222,
              "#3e4989"
             ],
             [
              0.3333333333333333,
              "#31688e"
             ],
             [
              0.4444444444444444,
              "#26828e"
             ],
             [
              0.5555555555555556,
              "#1f9e89"
             ],
             [
              0.6666666666666666,
              "#35b779"
             ],
             [
              0.7777777777777778,
              "#6ece58"
             ],
             [
              0.8888888888888888,
              "#b5de2b"
             ],
             [
              1,
              "#fde725"
             ]
            ],
            "type": "contour"
           }
          ],
          "contourcarpet": [
           {
            "colorbar": {
             "outlinewidth": 1,
             "tickcolor": "rgb(36,36,36)",
             "ticks": "outside"
            },
            "type": "contourcarpet"
           }
          ],
          "heatmap": [
           {
            "colorbar": {
             "outlinewidth": 1,
             "tickcolor": "rgb(36,36,36)",
             "ticks": "outside"
            },
            "colorscale": [
             [
              0,
              "#440154"
             ],
             [
              0.1111111111111111,
              "#482878"
             ],
             [
              0.2222222222222222,
              "#3e4989"
             ],
             [
              0.3333333333333333,
              "#31688e"
             ],
             [
              0.4444444444444444,
              "#26828e"
             ],
             [
              0.5555555555555556,
              "#1f9e89"
             ],
             [
              0.6666666666666666,
              "#35b779"
             ],
             [
              0.7777777777777778,
              "#6ece58"
             ],
             [
              0.8888888888888888,
              "#b5de2b"
             ],
             [
              1,
              "#fde725"
             ]
            ],
            "type": "heatmap"
           }
          ],
          "heatmapgl": [
           {
            "colorbar": {
             "outlinewidth": 1,
             "tickcolor": "rgb(36,36,36)",
             "ticks": "outside"
            },
            "colorscale": [
             [
              0,
              "#440154"
             ],
             [
              0.1111111111111111,
              "#482878"
             ],
             [
              0.2222222222222222,
              "#3e4989"
             ],
             [
              0.3333333333333333,
              "#31688e"
             ],
             [
              0.4444444444444444,
              "#26828e"
             ],
             [
              0.5555555555555556,
              "#1f9e89"
             ],
             [
              0.6666666666666666,
              "#35b779"
             ],
             [
              0.7777777777777778,
              "#6ece58"
             ],
             [
              0.8888888888888888,
              "#b5de2b"
             ],
             [
              1,
              "#fde725"
             ]
            ],
            "type": "heatmapgl"
           }
          ],
          "histogram": [
           {
            "marker": {
             "line": {
              "color": "white",
              "width": 0.6
             }
            },
            "type": "histogram"
           }
          ],
          "histogram2d": [
           {
            "colorbar": {
             "outlinewidth": 1,
             "tickcolor": "rgb(36,36,36)",
             "ticks": "outside"
            },
            "colorscale": [
             [
              0,
              "#440154"
             ],
             [
              0.1111111111111111,
              "#482878"
             ],
             [
              0.2222222222222222,
              "#3e4989"
             ],
             [
              0.3333333333333333,
              "#31688e"
             ],
             [
              0.4444444444444444,
              "#26828e"
             ],
             [
              0.5555555555555556,
              "#1f9e89"
             ],
             [
              0.6666666666666666,
              "#35b779"
             ],
             [
              0.7777777777777778,
              "#6ece58"
             ],
             [
              0.8888888888888888,
              "#b5de2b"
             ],
             [
              1,
              "#fde725"
             ]
            ],
            "type": "histogram2d"
           }
          ],
          "histogram2dcontour": [
           {
            "colorbar": {
             "outlinewidth": 1,
             "tickcolor": "rgb(36,36,36)",
             "ticks": "outside"
            },
            "colorscale": [
             [
              0,
              "#440154"
             ],
             [
              0.1111111111111111,
              "#482878"
             ],
             [
              0.2222222222222222,
              "#3e4989"
             ],
             [
              0.3333333333333333,
              "#31688e"
             ],
             [
              0.4444444444444444,
              "#26828e"
             ],
             [
              0.5555555555555556,
              "#1f9e89"
             ],
             [
              0.6666666666666666,
              "#35b779"
             ],
             [
              0.7777777777777778,
              "#6ece58"
             ],
             [
              0.8888888888888888,
              "#b5de2b"
             ],
             [
              1,
              "#fde725"
             ]
            ],
            "type": "histogram2dcontour"
           }
          ],
          "mesh3d": [
           {
            "colorbar": {
             "outlinewidth": 1,
             "tickcolor": "rgb(36,36,36)",
             "ticks": "outside"
            },
            "type": "mesh3d"
           }
          ],
          "parcoords": [
           {
            "line": {
             "colorbar": {
              "outlinewidth": 1,
              "tickcolor": "rgb(36,36,36)",
              "ticks": "outside"
             }
            },
            "type": "parcoords"
           }
          ],
          "pie": [
           {
            "automargin": true,
            "type": "pie"
           }
          ],
          "scatter": [
           {
            "fillpattern": {
             "fillmode": "overlay",
             "size": 10,
             "solidity": 0.2
            },
            "type": "scatter"
           }
          ],
          "scatter3d": [
           {
            "line": {
             "colorbar": {
              "outlinewidth": 1,
              "tickcolor": "rgb(36,36,36)",
              "ticks": "outside"
             }
            },
            "marker": {
             "colorbar": {
              "outlinewidth": 1,
              "tickcolor": "rgb(36,36,36)",
              "ticks": "outside"
             }
            },
            "type": "scatter3d"
           }
          ],
          "scattercarpet": [
           {
            "marker": {
             "colorbar": {
              "outlinewidth": 1,
              "tickcolor": "rgb(36,36,36)",
              "ticks": "outside"
             }
            },
            "type": "scattercarpet"
           }
          ],
          "scattergeo": [
           {
            "marker": {
             "colorbar": {
              "outlinewidth": 1,
              "tickcolor": "rgb(36,36,36)",
              "ticks": "outside"
             }
            },
            "type": "scattergeo"
           }
          ],
          "scattergl": [
           {
            "marker": {
             "colorbar": {
              "outlinewidth": 1,
              "tickcolor": "rgb(36,36,36)",
              "ticks": "outside"
             }
            },
            "type": "scattergl"
           }
          ],
          "scattermapbox": [
           {
            "marker": {
             "colorbar": {
              "outlinewidth": 1,
              "tickcolor": "rgb(36,36,36)",
              "ticks": "outside"
             }
            },
            "type": "scattermapbox"
           }
          ],
          "scatterpolar": [
           {
            "marker": {
             "colorbar": {
              "outlinewidth": 1,
              "tickcolor": "rgb(36,36,36)",
              "ticks": "outside"
             }
            },
            "type": "scatterpolar"
           }
          ],
          "scatterpolargl": [
           {
            "marker": {
             "colorbar": {
              "outlinewidth": 1,
              "tickcolor": "rgb(36,36,36)",
              "ticks": "outside"
             }
            },
            "type": "scatterpolargl"
           }
          ],
          "scatterternary": [
           {
            "marker": {
             "colorbar": {
              "outlinewidth": 1,
              "tickcolor": "rgb(36,36,36)",
              "ticks": "outside"
             }
            },
            "type": "scatterternary"
           }
          ],
          "surface": [
           {
            "colorbar": {
             "outlinewidth": 1,
             "tickcolor": "rgb(36,36,36)",
             "ticks": "outside"
            },
            "colorscale": [
             [
              0,
              "#440154"
             ],
             [
              0.1111111111111111,
              "#482878"
             ],
             [
              0.2222222222222222,
              "#3e4989"
             ],
             [
              0.3333333333333333,
              "#31688e"
             ],
             [
              0.4444444444444444,
              "#26828e"
             ],
             [
              0.5555555555555556,
              "#1f9e89"
             ],
             [
              0.6666666666666666,
              "#35b779"
             ],
             [
              0.7777777777777778,
              "#6ece58"
             ],
             [
              0.8888888888888888,
              "#b5de2b"
             ],
             [
              1,
              "#fde725"
             ]
            ],
            "type": "surface"
           }
          ],
          "table": [
           {
            "cells": {
             "fill": {
              "color": "rgb(237,237,237)"
             },
             "line": {
              "color": "white"
             }
            },
            "header": {
             "fill": {
              "color": "rgb(217,217,217)"
             },
             "line": {
              "color": "white"
             }
            },
            "type": "table"
           }
          ]
         },
         "layout": {
          "annotationdefaults": {
           "arrowhead": 0,
           "arrowwidth": 1
          },
          "autotypenumbers": "strict",
          "coloraxis": {
           "colorbar": {
            "outlinewidth": 1,
            "tickcolor": "rgb(36,36,36)",
            "ticks": "outside"
           }
          },
          "colorscale": {
           "diverging": [
            [
             0,
             "rgb(103,0,31)"
            ],
            [
             0.1,
             "rgb(178,24,43)"
            ],
            [
             0.2,
             "rgb(214,96,77)"
            ],
            [
             0.3,
             "rgb(244,165,130)"
            ],
            [
             0.4,
             "rgb(253,219,199)"
            ],
            [
             0.5,
             "rgb(247,247,247)"
            ],
            [
             0.6,
             "rgb(209,229,240)"
            ],
            [
             0.7,
             "rgb(146,197,222)"
            ],
            [
             0.8,
             "rgb(67,147,195)"
            ],
            [
             0.9,
             "rgb(33,102,172)"
            ],
            [
             1,
             "rgb(5,48,97)"
            ]
           ],
           "sequential": [
            [
             0,
             "#440154"
            ],
            [
             0.1111111111111111,
             "#482878"
            ],
            [
             0.2222222222222222,
             "#3e4989"
            ],
            [
             0.3333333333333333,
             "#31688e"
            ],
            [
             0.4444444444444444,
             "#26828e"
            ],
            [
             0.5555555555555556,
             "#1f9e89"
            ],
            [
             0.6666666666666666,
             "#35b779"
            ],
            [
             0.7777777777777778,
             "#6ece58"
            ],
            [
             0.8888888888888888,
             "#b5de2b"
            ],
            [
             1,
             "#fde725"
            ]
           ],
           "sequentialminus": [
            [
             0,
             "#440154"
            ],
            [
             0.1111111111111111,
             "#482878"
            ],
            [
             0.2222222222222222,
             "#3e4989"
            ],
            [
             0.3333333333333333,
             "#31688e"
            ],
            [
             0.4444444444444444,
             "#26828e"
            ],
            [
             0.5555555555555556,
             "#1f9e89"
            ],
            [
             0.6666666666666666,
             "#35b779"
            ],
            [
             0.7777777777777778,
             "#6ece58"
            ],
            [
             0.8888888888888888,
             "#b5de2b"
            ],
            [
             1,
             "#fde725"
            ]
           ]
          },
          "colorway": [
           "#1F77B4",
           "#FF7F0E",
           "#2CA02C",
           "#D62728",
           "#9467BD",
           "#8C564B",
           "#E377C2",
           "#7F7F7F",
           "#BCBD22",
           "#17BECF"
          ],
          "font": {
           "color": "rgb(36,36,36)"
          },
          "geo": {
           "bgcolor": "white",
           "lakecolor": "white",
           "landcolor": "white",
           "showlakes": true,
           "showland": true,
           "subunitcolor": "white"
          },
          "hoverlabel": {
           "align": "left"
          },
          "hovermode": "closest",
          "mapbox": {
           "style": "light"
          },
          "paper_bgcolor": "white",
          "plot_bgcolor": "white",
          "polar": {
           "angularaxis": {
            "gridcolor": "rgb(232,232,232)",
            "linecolor": "rgb(36,36,36)",
            "showgrid": false,
            "showline": true,
            "ticks": "outside"
           },
           "bgcolor": "white",
           "radialaxis": {
            "gridcolor": "rgb(232,232,232)",
            "linecolor": "rgb(36,36,36)",
            "showgrid": false,
            "showline": true,
            "ticks": "outside"
           }
          },
          "scene": {
           "xaxis": {
            "backgroundcolor": "white",
            "gridcolor": "rgb(232,232,232)",
            "gridwidth": 2,
            "linecolor": "rgb(36,36,36)",
            "showbackground": true,
            "showgrid": false,
            "showline": true,
            "ticks": "outside",
            "zeroline": false,
            "zerolinecolor": "rgb(36,36,36)"
           },
           "yaxis": {
            "backgroundcolor": "white",
            "gridcolor": "rgb(232,232,232)",
            "gridwidth": 2,
            "linecolor": "rgb(36,36,36)",
            "showbackground": true,
            "showgrid": false,
            "showline": true,
            "ticks": "outside",
            "zeroline": false,
            "zerolinecolor": "rgb(36,36,36)"
           },
           "zaxis": {
            "backgroundcolor": "white",
            "gridcolor": "rgb(232,232,232)",
            "gridwidth": 2,
            "linecolor": "rgb(36,36,36)",
            "showbackground": true,
            "showgrid": false,
            "showline": true,
            "ticks": "outside",
            "zeroline": false,
            "zerolinecolor": "rgb(36,36,36)"
           }
          },
          "shapedefaults": {
           "fillcolor": "black",
           "line": {
            "width": 0
           },
           "opacity": 0.3
          },
          "ternary": {
           "aaxis": {
            "gridcolor": "rgb(232,232,232)",
            "linecolor": "rgb(36,36,36)",
            "showgrid": false,
            "showline": true,
            "ticks": "outside"
           },
           "baxis": {
            "gridcolor": "rgb(232,232,232)",
            "linecolor": "rgb(36,36,36)",
            "showgrid": false,
            "showline": true,
            "ticks": "outside"
           },
           "bgcolor": "white",
           "caxis": {
            "gridcolor": "rgb(232,232,232)",
            "linecolor": "rgb(36,36,36)",
            "showgrid": false,
            "showline": true,
            "ticks": "outside"
           }
          },
          "title": {
           "x": 0.05
          },
          "xaxis": {
           "automargin": true,
           "gridcolor": "rgb(232,232,232)",
           "linecolor": "rgb(36,36,36)",
           "showgrid": false,
           "showline": true,
           "ticks": "outside",
           "title": {
            "standoff": 15
           },
           "zeroline": false,
           "zerolinecolor": "rgb(36,36,36)"
          },
          "yaxis": {
           "automargin": true,
           "gridcolor": "rgb(232,232,232)",
           "linecolor": "rgb(36,36,36)",
           "showgrid": false,
           "showline": true,
           "ticks": "outside",
           "title": {
            "standoff": 15
           },
           "zeroline": false,
           "zerolinecolor": "rgb(36,36,36)"
          }
         }
        },
        "updatemenus": [
         {
          "buttons": [
           {
            "args": [
             null,
             {
              "frame": {
               "duration": 500,
               "redraw": true
              },
              "fromcurrent": true,
              "mode": "immediate",
              "transition": {
               "duration": 500,
               "easing": "linear"
              }
             }
            ],
            "label": "&#9654;",
            "method": "animate"
           },
           {
            "args": [
             [
              null
             ],
             {
              "frame": {
               "duration": 0,
               "redraw": true
              },
              "fromcurrent": true,
              "mode": "immediate",
              "transition": {
               "duration": 0,
               "easing": "linear"
              }
             }
            ],
            "label": "&#9724;",
            "method": "animate"
           }
          ],
          "direction": "left",
          "pad": {
           "r": 10,
           "t": 70
          },
          "showactive": false,
          "type": "buttons",
          "x": 0.1,
          "xanchor": "right",
          "y": 0,
          "yanchor": "top"
         }
        ],
        "xaxis": {
         "anchor": "y",
         "categoryarray": [
          "Germany",
          "Spain",
          "United States of America"
         ],
         "categoryorder": "array",
         "domain": [
          0,
          1
         ],
         "title": {
          "text": "country_name"
         }
        },
        "yaxis": {
         "anchor": "x",
         "domain": [
          0,
          1
         ],
         "title": {
          "text": "value"
         }
        }
       }
      }
     },
     "metadata": {},
     "output_type": "display_data"
    }
   ],
   "source": [
    "px.bar(df1, animation_frame='date', x='country_name', y=['cumulative_deceased'], color='country_name', template='simple_white')"
   ]
  },
  {
   "cell_type": "code",
   "execution_count": null,
   "metadata": {},
   "outputs": [],
   "source": []
  }
 ],
 "metadata": {
  "kernelspec": {
   "display_name": "Python 3.10.12 64-bit",
   "language": "python",
   "name": "python3"
  },
  "language_info": {
   "codemirror_mode": {
    "name": "ipython",
    "version": 3
   },
   "file_extension": ".py",
   "mimetype": "text/x-python",
   "name": "python",
   "nbconvert_exporter": "python",
   "pygments_lexer": "ipython3",
   "version": "3.10.12"
  },
  "orig_nbformat": 4,
  "vscode": {
   "interpreter": {
    "hash": "916dbcbb3f70747c44a77c7bcd40155683ae19c65e1c03b4aa3499c5328201f1"
   }
  }
 },
 "nbformat": 4,
 "nbformat_minor": 2
}
