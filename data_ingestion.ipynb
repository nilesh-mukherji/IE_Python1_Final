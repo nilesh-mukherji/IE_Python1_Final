{
 "cells": [
  {
   "cell_type": "markdown",
   "metadata": {},
   "source": [
    "## Python 1 Project\n",
    "#### IE MBD Apr 2024\n",
    "#### Group 4"
   ]
  },
  {
   "cell_type": "code",
   "execution_count": 15,
   "metadata": {},
   "outputs": [],
   "source": [
    "import pandas as pd"
   ]
  },
  {
   "cell_type": "code",
   "execution_count": 16,
   "metadata": {},
   "outputs": [],
   "source": [
    "def read(path: str = None, db_config: dict = None):\n",
    "    \"\"\"\n",
    "    This function should read a filepath/DB and return a dataframe\n",
    "    \"\"\"\n",
    "\n",
    "    if db_config == None:\n",
    "        return pd.read_csv(path)\n",
    "    elif path == None:\n",
    "        # Database Logic\n",
    "        return None\n",
    "    else:\n",
    "        raise TypeError(\"What should we read???\")"
   ]
  },
  {
   "cell_type": "code",
   "execution_count": 17,
   "metadata": {},
   "outputs": [],
   "source": [
    "def processFiles(paths: dict = None, dbConfig: dict= None) -> tuple:\n",
    "    \"\"\" \n",
    "    Read files from the relevant paths and use functions above to clean\n",
    "    \"\"\"\n",
    "\n",
    "    retVal = []\n",
    "    if paths != None:\n",
    "        for path in paths['lst']:\n",
    "            raw_df = read(paths['path_root']+path)\n",
    "            raw_df.dropna(axis=1, inplace=True)\n",
    "            retVal.append(raw_df)\n",
    "    \n",
    "    return retVal\n",
    "\n"
   ]
  },
  {
   "cell_type": "code",
   "execution_count": 26,
   "metadata": {},
   "outputs": [],
   "source": [
    "def joinFrames(df_list: list) -> pd.DataFrame:\n",
    "    \"\"\"\n",
    "    Join DF's together\n",
    "    \"\"\"\n",
    "    retVal = 1\n",
    "    for df in df_list:\n",
    "        if isinstance(retVal, int):\n",
    "            retVal = df\n",
    "        else:\n",
    "            if 'date' in df.columns:\n",
    "                if 'date' in retVal.columns:\n",
    "                    retVal = retVal.merge(df, on=[\"location_key\", \"date\"], how=\"outer\")\n",
    "                    continue\n",
    "\n",
    "            retVal = retVal.merge(df, on=\"location_key\", how=\"outer\")\n",
    "\n",
    "    return retVal"
   ]
  },
  {
   "cell_type": "code",
   "execution_count": 19,
   "metadata": {},
   "outputs": [],
   "source": [
    "def write(df: pd.DataFrame, dbConfig: dict = None) -> pd.DataFrame:\n",
    "    \"\"\"\n",
    "    Write to CSV/DB\n",
    "    \"\"\""
   ]
  },
  {
   "cell_type": "code",
   "execution_count": 20,
   "metadata": {},
   "outputs": [],
   "source": [
    "def plot(df: pd.DataFrame) -> None:\n",
    "    \"\"\"\n",
    "    Plot relevant data from the DF\n",
    "    \"\"\""
   ]
  },
  {
   "cell_type": "code",
   "execution_count": 28,
   "metadata": {},
   "outputs": [
    {
     "name": "stdout",
     "output_type": "stream",
     "text": [
      "<class 'pandas.core.frame.DataFrame'>\n",
      "Int64Index: 3476734 entries, 0 to 3476733\n",
      "Data columns (total 13 columns):\n",
      " #   Column                               Dtype  \n",
      "---  ------                               -----  \n",
      " 0   location_key                         object \n",
      " 1   population                           float64\n",
      " 2   date                                 object \n",
      " 3   cumulative_confirmed                 float64\n",
      " 4   life_expectancy                      float64\n",
      " 5   country_code                         object \n",
      " 6   country_name                         object \n",
      " 7   subregion1_code                      object \n",
      " 8   subregion1_name                      object \n",
      " 9   iso_3166_1_alpha_2                   object \n",
      " 10  iso_3166_1_alpha_3                   object \n",
      " 11  aggregation_level                    float64\n",
      " 12  cumulative_persons_fully_vaccinated  float64\n",
      "dtypes: float64(5), object(8)\n",
      "memory usage: 371.4+ MB\n",
      "None\n"
     ]
    }
   ],
   "source": [
    "def main() -> None:\n",
    "\n",
    "    files_config = {\n",
    "        'lst': [\"demographics\", \"epidemiology\", \"health\", \"hospitalizations\", \"index\", \"vaccinations\"],\n",
    "        'path_root': \"./data/\"\n",
    "    }\n",
    "    clean_dfs = processFiles(files_config)\n",
    "    merged_dfs = joinFrames(clean_dfs)\n",
    "    print(merged_dfs.info)\n",
    "    write(merged_dfs)\n",
    "\n",
    "main()"
   ]
  }
 ],
 "metadata": {
  "kernelspec": {
   "display_name": "Python 3.10.12 64-bit",
   "language": "python",
   "name": "python3"
  },
  "language_info": {
   "codemirror_mode": {
    "name": "ipython",
    "version": 3
   },
   "file_extension": ".py",
   "mimetype": "text/x-python",
   "name": "python",
   "nbconvert_exporter": "python",
   "pygments_lexer": "ipython3",
   "version": "3.10.12"
  },
  "orig_nbformat": 4,
  "vscode": {
   "interpreter": {
    "hash": "916dbcbb3f70747c44a77c7bcd40155683ae19c65e1c03b4aa3499c5328201f1"
   }
  }
 },
 "nbformat": 4,
 "nbformat_minor": 2
}
